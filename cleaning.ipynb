{
 "cells": [
  {
   "cell_type": "code",
   "execution_count": 508,
   "metadata": {},
   "outputs": [],
   "source": [
    "import pandas as pd\n",
    "import numpy as np\n",
    "import matplotlib.pyplot as plt\n",
    "import seaborn as sns"
   ]
  },
  {
   "cell_type": "code",
   "execution_count": 509,
   "metadata": {},
   "outputs": [
    {
     "data": {
      "text/html": [
       "<div>\n",
       "<style scoped>\n",
       "    .dataframe tbody tr th:only-of-type {\n",
       "        vertical-align: middle;\n",
       "    }\n",
       "\n",
       "    .dataframe tbody tr th {\n",
       "        vertical-align: top;\n",
       "    }\n",
       "\n",
       "    .dataframe thead th {\n",
       "        text-align: right;\n",
       "    }\n",
       "</style>\n",
       "<table border=\"1\" class=\"dataframe\">\n",
       "  <thead>\n",
       "    <tr style=\"text-align: right;\">\n",
       "      <th></th>\n",
       "      <th>flat_type</th>\n",
       "      <th>price</th>\n",
       "      <th>address</th>\n",
       "      <th>buildup_area</th>\n",
       "      <th>avg_price_sqft</th>\n",
       "      <th>age_of_property</th>\n",
       "      <th>possesion_status</th>\n",
       "      <th>which_floor</th>\n",
       "      <th>facing</th>\n",
       "      <th>furnicing</th>\n",
       "      <th>project_name</th>\n",
       "      <th>brokrage</th>\n",
       "      <th>carpet_area</th>\n",
       "      <th>bedrooms</th>\n",
       "      <th>bathrooms</th>\n",
       "      <th>balcony</th>\n",
       "      <th>parking</th>\n",
       "      <th>about_property</th>\n",
       "    </tr>\n",
       "  </thead>\n",
       "  <tbody>\n",
       "    <tr>\n",
       "      <th>0</th>\n",
       "      <td>3 BHK Flat</td>\n",
       "      <td>3.95 Cr</td>\n",
       "      <td>Runwal Forest Tower 5 To 8, Kanjurmarg West, M...</td>\n",
       "      <td>1550 sq.ft</td>\n",
       "      <td>₹25.48 K/sq.ft</td>\n",
       "      <td>3 Year Old</td>\n",
       "      <td>Ready to move</td>\n",
       "      <td>Higherof 50 floors</td>\n",
       "      <td>Fully Furnished</td>\n",
       "      <td>NaN</td>\n",
       "      <td>Runwal Forest Tower 5 To 8</td>\n",
       "      <td>4.0 LacsAccess Zero Brokerage Properties</td>\n",
       "      <td>1130 sq.ft</td>\n",
       "      <td>3</td>\n",
       "      <td>2</td>\n",
       "      <td>1</td>\n",
       "      <td>2 Covered Parking</td>\n",
       "      <td>Exclusive 3 bhk with 3 bathroom apartment  ava...</td>\n",
       "    </tr>\n",
       "    <tr>\n",
       "      <th>1</th>\n",
       "      <td>1 BHK Flat</td>\n",
       "      <td>19.0 L</td>\n",
       "      <td>Ananta Vardhman Nagar, Tembhode, Palghar, Mumbai</td>\n",
       "      <td>630 sq.ft</td>\n",
       "      <td>₹3.02 K/sq.ft</td>\n",
       "      <td>3 Year Old</td>\n",
       "      <td>Ready to move</td>\n",
       "      <td>Middleof 4 floors</td>\n",
       "      <td>Unfurnished</td>\n",
       "      <td>NaN</td>\n",
       "      <td>Ananta Vardhman Nagar</td>\n",
       "      <td>No ChargeAccess Zero Brokerage Properties</td>\n",
       "      <td>390 sq.ft</td>\n",
       "      <td>1</td>\n",
       "      <td>1</td>\n",
       "      <td>2</td>\n",
       "      <td>1 Open Parking</td>\n",
       "      <td>1 BHK Flat for sale in Palghar, Mumbai - conta...</td>\n",
       "    </tr>\n",
       "    <tr>\n",
       "      <th>2</th>\n",
       "      <td>1 BHK Flat</td>\n",
       "      <td>73.0 L</td>\n",
       "      <td>JP North Barcelona, Kashimira, Mira Road East,...</td>\n",
       "      <td>580 sq.ft</td>\n",
       "      <td>₹12.59 K/sq.ft</td>\n",
       "      <td>1 Years Old</td>\n",
       "      <td>Ready to move</td>\n",
       "      <td>Lowerof 25 floors</td>\n",
       "      <td>Semi Furnished</td>\n",
       "      <td>NaN</td>\n",
       "      <td>JP North Barcelona</td>\n",
       "      <td>1.5 LacsAccess Zero Brokerage Properties</td>\n",
       "      <td>475 sq.ft</td>\n",
       "      <td>1</td>\n",
       "      <td>2</td>\n",
       "      <td>2</td>\n",
       "      <td>No Parking</td>\n",
       "      <td>1 BHK Flat for sale in Mumbai. This property i...</td>\n",
       "    </tr>\n",
       "    <tr>\n",
       "      <th>3</th>\n",
       "      <td>1 BHK Flat</td>\n",
       "      <td>1.1 Cr</td>\n",
       "      <td>Chandak Nischay, Ambawadi, Dahisar East, Mumbai</td>\n",
       "      <td>410 sq.ft</td>\n",
       "      <td>₹26.83 K/sq.ft</td>\n",
       "      <td>1 Years Old</td>\n",
       "      <td>Ready to move</td>\n",
       "      <td>Higherof 35 floors</td>\n",
       "      <td>Semi Furnished</td>\n",
       "      <td>NaN</td>\n",
       "      <td>Chandak Nischay</td>\n",
       "      <td>1.1 LacsAccess Zero Brokerage Properties</td>\n",
       "      <td>368 sq.ft</td>\n",
       "      <td>1</td>\n",
       "      <td>2</td>\n",
       "      <td>1</td>\n",
       "      <td>2 Covered Parking</td>\n",
       "      <td>Check out this 1 BHK Flat for sale in Dahisar ...</td>\n",
       "    </tr>\n",
       "    <tr>\n",
       "      <th>4</th>\n",
       "      <td>3 BHK Flat</td>\n",
       "      <td>2.25 Cr</td>\n",
       "      <td>Neelam Solstice Phase I, Nalanda Nagar, Ramaba...</td>\n",
       "      <td>1052 sq.ft</td>\n",
       "      <td>₹21.39 K/sq.ft</td>\n",
       "      <td>1 Years Old</td>\n",
       "      <td>Ready to move</td>\n",
       "      <td>Lowerof 26 floors</td>\n",
       "      <td>Semi Furnished</td>\n",
       "      <td>NaN</td>\n",
       "      <td>Neelam Solstice Phase I</td>\n",
       "      <td>2.1 LacsAccess Zero Brokerage Properties</td>\n",
       "      <td>915 sq.ft</td>\n",
       "      <td>3</td>\n",
       "      <td>2</td>\n",
       "      <td>3</td>\n",
       "      <td>1 Covered Parking</td>\n",
       "      <td>Situated in ghatkopar east, central mumbai sub...</td>\n",
       "    </tr>\n",
       "    <tr>\n",
       "      <th>...</th>\n",
       "      <td>...</td>\n",
       "      <td>...</td>\n",
       "      <td>...</td>\n",
       "      <td>...</td>\n",
       "      <td>...</td>\n",
       "      <td>...</td>\n",
       "      <td>...</td>\n",
       "      <td>...</td>\n",
       "      <td>...</td>\n",
       "      <td>...</td>\n",
       "      <td>...</td>\n",
       "      <td>...</td>\n",
       "      <td>...</td>\n",
       "      <td>...</td>\n",
       "      <td>...</td>\n",
       "      <td>...</td>\n",
       "      <td>...</td>\n",
       "      <td>...</td>\n",
       "    </tr>\n",
       "    <tr>\n",
       "      <th>9950</th>\n",
       "      <td>1 BHK Flat</td>\n",
       "      <td>97.0 L</td>\n",
       "      <td>Gokuldham tardeo, Gowalia Tank, Tardeo, Mumbai</td>\n",
       "      <td>315 sq.ft</td>\n",
       "      <td>₹30.79 K/sq.ft</td>\n",
       "      <td>Ready to move</td>\n",
       "      <td>North-West facing</td>\n",
       "      <td>Semi FurnishedFurnishing</td>\n",
       "      <td>NaN</td>\n",
       "      <td>NaN</td>\n",
       "      <td>No ChargeAccess Zero Brokerage Properties</td>\n",
       "      <td>97.0 L</td>\n",
       "      <td>1</td>\n",
       "      <td>1</td>\n",
       "      <td>No Balcony</td>\n",
       "      <td>More than a month ago</td>\n",
       "      <td>1 Open Parking</td>\n",
       "      <td>1 BHK Flat for sale in Tardeo, Mumbai with mod...</td>\n",
       "    </tr>\n",
       "    <tr>\n",
       "      <th>9951</th>\n",
       "      <td>3 BHK Independent House</td>\n",
       "      <td>5.5 Cr</td>\n",
       "      <td>Unnat Nagar, Motilal Nagar II, Goregaon West, ...</td>\n",
       "      <td>1000 sq.ft</td>\n",
       "      <td>₹55 K/sq.ft</td>\n",
       "      <td>Ready to move</td>\n",
       "      <td>North-West facing</td>\n",
       "      <td>Fully FurnishedFurnishing</td>\n",
       "      <td>NaN</td>\n",
       "      <td>NaN</td>\n",
       "      <td>Unnat Nagar</td>\n",
       "      <td>No ChargeAccess Zero Brokerage Properties</td>\n",
       "      <td>1000 sq.ft</td>\n",
       "      <td>3</td>\n",
       "      <td>1</td>\n",
       "      <td>2</td>\n",
       "      <td>No Parking</td>\n",
       "      <td>3 BHK Independent House for sale in Goregaon W...</td>\n",
       "    </tr>\n",
       "    <tr>\n",
       "      <th>9952</th>\n",
       "      <td>1 RK Independent House</td>\n",
       "      <td>40.0 L</td>\n",
       "      <td>Bhendi Bazaar, Bhuleshwar, Mumbai</td>\n",
       "      <td>200 sq.ft</td>\n",
       "      <td>₹20 K/sq.ft</td>\n",
       "      <td>Ready to move</td>\n",
       "      <td>North-West facing</td>\n",
       "      <td>Semi FurnishedFurnishing</td>\n",
       "      <td>NaN</td>\n",
       "      <td>NaN</td>\n",
       "      <td>No ChargeAccess Zero Brokerage Properties</td>\n",
       "      <td>40.0 L</td>\n",
       "      <td>1</td>\n",
       "      <td>1</td>\n",
       "      <td>-</td>\n",
       "      <td>More than a month ago</td>\n",
       "      <td>No Parking</td>\n",
       "      <td>One of the finest property in Bhuleshwar is no...</td>\n",
       "    </tr>\n",
       "    <tr>\n",
       "      <th>9953</th>\n",
       "      <td>2 BHK Flat</td>\n",
       "      <td>2.36 Cr</td>\n",
       "      <td>Gandhi Nagar, Kandivali West, Mumbai</td>\n",
       "      <td>706 sq.ft</td>\n",
       "      <td>₹33.41 K/sq.ft</td>\n",
       "      <td>2 Year Old</td>\n",
       "      <td>Ready to move</td>\n",
       "      <td>Middleof 40 floors</td>\n",
       "      <td>Unfurnished</td>\n",
       "      <td>NaN</td>\n",
       "      <td>Ruparel Elara</td>\n",
       "      <td>No ChargeAccess Zero Brokerage Properties</td>\n",
       "      <td>424 sq.ft</td>\n",
       "      <td>2</td>\n",
       "      <td>2</td>\n",
       "      <td>-</td>\n",
       "      <td>-</td>\n",
       "      <td>constructed numerous Commercial &amp; Residential ...</td>\n",
       "    </tr>\n",
       "    <tr>\n",
       "      <th>9954</th>\n",
       "      <td>1 BHK Flat</td>\n",
       "      <td>90.0 L</td>\n",
       "      <td>Angan, Rahul Nagar, Mulund West, Mumbai</td>\n",
       "      <td>500 sq.ft</td>\n",
       "      <td>₹18 K/sq.ft</td>\n",
       "      <td>Ready to move</td>\n",
       "      <td>North-West facing</td>\n",
       "      <td>North-West facingFacing</td>\n",
       "      <td>NaN</td>\n",
       "      <td>NaN</td>\n",
       "      <td>No ChargeAccess Zero Brokerage Properties</td>\n",
       "      <td>90.0 L</td>\n",
       "      <td>1</td>\n",
       "      <td>1</td>\n",
       "      <td>-</td>\n",
       "      <td>13 days ago</td>\n",
       "      <td>-</td>\n",
       "      <td>A 1 BHK Flat for sale in Mulund West, Mumbai. ...</td>\n",
       "    </tr>\n",
       "  </tbody>\n",
       "</table>\n",
       "<p>9955 rows × 18 columns</p>\n",
       "</div>"
      ],
      "text/plain": [
       "                    flat_type    price  \\\n",
       "0                  3 BHK Flat  3.95 Cr   \n",
       "1                  1 BHK Flat   19.0 L   \n",
       "2                  1 BHK Flat   73.0 L   \n",
       "3                  1 BHK Flat   1.1 Cr   \n",
       "4                  3 BHK Flat  2.25 Cr   \n",
       "...                       ...      ...   \n",
       "9950               1 BHK Flat   97.0 L   \n",
       "9951  3 BHK Independent House   5.5 Cr   \n",
       "9952   1 RK Independent House   40.0 L   \n",
       "9953               2 BHK Flat  2.36 Cr   \n",
       "9954               1 BHK Flat   90.0 L   \n",
       "\n",
       "                                                address buildup_area  \\\n",
       "0     Runwal Forest Tower 5 To 8, Kanjurmarg West, M...   1550 sq.ft   \n",
       "1      Ananta Vardhman Nagar, Tembhode, Palghar, Mumbai    630 sq.ft   \n",
       "2     JP North Barcelona, Kashimira, Mira Road East,...    580 sq.ft   \n",
       "3       Chandak Nischay, Ambawadi, Dahisar East, Mumbai    410 sq.ft   \n",
       "4     Neelam Solstice Phase I, Nalanda Nagar, Ramaba...   1052 sq.ft   \n",
       "...                                                 ...          ...   \n",
       "9950     Gokuldham tardeo, Gowalia Tank, Tardeo, Mumbai    315 sq.ft   \n",
       "9951  Unnat Nagar, Motilal Nagar II, Goregaon West, ...   1000 sq.ft   \n",
       "9952                  Bhendi Bazaar, Bhuleshwar, Mumbai    200 sq.ft   \n",
       "9953               Gandhi Nagar, Kandivali West, Mumbai    706 sq.ft   \n",
       "9954            Angan, Rahul Nagar, Mulund West, Mumbai    500 sq.ft   \n",
       "\n",
       "      avg_price_sqft age_of_property   possesion_status  \\\n",
       "0     ₹25.48 K/sq.ft      3 Year Old      Ready to move   \n",
       "1      ₹3.02 K/sq.ft      3 Year Old      Ready to move   \n",
       "2     ₹12.59 K/sq.ft     1 Years Old      Ready to move   \n",
       "3     ₹26.83 K/sq.ft     1 Years Old      Ready to move   \n",
       "4     ₹21.39 K/sq.ft     1 Years Old      Ready to move   \n",
       "...              ...             ...                ...   \n",
       "9950  ₹30.79 K/sq.ft   Ready to move  North-West facing   \n",
       "9951     ₹55 K/sq.ft   Ready to move  North-West facing   \n",
       "9952     ₹20 K/sq.ft   Ready to move  North-West facing   \n",
       "9953  ₹33.41 K/sq.ft      2 Year Old      Ready to move   \n",
       "9954     ₹18 K/sq.ft   Ready to move  North-West facing   \n",
       "\n",
       "                    which_floor           facing furnicing  \\\n",
       "0            Higherof 50 floors  Fully Furnished       NaN   \n",
       "1             Middleof 4 floors      Unfurnished       NaN   \n",
       "2             Lowerof 25 floors   Semi Furnished       NaN   \n",
       "3            Higherof 35 floors   Semi Furnished       NaN   \n",
       "4             Lowerof 26 floors   Semi Furnished       NaN   \n",
       "...                         ...              ...       ...   \n",
       "9950   Semi FurnishedFurnishing              NaN       NaN   \n",
       "9951  Fully FurnishedFurnishing              NaN       NaN   \n",
       "9952   Semi FurnishedFurnishing              NaN       NaN   \n",
       "9953         Middleof 40 floors      Unfurnished       NaN   \n",
       "9954    North-West facingFacing              NaN       NaN   \n",
       "\n",
       "                                   project_name  \\\n",
       "0                    Runwal Forest Tower 5 To 8   \n",
       "1                         Ananta Vardhman Nagar   \n",
       "2                            JP North Barcelona   \n",
       "3                               Chandak Nischay   \n",
       "4                       Neelam Solstice Phase I   \n",
       "...                                         ...   \n",
       "9950  No ChargeAccess Zero Brokerage Properties   \n",
       "9951                                Unnat Nagar   \n",
       "9952  No ChargeAccess Zero Brokerage Properties   \n",
       "9953                              Ruparel Elara   \n",
       "9954  No ChargeAccess Zero Brokerage Properties   \n",
       "\n",
       "                                       brokrage carpet_area bedrooms  \\\n",
       "0      4.0 LacsAccess Zero Brokerage Properties  1130 sq.ft        3   \n",
       "1     No ChargeAccess Zero Brokerage Properties   390 sq.ft        1   \n",
       "2      1.5 LacsAccess Zero Brokerage Properties   475 sq.ft        1   \n",
       "3      1.1 LacsAccess Zero Brokerage Properties   368 sq.ft        1   \n",
       "4      2.1 LacsAccess Zero Brokerage Properties   915 sq.ft        3   \n",
       "...                                         ...         ...      ...   \n",
       "9950                                     97.0 L           1        1   \n",
       "9951  No ChargeAccess Zero Brokerage Properties  1000 sq.ft        3   \n",
       "9952                                     40.0 L           1        1   \n",
       "9953  No ChargeAccess Zero Brokerage Properties   424 sq.ft        2   \n",
       "9954                                     90.0 L           1        1   \n",
       "\n",
       "       bathrooms                balcony            parking  \\\n",
       "0              2                      1  2 Covered Parking   \n",
       "1              1                      2     1 Open Parking   \n",
       "2              2                      2         No Parking   \n",
       "3              2                      1  2 Covered Parking   \n",
       "4              2                      3  1 Covered Parking   \n",
       "...          ...                    ...                ...   \n",
       "9950  No Balcony  More than a month ago     1 Open Parking   \n",
       "9951           1                      2         No Parking   \n",
       "9952           -  More than a month ago         No Parking   \n",
       "9953           2                      -                  -   \n",
       "9954           -            13 days ago                  -   \n",
       "\n",
       "                                         about_property  \n",
       "0     Exclusive 3 bhk with 3 bathroom apartment  ava...  \n",
       "1     1 BHK Flat for sale in Palghar, Mumbai - conta...  \n",
       "2     1 BHK Flat for sale in Mumbai. This property i...  \n",
       "3     Check out this 1 BHK Flat for sale in Dahisar ...  \n",
       "4     Situated in ghatkopar east, central mumbai sub...  \n",
       "...                                                 ...  \n",
       "9950  1 BHK Flat for sale in Tardeo, Mumbai with mod...  \n",
       "9951  3 BHK Independent House for sale in Goregaon W...  \n",
       "9952  One of the finest property in Bhuleshwar is no...  \n",
       "9953  constructed numerous Commercial & Residential ...  \n",
       "9954  A 1 BHK Flat for sale in Mulund West, Mumbai. ...  \n",
       "\n",
       "[9955 rows x 18 columns]"
      ]
     },
     "execution_count": 509,
     "metadata": {},
     "output_type": "execute_result"
    }
   ],
   "source": [
    "df = pd.read_csv(\"mumbai_flats.csv\")\n",
    "df"
   ]
  },
  {
   "cell_type": "code",
   "execution_count": 510,
   "metadata": {},
   "outputs": [],
   "source": [
    "df = df.drop(columns=['avg_price_sqft','possesion_status','project_name','brokrage','carpet_area','about_property'])"
   ]
  },
  {
   "cell_type": "code",
   "execution_count": 511,
   "metadata": {},
   "outputs": [
    {
     "data": {
      "text/plain": [
       "204"
      ]
     },
     "execution_count": 511,
     "metadata": {},
     "output_type": "execute_result"
    }
   ],
   "source": [
    "df.duplicated().sum()"
   ]
  },
  {
   "cell_type": "code",
   "execution_count": 512,
   "metadata": {},
   "outputs": [],
   "source": [
    "df.drop_duplicates(inplace=True)"
   ]
  },
  {
   "cell_type": "code",
   "execution_count": 513,
   "metadata": {},
   "outputs": [
    {
     "data": {
      "text/plain": [
       "(9751, 12)"
      ]
     },
     "execution_count": 513,
     "metadata": {},
     "output_type": "execute_result"
    }
   ],
   "source": [
    "df.shape"
   ]
  },
  {
   "cell_type": "code",
   "execution_count": 514,
   "metadata": {},
   "outputs": [
    {
     "data": {
      "text/plain": [
       "flat_type             0\n",
       "price                 1\n",
       "address               0\n",
       "buildup_area          0\n",
       "age_of_property       0\n",
       "which_floor          48\n",
       "facing             1934\n",
       "furnicing          9750\n",
       "bedrooms              1\n",
       "bathrooms           109\n",
       "balcony             188\n",
       "parking               1\n",
       "dtype: int64"
      ]
     },
     "execution_count": 514,
     "metadata": {},
     "output_type": "execute_result"
    }
   ],
   "source": [
    "df.isna().sum()"
   ]
  },
  {
   "cell_type": "code",
   "execution_count": 515,
   "metadata": {},
   "outputs": [
    {
     "data": {
      "text/html": [
       "<div>\n",
       "<style scoped>\n",
       "    .dataframe tbody tr th:only-of-type {\n",
       "        vertical-align: middle;\n",
       "    }\n",
       "\n",
       "    .dataframe tbody tr th {\n",
       "        vertical-align: top;\n",
       "    }\n",
       "\n",
       "    .dataframe thead th {\n",
       "        text-align: right;\n",
       "    }\n",
       "</style>\n",
       "<table border=\"1\" class=\"dataframe\">\n",
       "  <thead>\n",
       "    <tr style=\"text-align: right;\">\n",
       "      <th></th>\n",
       "      <th>flat_type</th>\n",
       "      <th>price</th>\n",
       "      <th>address</th>\n",
       "      <th>buildup_area</th>\n",
       "      <th>age_of_property</th>\n",
       "      <th>which_floor</th>\n",
       "      <th>facing</th>\n",
       "      <th>furnicing</th>\n",
       "      <th>bedrooms</th>\n",
       "      <th>bathrooms</th>\n",
       "      <th>balcony</th>\n",
       "      <th>parking</th>\n",
       "    </tr>\n",
       "  </thead>\n",
       "  <tbody>\n",
       "    <tr>\n",
       "      <th>9026</th>\n",
       "      <td>3 BHK Flat</td>\n",
       "      <td>2.25 Cr</td>\n",
       "      <td>Arihant Residency, Samarth Nagar, Sion, Mumbai</td>\n",
       "      <td>1309 sq.ft</td>\n",
       "      <td>1 Years Old</td>\n",
       "      <td>Higherof 23 floors</td>\n",
       "      <td>Unfurnished</td>\n",
       "      <td>NaN</td>\n",
       "      <td>3</td>\n",
       "      <td>2</td>\n",
       "      <td>No Balcony</td>\n",
       "      <td>1 Covered Parking</td>\n",
       "    </tr>\n",
       "    <tr>\n",
       "      <th>8154</th>\n",
       "      <td>3 BHK Flat</td>\n",
       "      <td>6.7 Cr</td>\n",
       "      <td>Godrej RKS, Postal Colony, Chembur, Mumbai</td>\n",
       "      <td>1579 sq.ft</td>\n",
       "      <td>1 Years Old</td>\n",
       "      <td>Middleof 16 floors</td>\n",
       "      <td>Semi Furnished</td>\n",
       "      <td>NaN</td>\n",
       "      <td>3</td>\n",
       "      <td>2</td>\n",
       "      <td>1</td>\n",
       "      <td>1 Covered and 1 Open Parking</td>\n",
       "    </tr>\n",
       "    <tr>\n",
       "      <th>3964</th>\n",
       "      <td>5 BHK Flat</td>\n",
       "      <td>12.0 Cr</td>\n",
       "      <td>Kamala Nagar, Vile Parle West, Mumbai</td>\n",
       "      <td>2000 sq.ft</td>\n",
       "      <td>6 Year Old</td>\n",
       "      <td>Middleof 12 floors</td>\n",
       "      <td>NaN</td>\n",
       "      <td>NaN</td>\n",
       "      <td>5</td>\n",
       "      <td>3</td>\n",
       "      <td>More than a month ago</td>\n",
       "      <td>No Parking</td>\n",
       "    </tr>\n",
       "    <tr>\n",
       "      <th>6083</th>\n",
       "      <td>1 BHK Flat</td>\n",
       "      <td>1.25 Cr</td>\n",
       "      <td>As on request, Daulat Nagar, Borivali East, Mu...</td>\n",
       "      <td>570 sq.ft</td>\n",
       "      <td>5 Year Old</td>\n",
       "      <td>Middleof 7 floors</td>\n",
       "      <td>Fully Furnished</td>\n",
       "      <td>NaN</td>\n",
       "      <td>2</td>\n",
       "      <td>No Balcony</td>\n",
       "      <td>3 days ago</td>\n",
       "      <td>1 Covered Parking</td>\n",
       "    </tr>\n",
       "    <tr>\n",
       "      <th>5138</th>\n",
       "      <td>2 BHK Flat</td>\n",
       "      <td>1.74 Cr</td>\n",
       "      <td>Ronit residence goregaon East, Aarey Colony, G...</td>\n",
       "      <td>820 sq.ft</td>\n",
       "      <td>6 Year Old</td>\n",
       "      <td>Higherof 12 floors</td>\n",
       "      <td>Unfurnished</td>\n",
       "      <td>NaN</td>\n",
       "      <td>2</td>\n",
       "      <td>No Balcony</td>\n",
       "      <td>16 days ago</td>\n",
       "      <td>1 Covered Parking</td>\n",
       "    </tr>\n",
       "    <tr>\n",
       "      <th>8766</th>\n",
       "      <td>3 BHK Flat</td>\n",
       "      <td>4.0 Cr</td>\n",
       "      <td>Yashwanth Nagar, Chembur, Mumbai</td>\n",
       "      <td>1250 sq.ft</td>\n",
       "      <td>2 Year Old</td>\n",
       "      <td>Higherof 15 floors</td>\n",
       "      <td>Fully Furnished</td>\n",
       "      <td>NaN</td>\n",
       "      <td>2</td>\n",
       "      <td>1</td>\n",
       "      <td>More than a month ago</td>\n",
       "      <td>1 Covered Parking</td>\n",
       "    </tr>\n",
       "  </tbody>\n",
       "</table>\n",
       "</div>"
      ],
      "text/plain": [
       "       flat_type    price                                            address  \\\n",
       "9026  3 BHK Flat  2.25 Cr     Arihant Residency, Samarth Nagar, Sion, Mumbai   \n",
       "8154  3 BHK Flat   6.7 Cr         Godrej RKS, Postal Colony, Chembur, Mumbai   \n",
       "3964  5 BHK Flat  12.0 Cr              Kamala Nagar, Vile Parle West, Mumbai   \n",
       "6083  1 BHK Flat  1.25 Cr  As on request, Daulat Nagar, Borivali East, Mu...   \n",
       "5138  2 BHK Flat  1.74 Cr  Ronit residence goregaon East, Aarey Colony, G...   \n",
       "8766  3 BHK Flat   4.0 Cr                   Yashwanth Nagar, Chembur, Mumbai   \n",
       "\n",
       "     buildup_area age_of_property         which_floor           facing  \\\n",
       "9026   1309 sq.ft     1 Years Old  Higherof 23 floors      Unfurnished   \n",
       "8154   1579 sq.ft     1 Years Old  Middleof 16 floors   Semi Furnished   \n",
       "3964   2000 sq.ft      6 Year Old  Middleof 12 floors              NaN   \n",
       "6083    570 sq.ft      5 Year Old   Middleof 7 floors  Fully Furnished   \n",
       "5138    820 sq.ft      6 Year Old  Higherof 12 floors      Unfurnished   \n",
       "8766   1250 sq.ft      2 Year Old  Higherof 15 floors  Fully Furnished   \n",
       "\n",
       "     furnicing bedrooms   bathrooms                balcony  \\\n",
       "9026       NaN        3           2             No Balcony   \n",
       "8154       NaN        3           2                      1   \n",
       "3964       NaN        5           3  More than a month ago   \n",
       "6083       NaN        2  No Balcony             3 days ago   \n",
       "5138       NaN        2  No Balcony            16 days ago   \n",
       "8766       NaN        2           1  More than a month ago   \n",
       "\n",
       "                           parking  \n",
       "9026             1 Covered Parking  \n",
       "8154  1 Covered and 1 Open Parking  \n",
       "3964                    No Parking  \n",
       "6083             1 Covered Parking  \n",
       "5138             1 Covered Parking  \n",
       "8766             1 Covered Parking  "
      ]
     },
     "execution_count": 515,
     "metadata": {},
     "output_type": "execute_result"
    }
   ],
   "source": [
    "df.sample(6)"
   ]
  },
  {
   "cell_type": "code",
   "execution_count": 516,
   "metadata": {},
   "outputs": [
    {
     "data": {
      "text/plain": [
       "array(['3 BHK Flat', '1 BHK Flat', '2 BHK Flat', '4 BHK Flat',\n",
       "       '7 BHK Flat', '1.5 BHK Flat', '3 BHK Independent Builder Floor',\n",
       "       '1 BHK Independent House', '5 BHK Independent Builder Floor',\n",
       "       '6 BHK Flat', '3 BHK Villa', '5 BHK Flat',\n",
       "       '4 BHK Independent House', '4 BHK Villa', '1 RK Flat',\n",
       "       '2 BHK Independent House', '3 BHK Independent House',\n",
       "       '5+ BHK Flat', '1 BHK Independent Builder Floor',\n",
       "       '3.99 Cr - 10.15 Cr', '4 BHK Independent Builder Floor',\n",
       "       '5 BHK Villa', '6 BHK Villa', '10 BHK Independent House',\n",
       "       'Agricultural Land', '1 RK Independent House'], dtype=object)"
      ]
     },
     "execution_count": 516,
     "metadata": {},
     "output_type": "execute_result"
    }
   ],
   "source": [
    "df['flat_type'].unique()"
   ]
  },
  {
   "cell_type": "code",
   "execution_count": 517,
   "metadata": {},
   "outputs": [],
   "source": [
    "df = df[df['flat_type'].isin(['1 BHK Flat', '2 BHK Flat', '3 BHK Flat','4 BHK Flat','5 BHK Flat','6 BHK Flat','7 BHK Flat'])]"
   ]
  },
  {
   "cell_type": "code",
   "execution_count": 518,
   "metadata": {},
   "outputs": [
    {
     "data": {
      "text/plain": [
       "(9642, 12)"
      ]
     },
     "execution_count": 518,
     "metadata": {},
     "output_type": "execute_result"
    }
   ],
   "source": [
    "df.shape"
   ]
  },
  {
   "cell_type": "code",
   "execution_count": 519,
   "metadata": {},
   "outputs": [
    {
     "data": {
      "text/plain": [
       "array(['3.95 Cr', '19.0 L', '73.0 L', '1.1 Cr', '2.25 Cr', '2.75 Cr',\n",
       "       '2.1 Cr', '7.5 Cr', '1.0 Cr', '2.2 Cr', '5.4 Cr', '4.45 Cr',\n",
       "       '5.24 Cr', '2.8 Cr', '1.2 Cr', '2.04 Cr', '11.0 Cr', '66.0 L',\n",
       "       '2.38 Cr', '2.15 Cr', '2.0 Cr', '38.0 L', '3.85 Cr', '72.0 L',\n",
       "       '6.8 Cr', '60.41 L', '4.2 Cr', '2.5 Cr', '1.52 Cr', '7.2 Cr',\n",
       "       '1.3 Cr', '1.35 Cr', '6.5 Cr', '32.0 L', '40.0 L', '2.4 Cr',\n",
       "       '95.0 L', '3.6 Cr', '8.74 Cr', '1.04 Cr', '2.65 Cr', '5.22 Cr',\n",
       "       '30.0 L', '4.3 Cr', '2.6 Cr', '2.7 Cr', '3.56 Cr', '5.75 Cr',\n",
       "       '25.5 L', '1.45 Cr', '9.39 Cr', '1.65 Cr', '2.05 Cr', '2.47 Cr',\n",
       "       '88.0 L', '5.21 Cr', '1.15 Cr', '2.35 Cr', '1.6 Cr', '60.0 L',\n",
       "       '2.95 Cr', '1.88 Cr', '15.0 Cr', '1.19 Cr', '1.95 Cr', '33.47 L',\n",
       "       '1.18 Cr', '1.58 Cr', '5.0 Cr', '4.25 Cr', '2.03 Cr', '2.84 Cr',\n",
       "       '17.6 Cr', '3.25 Cr', '3.4 Cr', '3.71 Cr', '5.76 Cr', '1.5 Cr',\n",
       "       '5.1 Cr', '9.24 Cr', '3.2 Cr', '1.05 Cr', '4.1 Cr', '3.5 Cr',\n",
       "       '1.75 Cr', '1.12 Cr', '4.75 Cr', '1.66 Cr', '90.0 L', '3.65 Cr',\n",
       "       '1.8 Cr', '53.0 L', '1.9 Cr', '3.3 Cr', '1.85 Cr', '33.0 L',\n",
       "       '63.0 L', '3.0 Cr', '36.0 L', '47.0 L', '1.32 Cr', '87.9 L',\n",
       "       '6.3 Cr', '34.0 L', '1.22 Cr', '1.47 Cr', '4.8 Cr', '1.31 Cr',\n",
       "       '2.83 Cr', '2.62 Cr', '94.5 L', '5.48 Cr', '1.55 Cr', '2.9 Cr',\n",
       "       '1.54 Cr', '85.0 L', '2.3 Cr', '3.15 Cr', '49.0 L', '4.55 Cr',\n",
       "       '5.35 Cr', '4.15 Cr', '3.75 Cr', '4.5 Cr', '78.5 L', '39.99 L',\n",
       "       '5.5 Cr', '6.7 Cr', '4.48 Cr', '1.63 Cr', '97.0 L', '44.0 L',\n",
       "       '43.99 L', '2.52 Cr', '28.0 L', '8.5 Cr', '4.18 Cr', '55.0 L',\n",
       "       '1.08 Cr', '27.0 L', '45.0 L', '89.0 L', '1.28 Cr', '35.0 L',\n",
       "       '5.6 Cr', '4.68 Cr', '4.85 Cr', '99.0 L', '7.25 Cr', '59.0 L',\n",
       "       '1.93 Cr', '3.1 Cr', '21.5 L', '1.79 Cr', '1.11 Cr', '1.39 Cr',\n",
       "       '4.7 Cr', '1.82 Cr', '4.99 Cr', '48.25 L', '2.45 Cr', '2.48 Cr',\n",
       "       '63.09 L', '65.0 L', '62.6 L', '82.0 L', '1.71 Cr', '1.4 Cr',\n",
       "       '1.59 Cr', '1.81 Cr', '40.22 L', '18.0 L', '87.0 L', '4.65 Cr',\n",
       "       '6.0 Cr', '1.86 Cr', '93.0 L', '79.0 L', '70.0 L', '2.69 Cr',\n",
       "       '8.0 Cr', '3.08 Cr', '64.0 L', '50.5 L', '80.0 L', '2.99 Cr',\n",
       "       '1.29 Cr', '25.0 L', '5.49 Cr', '3.45 Cr', '1.69 Cr', '2.61 Cr',\n",
       "       '24.5 L', '6.95 Cr', '10.0 Cr', '96.0 L', '2.21 Cr', '2.49 Cr',\n",
       "       '1.83 Cr', '3.26 Cr', '1.25 Cr', '2.12 Cr', '1.07 Cr', '65.5 L',\n",
       "       '6.75 Cr', '1.7 Cr', '3.9 Cr', '34.5 L', '4.59 Cr', '30.5 L',\n",
       "       '17.0 Cr', '62.5 L', '2.22 Cr', '2.68 Cr', '4.77 Cr', '1.98 Cr',\n",
       "       '74.0 L', '60.5 L', '3.51 Cr', '53.08 L', '4.12 Cr', '2.89 Cr',\n",
       "       '3.67 Cr', '1.68 Cr', '11.11 Cr', '97.5 L', '2.98 Cr', '1.48 Cr',\n",
       "       '1.02 Cr', '1.38 Cr', '86.22 L', '39.5 L', '3.91 Cr', '1.77 Cr',\n",
       "       '14.25 Cr', '7.4 Cr', '3.33 Cr', '6.1 Cr', '5.3 Cr', '31.5 L',\n",
       "       '2.17 Cr', '10.75 Cr', '26.0 L', '2.27 Cr', '14.0 Cr', '3.55 Cr',\n",
       "       '3.28 Cr', '3.54 Cr', '1.76 Cr', '32.88 L', '1.72 Cr', '71.0 L',\n",
       "       '12.0 Cr', '2.54 Cr', '2.57 Cr', '46.0 L', '1.09 Cr', '21.0 Cr',\n",
       "       '3.8 Cr', '89.5 L', '4.09 Cr', '2.53 Cr', '11.5 Cr', '1.53 Cr',\n",
       "       '68.9 L', '5.25 Cr', '5.05 Cr', '5.65 Cr', '31.22 L', '86.0 L',\n",
       "       '2.19 Cr', '58.14 L', '1.03 Cr', '77.0 L', '67.5 L', '69.5 L',\n",
       "       '2.85 Cr', '3.21 Cr', '11.4 Cr', '3.35 Cr', '16.05 Cr', '1.27 Cr',\n",
       "       '2.41 Cr', '32.5 L', '7.75 Cr', '1.73 Cr', '38.5 L', '40.5 L',\n",
       "       '3.84 Cr', '3.11 Cr', '7.0 Cr', '48.0 L', '1.57 Cr', '2.28 Cr',\n",
       "       '68.0 L', '32.0 Cr', '88.19 L', '62.0 L', '6.9 Cr', '4.05 Cr',\n",
       "       '16.0 Cr', '41.0 L', '5.8 Cr', '33.5 L', '54.33 L', '75.0 L',\n",
       "       '2.08 Cr', '60.01 L', '83.0 L', '3.7 Cr', '78.0 L', '1.36 Cr',\n",
       "       '61.0 L', '45.67 L', '69.8 L', '39.0 L', '64.57 L', '1.42 Cr',\n",
       "       '2.55 Cr', '9.75 Cr', '9.5 Cr', '64.06 L', '56.9 L', '85.21 L',\n",
       "       '84.0 L', '3.05 Cr', '31.03 L', '10.5 Cr', '1.17 Cr', '94.0 L',\n",
       "       '9.04 Cr', '97.52 L', '65.24 L', '7.65 Cr', '58.0 L', '3.09 Cr',\n",
       "       '86.2 L', '3.39 Cr', '88.41 L', '75.1 L', '61.5 L', '88.79 L',\n",
       "       '64.5 L', '56.83 L', '81.51 L', '63.82 L', '61.77 L', '76.11 L',\n",
       "       '58.32 L', '80.99 L', '89.05 L', '52.0 L', '2.23 Cr', '83.34 L',\n",
       "       '51.0 L', '89.99 L', '15.0 L', '58.99 L', '84.56 L', '62.34 L',\n",
       "       '63.68 L', '95.64 L', '60.72 L', '65.42 L', '93.5 L', '59.29 L',\n",
       "       '8.1 Cr', '8.3 Cr', '5.15 Cr', '8.2 Cr', '8.4 Cr', '4.9 Cr',\n",
       "       '7.9 Cr', '3.43 Cr', '1.21 Cr', '98.0 L', '92.0 L', '67.0 L',\n",
       "       '23.0 Cr', '3.99 Cr', '9.0 Cr', '4.0 Cr', '99.77 L', '72.7 L',\n",
       "       '75.79 L', '82.28 L', '64.09 L', '63.26 L', '6.25 Cr', '7.3 Cr',\n",
       "       '4.23 Cr', '6.58 Cr', '6.89 Cr', '7.11 Cr', '4.35 Cr', '1.78 Cr',\n",
       "       '2.72 Cr', '3.18 Cr', '7.35 Cr', '4.6 Cr', '61.9 L', '59.9 L',\n",
       "       '12.2 Cr', '4.72 Cr', '6.51 Cr', '61.38 L', '5.85 Cr', '63.1 L',\n",
       "       '63.99 L', '93.39 L', '12.25 Cr', '13.5 Cr', '3.68 Cr', '50.0 L',\n",
       "       '1.91 Cr', '9.89 Cr', '5.2 Cr', '6.4 Cr', '5.78 Cr', '98.91 L',\n",
       "       '66.54 L', '2.42 Cr', '1.43 Cr', '1.61 Cr', '2.51 Cr', '34.22 L',\n",
       "       '1.92 Cr', '1.34 Cr', '3.47 Cr', '2.59 Cr', '33.3 L', '53.21 L',\n",
       "       '35.41 L', '51.62 L', '22.5 Cr', '34.67 L', '53.79 L', '32.78 L',\n",
       "       '1.64 Cr', '1.24 Cr', '2.58 Cr', '6.81 Cr', '2.56 Cr', '29.0 L',\n",
       "       '63.5 L', '2.86 Cr', '1.23 Cr', '95.5 L', '19.7 L', '42.0 L',\n",
       "       '31.7 L', '1.06 Cr', '67.66 L', '1.16 Cr', '43.0 L', '69.0 L',\n",
       "       '54.0 L', '13.96 L', '20.0 L', '1.37 Cr', '1.01 Cr', '1.33 Cr',\n",
       "       '1.26 Cr', '99.49 L', '87.5 L', '92.38 L', '53.88 L', '63.25 L',\n",
       "       '33.28 L', '79.5 L', '61.88 L', '54.49 L', '33.1 L', '32.3 L',\n",
       "       '28.5 L', '34.52 L', '62.4 L', '64.88 L', '62.39 L', '70.67 L',\n",
       "       '69.18 L', '71.49 L', '31.99 L', '74.23 L', '66.76 L', '61.18 L',\n",
       "       '65.77 L', '67.18 L', '70.23 L', '64.99 L', '57.67 L', '39.56 L',\n",
       "       '89.37 L', '1.14 Cr', '65.36 L', '32.6 L', '59.5 L', '57.0 L',\n",
       "       '29.44 L', '59.99 L', '57.5 L', '21.0 L', '23.5 L', '25.8 L',\n",
       "       '23.7 L', '24.4 L', '27.5 L', '64.9 L', '75.6 L', '1.74 Cr',\n",
       "       '1.46 Cr', '91.0 L', '76.0 L', '96.27 L', '84.53 L', '68.5 L',\n",
       "       '75.5 L', '1.99 Cr', '66.17 L', '32.49 L', '29.7 L', '28.37 L',\n",
       "       '31.0 L', '28.4 L', '29.5 L', '34.19 L', '28.49 L', '1.49 Cr',\n",
       "       '32.57 L', '32.14 L', '37.17 L', '36.99 L', '42.5 L', '33.99 L',\n",
       "       '33.75 L', '66.52 L', '24.51 L', '33.52 L', '22.0 L', '82.78 L',\n",
       "       '32.9 L', '33.9 L', '60.08 L', '61.12 L', '41.36 L', '44.91 L',\n",
       "       '66.04 L', '53.66 L', '57.96 L', '21.4 Cr', '4.42 Cr', '4.32 Cr',\n",
       "       '2.24 Cr', '2.78 Cr', '38.93 L', '35.0 Cr', '36.5 L', '3.82 Cr',\n",
       "       '4.14 Cr', '51.3 L', '52.5 L', '2.96 Cr', '9.25 Cr', '3.44 Cr',\n",
       "       '2.66 Cr', '1.96 Cr', '4.46 Cr', '24.0 Cr', '4.51 Cr', '1.84 Cr',\n",
       "       '12.5 Cr', '79.9 L', '2.73 Cr', '2.33 Cr', '4.94 Cr', '13.78 Cr',\n",
       "       '2.02 Cr', '2.79 Cr', '3.36 Cr', '3.02 Cr', '2.09 Cr', '2.11 Cr',\n",
       "       '2.46 Cr', '7.6 Cr', '5.9 Cr', '5.7 Cr', '49.9 L', '1.87 Cr',\n",
       "       '88.2 L', '87.07 L', '2.14 Cr', '1.56 Cr', '1.67 Cr', '2.06 Cr',\n",
       "       '1.41 Cr', '84.05 L', '92.53 L', '4.22 Cr', '51.75 L', '62.71 L',\n",
       "       '26.22 L', '27.6 L', '66.5 L', '2.29 Cr', '37.0 L', '81.0 L',\n",
       "       '24.0 L', '18.5 L', '70.5 L', '38.75 L', '37.75 L', '24.2 L',\n",
       "       '20.5 L', '52.9 L', '51.36 L', '33.91 L', '36.89 L', '27.8 L',\n",
       "       '28.99 L', '58.5 L', '16.99 L', '29.51 L', '47.5 L', '23.8 L',\n",
       "       '56.0 L', '94.99 L', '1.13 Cr', '23.0 L', '19.0 Cr', '29.0 Cr',\n",
       "       '4.37 Cr', '14.5 Cr', '15.5 Cr', '9.2 Cr', '4.19 Cr', '8.25 Cr',\n",
       "       '3.58 Cr', '9.9 Cr', '25.0 Cr', '5.57 Cr', '17.5 Cr', '6.2 Cr',\n",
       "       '5.55 Cr', '6.15 Cr', '12.06 Cr', '6.05 Cr', '13.0 Cr', '13.95 Cr',\n",
       "       '10.26 Cr', '6.49 Cr', '20.0 Cr', '9.3 Cr', '19.65 Cr', '26.0 Cr',\n",
       "       '4.95 Cr', '36.0 Cr', '16.5 Cr', '30.0 Cr', '4.52 Cr', '5.45 Cr',\n",
       "       '13.9 Cr', '10.6 Cr', '4.31 Cr', '17.57 Cr', '11.25 Cr', '3.69 Cr',\n",
       "       '9.1 Cr', '10.35 Cr', '6.35 Cr', '4.79 Cr', '31.0 Cr', '6.99 Cr',\n",
       "       '7.29 Cr', '45.0 Cr', '18.0 Cr', '7.8 Cr', '7.1 Cr', '8.6 Cr',\n",
       "       '27.0 Cr', '6.11 Cr', '4.43 Cr', '13.25 Cr', '22.0 Cr', '7.19 Cr',\n",
       "       '4.17 Cr', '3.88 Cr', '18.5 Cr', '7.95 Cr', '13.51 Cr', '10.41 Cr',\n",
       "       '5.18 Cr', '7.05 Cr', '40.0 Cr', '4.53 Cr', '16.55 Cr', '11.35 Cr',\n",
       "       '6.56 Cr', '10.99 Cr', '8.7 Cr', '28.0 Cr', '13.1 Cr', '50.0 Cr',\n",
       "       '10.25 Cr', '3.61 Cr', '18.75 Cr', '9.6 Cr', '9.45 Cr', '4.29 Cr',\n",
       "       '17.75 Cr', '14.9 Cr', '8.55 Cr', '8.45 Cr', '14.99 Cr', '9.99 Cr',\n",
       "       '8.62 Cr', '7.17 Cr', '6.12 Cr', '5.02 Cr', '4.41 Cr', '3.34 Cr',\n",
       "       '4.73 Cr', '8.65 Cr', '3.92 Cr', '6.92 Cr', '6.06 Cr', '7.62 Cr',\n",
       "       '16.46 Cr', '4.38 Cr', '3.78 Cr', '20.37 Cr', '12.73 Cr',\n",
       "       '17.71 Cr', '5.84 Cr', '5.39 Cr', '8.75 Cr', '12.99 Cr', '3.29 Cr',\n",
       "       '8.99 Cr', '7.15 Cr', '4.4 Cr', '5.97 Cr', '11.37 Cr', '10.2 Cr',\n",
       "       '10.33 Cr', '7.45 Cr', '8.23 Cr', '7.02 Cr', '18.7 Cr', '5.23 Cr',\n",
       "       '3.97 Cr', '10.88 Cr', '10.39 Cr', '7.21 Cr', '4.26 Cr', '53.5 L',\n",
       "       '1.89 Cr', '4.49 Cr', '59.8 L', '93.8 L', '86.5 L', '72.35 L',\n",
       "       '2.77 Cr', '4.27 Cr', '1.94 Cr', '4.74 Cr', '11.99 Cr', '38.25 L',\n",
       "       '7.7 Cr', '4.47 Cr', '3.19 Cr', '7.31 Cr', '53.51 L', '31.88 L',\n",
       "       '52.8 L', '4.21 Cr', '1.97 Cr', '3.72 Cr', '2.18 Cr', '99.5 L',\n",
       "       '9.4 L', '52.7 L', '54.9 L', '6.85 Cr', '60.2 L', '6.79 Cr',\n",
       "       '66.63 L', '3.22 Cr', '37.0 Cr', '45.5 L', '7.69 Cr', '7.59 Cr',\n",
       "       '4.61 Cr', '67.89 L', '27.99 L', '3.52 Cr', '66.27 L', '26.37 L',\n",
       "       '2.16 Cr', '2.81 Cr', '67.09 L', '5.95 Cr', '61.66 L', '63.32 L',\n",
       "       '58.17 L', '58.61 L', '37.5 L', '5.56 Cr', '34.8 L', '13.4 Cr',\n",
       "       '12.09 Cr', '12.17 Cr', '35.5 L', '7.92 Cr', '30.99 L', '48.75 L',\n",
       "       '1.51 Cr', '25.11 L', '23.3 L', '6.6 Cr', '32.84 L', '24.3 L',\n",
       "       '21.7 L', '22.1 L', '25.7 L', '35.25 L', '52.1 L', '33.8 L',\n",
       "       '53.7 L', '35.6 L', '22.46 L', '96.5 L', '83.51 L', '57.99 L',\n",
       "       '33.27 L', '53.4 L', '52.13 L', '73.5 L', '7.8 L', '31.3 L',\n",
       "       '74.22 L', '65.23 L', '92.98 L', '26.85 L', '26.5 L', '53.1 L',\n",
       "       '25.2 L', '25.52 L', '35.24 L', '26.3 L', '100.0 L', '59.75 L',\n",
       "       '53.36 L', '44.5 L', '4.01 Cr', '2.01 Cr', '3.38 Cr', '2.31 Cr',\n",
       "       '3.12 Cr', '2.07 Cr', '1.62 Cr', '90.48 L', '1.44 Cr', '85.5 L',\n",
       "       '47.99 L', '50.01 L', '52.48 L', '51.16 L', '82.5 L', '64.39 L',\n",
       "       '74.21 L', '74.51 L', '87.82 L', '75.51 L', '68.25 L', '88.4 L',\n",
       "       '59.08 L', '2.76 Cr', '2.39 Cr', '72.5 L', '43.5 L', '45.9 L',\n",
       "       '3.17 Cr', '54.09 L', '3.73 Cr', '10.1 Cr', '56.5 L', '4.98 Cr',\n",
       "       '12.6 Cr', '3.24 Cr', '12.8 Cr', '3.01 Cr', '3.86 Cr', '2.88 Cr',\n",
       "       '2.26 Cr', '6.97 Cr', '5.63 Cr', '58.56 L', '3.48 Cr', '9.8 Cr',\n",
       "       '5.98 Cr', '2.36 Cr', '4.96 Cr', '4.89 Cr', '4.78 Cr', '2.34 Cr',\n",
       "       '4.11 Cr', '3.49 Cr', '2.93 Cr', '2.67 Cr', '6.59 Cr', '5.99 Cr',\n",
       "       '3.27 Cr', '6.45 Cr', '6.55 Cr', '14.6 Cr', '3.14 Cr', '6.91 Cr',\n",
       "       '6.84 Cr', '2.44 Cr', '3.04 Cr', '8.53 Cr', '17.25 Cr', '7.24 Cr',\n",
       "       '4.28 Cr', '3.13 Cr', '4.92 Cr', '3.42 Cr', '7.76 Cr', '2.64 Cr',\n",
       "       '3.06 Cr', '9.15 Cr', '2.13 Cr', '3.74 Cr', '3.81 Cr', '16.75 Cr',\n",
       "       '4.87 Cr', '9.31 Cr', '4.36 Cr', '4.44 Cr', '3.76 Cr', '5.91 Cr',\n",
       "       '6.53 Cr', '6.08 Cr', '4.64 Cr', '5.26 Cr', '4.34 Cr', '7.85 Cr',\n",
       "       '63.9 L', '9.61 Cr', '4.57 Cr', '78.75 L', '2.92 Cr', '12.5 L',\n",
       "       '6.66 Cr', '38.49 L', '4.13 Cr', '51.7 L', '63.59 L', '8.9 Cr',\n",
       "       '91.27 L', '2.63 Cr', '63.75 L', '51.5 L', '45.58 L', '93.93 L',\n",
       "       '2.32 Cr', '45.43 L', '7.74 Cr'], dtype=object)"
      ]
     },
     "execution_count": 519,
     "metadata": {},
     "output_type": "execute_result"
    }
   ],
   "source": [
    "df['price'].unique()"
   ]
  },
  {
   "cell_type": "code",
   "execution_count": 520,
   "metadata": {},
   "outputs": [
    {
     "data": {
      "text/plain": [
       "price\n",
       "59.9 L      1\n",
       "3.7 Cr     22\n",
       "6.05 Cr     1\n",
       "9.2 Cr      3\n",
       "8.2 Cr      3\n",
       "7.24 Cr     1\n",
       "Name: count, dtype: int64"
      ]
     },
     "execution_count": 520,
     "metadata": {},
     "output_type": "execute_result"
    }
   ],
   "source": [
    "df['price'].value_counts().sample(6)"
   ]
  },
  {
   "cell_type": "code",
   "execution_count": 521,
   "metadata": {},
   "outputs": [],
   "source": [
    "def price_coverter(price):\n",
    "    if 'L' in price:\n",
    "        lakhs = price.split(\" \")[0]\n",
    "        return round(float(lakhs)/100,2)\n",
    "    else:\n",
    "        return float(price.split(\" \")[0])"
   ]
  },
  {
   "cell_type": "code",
   "execution_count": 522,
   "metadata": {},
   "outputs": [
    {
     "data": {
      "text/plain": [
       "1.5"
      ]
     },
     "execution_count": 522,
     "metadata": {},
     "output_type": "execute_result"
    }
   ],
   "source": [
    "price_coverter(\"1.5 Cr\")"
   ]
  },
  {
   "cell_type": "code",
   "execution_count": 523,
   "metadata": {},
   "outputs": [],
   "source": [
    "df['price'] = df['price'].str.strip().apply(price_coverter)"
   ]
  },
  {
   "cell_type": "code",
   "execution_count": 524,
   "metadata": {},
   "outputs": [
    {
     "data": {
      "text/plain": [
       "address\n",
       "DLH Legacy, Juhu Scheme, Juhu, Mumbai                                         1\n",
       "khakkar Apartment, Sai Nagar, Kandivali West, Mumbai                          1\n",
       "Shree Ostwal Ostwal Orchid 1 2 3 4 5, Beverly Park, Mira Road East, Mumbai    1\n",
       "Supreme Lake Primrose, Panchkutir Ganesh Nagar, Powai, Mumbai                 1\n",
       "Sajjan Wadi, Mulund East, Mumbai                                              1\n",
       "New Dadar Chs, Naigaon, Dadar East, Mumbai                                    1\n",
       "Name: count, dtype: int64"
      ]
     },
     "execution_count": 524,
     "metadata": {},
     "output_type": "execute_result"
    }
   ],
   "source": [
    "df['address'].value_counts().sample(6)"
   ]
  },
  {
   "cell_type": "code",
   "execution_count": 525,
   "metadata": {},
   "outputs": [],
   "source": [
    "df['address'] = df['address'].str.strip().str.split(\",\").str[-2].str.strip()"
   ]
  },
  {
   "cell_type": "code",
   "execution_count": 526,
   "metadata": {},
   "outputs": [
    {
     "data": {
      "text/html": [
       "<div>\n",
       "<style scoped>\n",
       "    .dataframe tbody tr th:only-of-type {\n",
       "        vertical-align: middle;\n",
       "    }\n",
       "\n",
       "    .dataframe tbody tr th {\n",
       "        vertical-align: top;\n",
       "    }\n",
       "\n",
       "    .dataframe thead th {\n",
       "        text-align: right;\n",
       "    }\n",
       "</style>\n",
       "<table border=\"1\" class=\"dataframe\">\n",
       "  <thead>\n",
       "    <tr style=\"text-align: right;\">\n",
       "      <th></th>\n",
       "      <th>flat_type</th>\n",
       "      <th>price</th>\n",
       "      <th>address</th>\n",
       "      <th>buildup_area</th>\n",
       "      <th>age_of_property</th>\n",
       "      <th>which_floor</th>\n",
       "      <th>facing</th>\n",
       "      <th>furnicing</th>\n",
       "      <th>bedrooms</th>\n",
       "      <th>bathrooms</th>\n",
       "      <th>balcony</th>\n",
       "      <th>parking</th>\n",
       "    </tr>\n",
       "  </thead>\n",
       "  <tbody>\n",
       "    <tr>\n",
       "      <th>0</th>\n",
       "      <td>3 BHK Flat</td>\n",
       "      <td>3.95</td>\n",
       "      <td>Kanjurmarg West</td>\n",
       "      <td>1550 sq.ft</td>\n",
       "      <td>3 Year Old</td>\n",
       "      <td>Higherof 50 floors</td>\n",
       "      <td>Fully Furnished</td>\n",
       "      <td>NaN</td>\n",
       "      <td>3</td>\n",
       "      <td>2</td>\n",
       "      <td>1</td>\n",
       "      <td>2 Covered Parking</td>\n",
       "    </tr>\n",
       "    <tr>\n",
       "      <th>1</th>\n",
       "      <td>1 BHK Flat</td>\n",
       "      <td>0.19</td>\n",
       "      <td>Palghar</td>\n",
       "      <td>630 sq.ft</td>\n",
       "      <td>3 Year Old</td>\n",
       "      <td>Middleof 4 floors</td>\n",
       "      <td>Unfurnished</td>\n",
       "      <td>NaN</td>\n",
       "      <td>1</td>\n",
       "      <td>1</td>\n",
       "      <td>2</td>\n",
       "      <td>1 Open Parking</td>\n",
       "    </tr>\n",
       "    <tr>\n",
       "      <th>2</th>\n",
       "      <td>1 BHK Flat</td>\n",
       "      <td>0.73</td>\n",
       "      <td>Mira Road East</td>\n",
       "      <td>580 sq.ft</td>\n",
       "      <td>1 Years Old</td>\n",
       "      <td>Lowerof 25 floors</td>\n",
       "      <td>Semi Furnished</td>\n",
       "      <td>NaN</td>\n",
       "      <td>1</td>\n",
       "      <td>2</td>\n",
       "      <td>2</td>\n",
       "      <td>No Parking</td>\n",
       "    </tr>\n",
       "    <tr>\n",
       "      <th>3</th>\n",
       "      <td>1 BHK Flat</td>\n",
       "      <td>1.10</td>\n",
       "      <td>Dahisar East</td>\n",
       "      <td>410 sq.ft</td>\n",
       "      <td>1 Years Old</td>\n",
       "      <td>Higherof 35 floors</td>\n",
       "      <td>Semi Furnished</td>\n",
       "      <td>NaN</td>\n",
       "      <td>1</td>\n",
       "      <td>2</td>\n",
       "      <td>1</td>\n",
       "      <td>2 Covered Parking</td>\n",
       "    </tr>\n",
       "    <tr>\n",
       "      <th>4</th>\n",
       "      <td>3 BHK Flat</td>\n",
       "      <td>2.25</td>\n",
       "      <td>Ramabai Ambedkar Nagar</td>\n",
       "      <td>1052 sq.ft</td>\n",
       "      <td>1 Years Old</td>\n",
       "      <td>Lowerof 26 floors</td>\n",
       "      <td>Semi Furnished</td>\n",
       "      <td>NaN</td>\n",
       "      <td>3</td>\n",
       "      <td>2</td>\n",
       "      <td>3</td>\n",
       "      <td>1 Covered Parking</td>\n",
       "    </tr>\n",
       "    <tr>\n",
       "      <th>...</th>\n",
       "      <td>...</td>\n",
       "      <td>...</td>\n",
       "      <td>...</td>\n",
       "      <td>...</td>\n",
       "      <td>...</td>\n",
       "      <td>...</td>\n",
       "      <td>...</td>\n",
       "      <td>...</td>\n",
       "      <td>...</td>\n",
       "      <td>...</td>\n",
       "      <td>...</td>\n",
       "      <td>...</td>\n",
       "    </tr>\n",
       "    <tr>\n",
       "      <th>9947</th>\n",
       "      <td>1 BHK Flat</td>\n",
       "      <td>0.20</td>\n",
       "      <td>Naigaon East</td>\n",
       "      <td>280 sq.ft</td>\n",
       "      <td>10 Year Old</td>\n",
       "      <td>Lowerof 7 floors</td>\n",
       "      <td>Semi Furnished</td>\n",
       "      <td>NaN</td>\n",
       "      <td>1</td>\n",
       "      <td>No Balcony</td>\n",
       "      <td>4 days ago</td>\n",
       "      <td>No Parking</td>\n",
       "    </tr>\n",
       "    <tr>\n",
       "      <th>9948</th>\n",
       "      <td>2 BHK Flat</td>\n",
       "      <td>10.50</td>\n",
       "      <td>Cumballa Hill</td>\n",
       "      <td>1170 sq.ft</td>\n",
       "      <td>45 Year Old</td>\n",
       "      <td>Lowerof 9 floors</td>\n",
       "      <td>Unfurnished</td>\n",
       "      <td>NaN</td>\n",
       "      <td>3</td>\n",
       "      <td>1</td>\n",
       "      <td>2 days ago</td>\n",
       "      <td>1 Covered Parking</td>\n",
       "    </tr>\n",
       "    <tr>\n",
       "      <th>9950</th>\n",
       "      <td>1 BHK Flat</td>\n",
       "      <td>0.97</td>\n",
       "      <td>Tardeo</td>\n",
       "      <td>315 sq.ft</td>\n",
       "      <td>Ready to move</td>\n",
       "      <td>Semi FurnishedFurnishing</td>\n",
       "      <td>NaN</td>\n",
       "      <td>NaN</td>\n",
       "      <td>1</td>\n",
       "      <td>No Balcony</td>\n",
       "      <td>More than a month ago</td>\n",
       "      <td>1 Open Parking</td>\n",
       "    </tr>\n",
       "    <tr>\n",
       "      <th>9953</th>\n",
       "      <td>2 BHK Flat</td>\n",
       "      <td>2.36</td>\n",
       "      <td>Kandivali West</td>\n",
       "      <td>706 sq.ft</td>\n",
       "      <td>2 Year Old</td>\n",
       "      <td>Middleof 40 floors</td>\n",
       "      <td>Unfurnished</td>\n",
       "      <td>NaN</td>\n",
       "      <td>2</td>\n",
       "      <td>2</td>\n",
       "      <td>-</td>\n",
       "      <td>-</td>\n",
       "    </tr>\n",
       "    <tr>\n",
       "      <th>9954</th>\n",
       "      <td>1 BHK Flat</td>\n",
       "      <td>0.90</td>\n",
       "      <td>Mulund West</td>\n",
       "      <td>500 sq.ft</td>\n",
       "      <td>Ready to move</td>\n",
       "      <td>North-West facingFacing</td>\n",
       "      <td>NaN</td>\n",
       "      <td>NaN</td>\n",
       "      <td>1</td>\n",
       "      <td>-</td>\n",
       "      <td>13 days ago</td>\n",
       "      <td>-</td>\n",
       "    </tr>\n",
       "  </tbody>\n",
       "</table>\n",
       "<p>9642 rows × 12 columns</p>\n",
       "</div>"
      ],
      "text/plain": [
       "       flat_type  price                 address buildup_area age_of_property  \\\n",
       "0     3 BHK Flat   3.95         Kanjurmarg West   1550 sq.ft      3 Year Old   \n",
       "1     1 BHK Flat   0.19                 Palghar    630 sq.ft      3 Year Old   \n",
       "2     1 BHK Flat   0.73          Mira Road East    580 sq.ft     1 Years Old   \n",
       "3     1 BHK Flat   1.10            Dahisar East    410 sq.ft     1 Years Old   \n",
       "4     3 BHK Flat   2.25  Ramabai Ambedkar Nagar   1052 sq.ft     1 Years Old   \n",
       "...          ...    ...                     ...          ...             ...   \n",
       "9947  1 BHK Flat   0.20            Naigaon East    280 sq.ft     10 Year Old   \n",
       "9948  2 BHK Flat  10.50           Cumballa Hill   1170 sq.ft     45 Year Old   \n",
       "9950  1 BHK Flat   0.97                  Tardeo    315 sq.ft   Ready to move   \n",
       "9953  2 BHK Flat   2.36          Kandivali West    706 sq.ft      2 Year Old   \n",
       "9954  1 BHK Flat   0.90             Mulund West    500 sq.ft   Ready to move   \n",
       "\n",
       "                   which_floor           facing furnicing bedrooms  \\\n",
       "0           Higherof 50 floors  Fully Furnished       NaN        3   \n",
       "1            Middleof 4 floors      Unfurnished       NaN        1   \n",
       "2            Lowerof 25 floors   Semi Furnished       NaN        1   \n",
       "3           Higherof 35 floors   Semi Furnished       NaN        1   \n",
       "4            Lowerof 26 floors   Semi Furnished       NaN        3   \n",
       "...                        ...              ...       ...      ...   \n",
       "9947          Lowerof 7 floors   Semi Furnished       NaN        1   \n",
       "9948          Lowerof 9 floors      Unfurnished       NaN        3   \n",
       "9950  Semi FurnishedFurnishing              NaN       NaN        1   \n",
       "9953        Middleof 40 floors      Unfurnished       NaN        2   \n",
       "9954   North-West facingFacing              NaN       NaN        1   \n",
       "\n",
       "       bathrooms                balcony            parking  \n",
       "0              2                      1  2 Covered Parking  \n",
       "1              1                      2     1 Open Parking  \n",
       "2              2                      2         No Parking  \n",
       "3              2                      1  2 Covered Parking  \n",
       "4              2                      3  1 Covered Parking  \n",
       "...          ...                    ...                ...  \n",
       "9947  No Balcony             4 days ago         No Parking  \n",
       "9948           1             2 days ago  1 Covered Parking  \n",
       "9950  No Balcony  More than a month ago     1 Open Parking  \n",
       "9953           2                      -                  -  \n",
       "9954           -            13 days ago                  -  \n",
       "\n",
       "[9642 rows x 12 columns]"
      ]
     },
     "execution_count": 526,
     "metadata": {},
     "output_type": "execute_result"
    }
   ],
   "source": [
    "df"
   ]
  },
  {
   "cell_type": "code",
   "execution_count": 527,
   "metadata": {},
   "outputs": [
    {
     "data": {
      "text/plain": [
       "47"
      ]
     },
     "execution_count": 527,
     "metadata": {},
     "output_type": "execute_result"
    }
   ],
   "source": [
    "df.duplicated().sum()"
   ]
  },
  {
   "cell_type": "code",
   "execution_count": 528,
   "metadata": {},
   "outputs": [],
   "source": [
    "df.drop_duplicates(inplace=True)"
   ]
  },
  {
   "cell_type": "code",
   "execution_count": 529,
   "metadata": {},
   "outputs": [
    {
     "data": {
      "text/plain": [
       "array(['Kanjurmarg West', 'Palghar', 'Mira Road East', 'Dahisar East',\n",
       "       'Ramabai Ambedkar Nagar', 'Anushakti Nagar', 'Kanjurmarg East',\n",
       "       'Byculla', 'Kurla West', 'Mulund West', 'Sion', 'Powai',\n",
       "       'Lower Parel', 'Borivali East', 'Malad West', 'Virar West',\n",
       "       'Goregaon West', 'Naigaon East', 'Vasai East', 'Andheri West',\n",
       "       'Vikhroli East', 'Borivali West', 'Goregaon East', 'Dadar East',\n",
       "       'Dadar West', 'Wadala East', 'Govandi', 'Saphale', 'Mulund East',\n",
       "       'Santacruz East', 'Chembur', 'Kandivali East', 'Juhu',\n",
       "       'Vile Parle East', 'Jogeshwari West', 'Nalasopara West', 'Worli',\n",
       "       'Kandivali West', 'Prabhadevi', 'Matunga East', 'Bandra East',\n",
       "       'Parel', 'Ghatkopar East', 'Andheri East', 'Jogeshwari East',\n",
       "       'Dahisar West', 'Matunga West', 'Bhandup West', 'Khar West',\n",
       "       'Ghatkopar West', 'Bhayandar East', 'Mumbai Central', 'Wadala',\n",
       "       'Bandra West', 'Santacruz West', 'Malad East', 'Chinchpokli',\n",
       "       'Nalasopara East', 'Vile Parle West', 'Boisar', 'Vikhroli West',\n",
       "       'Kurla East', 'Thane West', 'Mazgaon', 'Naigaon West', 'Mahim',\n",
       "       'Vasai West', 'Bhandup East', 'Mankhurd', 'Fort', 'Sakinaka',\n",
       "       'Mahalakshmi', 'Malabar Hill', 'Kamathipura', 'Asalpha',\n",
       "       'Khar East', 'Agripada', 'Trombay', 'Madanpura', 'Bhayandar West',\n",
       "       'Dharamveer Nagar', 'Cumballa Hill', 'Virar East', 'Kalbadevi',\n",
       "       'Girgaon', 'Tardeo', 'Colaba', 'Cuffe Parade', 'Sewri', 'Madh',\n",
       "       'Churchgate', 'Gamdevi', 'Jacob Circle', 'Makane Kapase',\n",
       "       'Ghodbander', 'Uttan', 'Marine Lines', 'Umerkhadi',\n",
       "       'Mira Road West', 'Nagpada'], dtype=object)"
      ]
     },
     "execution_count": 529,
     "metadata": {},
     "output_type": "execute_result"
    }
   ],
   "source": [
    "df['address'].unique()"
   ]
  },
  {
   "cell_type": "code",
   "execution_count": 530,
   "metadata": {},
   "outputs": [
    {
     "data": {
      "text/plain": [
       "address\n",
       "Mira Road East    887\n",
       "Chembur           568\n",
       "Powai             467\n",
       "Andheri West      466\n",
       "Kandivali East    464\n",
       "                 ... \n",
       "Ghodbander          1\n",
       "Uttan               1\n",
       "Umerkhadi           1\n",
       "Mira Road West      1\n",
       "Nagpada             1\n",
       "Name: count, Length: 100, dtype: int64"
      ]
     },
     "execution_count": 530,
     "metadata": {},
     "output_type": "execute_result"
    }
   ],
   "source": [
    "df['address'].value_counts()"
   ]
  },
  {
   "cell_type": "code",
   "execution_count": 531,
   "metadata": {},
   "outputs": [],
   "source": [
    "# replace the minor location to others\n",
    "def replace_address_name(location):\n",
    "    if 'Ramabai Ambedkar Nagar' in location:\n",
    "        return 'others'\n",
    "    elif 'Anushakti Nagar' in location:\n",
    "        return 'others'\n",
    "    elif 'Saphale' in location:\n",
    "        return 'others'\n",
    "    elif 'Fort' in location:\n",
    "        return 'others'\n",
    "    elif 'Mankhurd' in location:\n",
    "        return 'others'\n",
    "    elif 'Dharamveer Nagar' in location:\n",
    "        return 'others'\n",
    "    elif 'Asalpha' in location:\n",
    "        return 'others'\n",
    "    elif 'Kalbadevi' in location:\n",
    "        return 'others'\n",
    "    elif 'Jacob Circle' in location:\n",
    "        return 'others'\n",
    "    elif 'Makane Kapase' in location:\n",
    "        return 'others'\n",
    "    elif 'Ghodbander' in location:\n",
    "        return 'others'\n",
    "    elif 'Uttan' in location:\n",
    "        return 'others'\n",
    "    elif 'Umerkhadi' in location:\n",
    "        return 'others'\n",
    "    elif 'Nagpada' in location:\n",
    "        return 'others'\n",
    "    elif 'Trombay' in location:\n",
    "        return 'others'\n",
    "    elif 'Juhu' in location:\n",
    "        return 'Santacruz West'\n",
    "    elif 'Gamdevi' in location:\n",
    "        return 'others'\n",
    "    elif 'Chinchpokli' in location:\n",
    "        return 'others'\n",
    "    elif 'Mira Road West' in location:\n",
    "        return 'others'\n",
    "    elif 'Khar East' in location:\n",
    "        return 'others'\n",
    "    else:\n",
    "        return location"
   ]
  },
  {
   "cell_type": "code",
   "execution_count": 532,
   "metadata": {},
   "outputs": [],
   "source": [
    "df['address'] = df['address'].apply(replace_address_name)"
   ]
  },
  {
   "cell_type": "code",
   "execution_count": 533,
   "metadata": {},
   "outputs": [
    {
     "data": {
      "text/plain": [
       "0"
      ]
     },
     "execution_count": 533,
     "metadata": {},
     "output_type": "execute_result"
    }
   ],
   "source": [
    "df.duplicated().sum()"
   ]
  },
  {
   "cell_type": "code",
   "execution_count": 534,
   "metadata": {},
   "outputs": [
    {
     "data": {
      "text/plain": [
       "0       1550 sq.ft\n",
       "1        630 sq.ft\n",
       "2        580 sq.ft\n",
       "3        410 sq.ft\n",
       "4       1052 sq.ft\n",
       "           ...    \n",
       "9947     280 sq.ft\n",
       "9948    1170 sq.ft\n",
       "9950     315 sq.ft\n",
       "9953     706 sq.ft\n",
       "9954     500 sq.ft\n",
       "Name: buildup_area, Length: 9595, dtype: object"
      ]
     },
     "execution_count": 534,
     "metadata": {},
     "output_type": "execute_result"
    }
   ],
   "source": [
    "df['buildup_area']"
   ]
  },
  {
   "cell_type": "code",
   "execution_count": 535,
   "metadata": {},
   "outputs": [],
   "source": [
    "df['buildup_area'] = df['buildup_area'].str.split(\" \").str[0]"
   ]
  },
  {
   "cell_type": "code",
   "execution_count": 536,
   "metadata": {},
   "outputs": [
    {
     "data": {
      "text/plain": [
       "array(['3 Year Old', '1 Years Old', '4 Year Old', '2 Year Old',\n",
       "       'Ready to move', '2 BHK', '3 BHK', '1 BHK', '4 BHK', '15 Year Old',\n",
       "       '10 Year Old', '30 Year Old', '7 Year Old', '12 Year Old',\n",
       "       '5 Year Old', '20 Year Old', '8 Year Old', '9 Year Old',\n",
       "       '22 Year Old', '25 Year Old', '17 Year Old', '6 Year Old',\n",
       "       '11 Year Old', '16 Year Old', '13 Year Old', '18 Year Old',\n",
       "       '27 Year Old', '14 Year Old', '35 Year Old', '40 Year Old',\n",
       "       '23 Year Old', '19 Year Old', '45 Year Old', '21 Year Old',\n",
       "       '24 Year Old', '50 Year Old', '31 Year Old', '26 Year Old',\n",
       "       '52 Year Old', '42 Year Old', '28 Year Old', '60 Year Old',\n",
       "       '32 Year Old', '36 Year Old', '48 Year Old', '80 Year Old',\n",
       "       '71 Year Old', '41 Year Old', '29 Year Old', '53 Year Old',\n",
       "       '38 Year Old', '99 Year Old', '5 BHK', '37 Year Old'], dtype=object)"
      ]
     },
     "execution_count": 536,
     "metadata": {},
     "output_type": "execute_result"
    }
   ],
   "source": [
    "df['age_of_property'].unique()"
   ]
  },
  {
   "cell_type": "code",
   "execution_count": 537,
   "metadata": {},
   "outputs": [
    {
     "data": {
      "text/plain": [
       "age_of_property\n",
       "1 Years Old      1629\n",
       "5 Year Old       1251\n",
       "10 Year Old       925\n",
       "2 Year Old        736\n",
       "Ready to move     700\n",
       "15 Year Old       616\n",
       "3 Year Old        589\n",
       "4 Year Old        493\n",
       "20 Year Old       375\n",
       "8 Year Old        364\n",
       "7 Year Old        340\n",
       "12 Year Old       315\n",
       "6 Year Old        284\n",
       "9 Year Old        146\n",
       "25 Year Old       143\n",
       "30 Year Old        82\n",
       "18 Year Old        78\n",
       "1 BHK              61\n",
       "2 BHK              61\n",
       "14 Year Old        56\n",
       "16 Year Old        38\n",
       "13 Year Old        37\n",
       "3 BHK              37\n",
       "40 Year Old        33\n",
       "11 Year Old        31\n",
       "17 Year Old        22\n",
       "22 Year Old        22\n",
       "35 Year Old        21\n",
       "4 BHK              16\n",
       "23 Year Old        14\n",
       "19 Year Old        12\n",
       "50 Year Old        10\n",
       "45 Year Old         8\n",
       "26 Year Old         6\n",
       "28 Year Old         5\n",
       "21 Year Old         5\n",
       "38 Year Old         5\n",
       "24 Year Old         4\n",
       "31 Year Old         3\n",
       "42 Year Old         3\n",
       "32 Year Old         3\n",
       "29 Year Old         2\n",
       "52 Year Old         2\n",
       "60 Year Old         2\n",
       "5 BHK               1\n",
       "99 Year Old         1\n",
       "53 Year Old         1\n",
       "48 Year Old         1\n",
       "41 Year Old         1\n",
       "71 Year Old         1\n",
       "80 Year Old         1\n",
       "36 Year Old         1\n",
       "27 Year Old         1\n",
       "37 Year Old         1\n",
       "Name: count, dtype: int64"
      ]
     },
     "execution_count": 537,
     "metadata": {},
     "output_type": "execute_result"
    }
   ],
   "source": [
    "df['age_of_property'].value_counts()"
   ]
  },
  {
   "cell_type": "code",
   "execution_count": 538,
   "metadata": {},
   "outputs": [],
   "source": [
    "def extract_age(value):\n",
    "    if value.split(\" \")[-1] == \"Old\":\n",
    "        return int(value.split(\" \")[0])\n",
    "    else:\n",
    "        return np.nan"
   ]
  },
  {
   "cell_type": "code",
   "execution_count": 539,
   "metadata": {},
   "outputs": [
    {
     "data": {
      "text/plain": [
       "37"
      ]
     },
     "execution_count": 539,
     "metadata": {},
     "output_type": "execute_result"
    }
   ],
   "source": [
    "extract_age(\"37 Year Old\")"
   ]
  },
  {
   "cell_type": "code",
   "execution_count": 540,
   "metadata": {},
   "outputs": [],
   "source": [
    "df['age_of_property'] = df['age_of_property'].apply(extract_age)"
   ]
  },
  {
   "cell_type": "code",
   "execution_count": 541,
   "metadata": {},
   "outputs": [
    {
     "data": {
      "text/plain": [
       "0        3.0\n",
       "1        3.0\n",
       "2        1.0\n",
       "3        1.0\n",
       "4        1.0\n",
       "        ... \n",
       "9947    10.0\n",
       "9948    45.0\n",
       "9950     NaN\n",
       "9953     2.0\n",
       "9954     NaN\n",
       "Name: age_of_property, Length: 9595, dtype: float64"
      ]
     },
     "execution_count": 541,
     "metadata": {},
     "output_type": "execute_result"
    }
   ],
   "source": [
    "df['age_of_property']"
   ]
  },
  {
   "cell_type": "code",
   "execution_count": 542,
   "metadata": {},
   "outputs": [
    {
     "data": {
      "text/plain": [
       "876"
      ]
     },
     "execution_count": 542,
     "metadata": {},
     "output_type": "execute_result"
    }
   ],
   "source": [
    "df['age_of_property'].isna().sum()"
   ]
  },
  {
   "cell_type": "code",
   "execution_count": 543,
   "metadata": {},
   "outputs": [
    {
     "data": {
      "text/plain": [
       "<Axes: xlabel='age_of_property', ylabel='Density'>"
      ]
     },
     "execution_count": 543,
     "metadata": {},
     "output_type": "execute_result"
    },
    {
     "data": {
      "image/png": "[encoded data removed]",
      "text/plain": [
       "<Figure size 640x480 with 1 Axes>"
      ]
     },
     "metadata": {},
     "output_type": "display_data"
    }
   ],
   "source": [
    "sns.kdeplot(df['age_of_property'])"
   ]
  },
  {
   "cell_type": "code",
   "execution_count": 544,
   "metadata": {},
   "outputs": [
    {
     "data": {
      "text/plain": [
       "5.0"
      ]
     },
     "execution_count": 544,
     "metadata": {},
     "output_type": "execute_result"
    }
   ],
   "source": [
    "df['age_of_property'].median()"
   ]
  },
  {
   "cell_type": "code",
   "execution_count": 545,
   "metadata": {},
   "outputs": [],
   "source": [
    "df['age_of_property'] = df['age_of_property'].fillna(value=5)"
   ]
  },
  {
   "cell_type": "code",
   "execution_count": 546,
   "metadata": {},
   "outputs": [
    {
     "data": {
      "text/plain": [
       "<Axes: xlabel='age_of_property', ylabel='Density'>"
      ]
     },
     "execution_count": 546,
     "metadata": {},
     "output_type": "execute_result"
    },
    {
     "data": {
      "image/png": "[encoded data removed]",
      "text/plain": [
       "<Figure size 640x480 with 1 Axes>"
      ]
     },
     "metadata": {},
     "output_type": "display_data"
    }
   ],
   "source": [
    "sns.kdeplot(df['age_of_property'])"
   ]
  },
  {
   "cell_type": "code",
   "execution_count": 548,
   "metadata": {},
   "outputs": [
    {
     "data": {
      "text/plain": [
       "0"
      ]
     },
     "execution_count": 548,
     "metadata": {},
     "output_type": "execute_result"
    }
   ],
   "source": [
    "df.duplicated().sum()"
   ]
  },
  {
   "cell_type": "code",
   "execution_count": 547,
   "metadata": {},
   "outputs": [
    {
     "data": {
      "text/plain": [
       "array(['Higherof 50 floors', 'Middleof 4 floors', 'Lowerof 25 floors',\n",
       "       'Higherof 35 floors', 'Lowerof 26 floors', 'Lowerof 20 floors',\n",
       "       'Middleof 50 floors', 'Higherof 36 floors', 'Middleof 46 floors',\n",
       "       'Lowerof 14 floors', 'Middleof 38 floors', 'East facingFacing',\n",
       "       'Lowerof 40 floors', 'Middleof 62 floors', 'Middleof 22 floors',\n",
       "       'Middleof 36 floors', 'Higherof 58 floors', 'South facingFacing',\n",
       "       'Middleof 7 floors', 'Middleof 23 floors', 'Higherof 48 floors',\n",
       "       'Lowerof 23 floors', 'Middleof 48 floors', 'Middleof 14 floors',\n",
       "       'Lowerof 48 floors', 'Middleof 72 floors', 'Middleof 34 floors',\n",
       "       'Middleof 24 floors', 'Middleof 35 floors', 'Lowerof 15 floors',\n",
       "       'Lowerof 30 floors', 'Higherof 71 floors', 'Higherof 22 floors',\n",
       "       'Middleof 17 floors', 'Lowerof 22 floors', 'Lowerof 38 floors',\n",
       "       'Lowerof 61 floors', 'Higherof 21 floors', 'Middleof 20 floors',\n",
       "       'Higherof 16 floors', 'Higherof 4 floors', 'Middleof 30 floors',\n",
       "       'Middleof 18 floors', 'Higherof 13 floors', 'Middleof 15 floors',\n",
       "       'Higherof 10 floors', 'Middleof 21 floors', 'West facingFacing',\n",
       "       'Higherof 8 floors', 'Middleof 9 floors', 'Middleof 19 floors',\n",
       "       'Higherof 7 floors', 'UnfurnishedFurnishing', 'Higherof 2 floors',\n",
       "       'Middleof 65 floors', 'Higherof 32 floors', 'Middleof 32 floors',\n",
       "       'Lowerof 21 floors', 'Higherof 51 floors', 'Middleof 16 floors',\n",
       "       'Middleof 13 floors', 'Middleof 39 floors', 'Higherof 31 floors',\n",
       "       'Higherof 42 floors', 'Higherof 25 floors',\n",
       "       'South-East facingFacing', 'Lowerof 9 floors',\n",
       "       'Middleof 37 floors', 'Middleof 40 floors', 'Middleof 56 floors',\n",
       "       'Middleof 11 floors', 'Higherof 14 floors', 'Lowerof 19 floors',\n",
       "       'Middleof 28 floors', 'North-East facingFacing',\n",
       "       'Middleof 25 floors', 'Lowerof 44 floors',\n",
       "       'North-West facingFacing', 'Lowerof 60 floors',\n",
       "       'Middleof 60 floors', 'Lowerof 55 floors', 'Higherof 23 floors',\n",
       "       'Middleof 77 floors', 'Lowerof 18 floors', 'Higherof 20 floors',\n",
       "       'Lowerof 12 floors', 'Higherof 27 floors', 'Lowerof 11 floors',\n",
       "       'Lowerof 32 floors', 'North facingFacing', 'Middleof 8 floors',\n",
       "       'Higherof 12 floors', 'Lowerof 36 floors', 'Lowerof 7 floors',\n",
       "       'Middleof 12 floors', 'Higherof 19 floors', 'Lowerof 62 floors',\n",
       "       'Higherof 78 floors', 'Higherof 15 floors', 'Higherof 37 floors',\n",
       "       'Middleof 27 floors', 'Lowerof 17 floors', 'Middleof 53 floors',\n",
       "       'Higherof 18 floors', 'Higherof 44 floors', 'Middleof 55 floors',\n",
       "       'Higherof 28 floors', 'Lowerof 50 floors', 'Higherof 38 floors',\n",
       "       'Higherof 43 floors', 'Middleof 52 floors', 'Lowerof 34 floors',\n",
       "       'Middleof 58 floors', 'Middleof 26 floors', 'Lowerof 64 floors',\n",
       "       'Higherof 9 floors', 'Higherof 24 floors', 'Middleof 33 floors',\n",
       "       'Middleof 41 floors', 'Middleof 44 floors', 'Higherof 41 floors',\n",
       "       'Higherof 11 floors', 'Middleof 43 floors', 'Lowerof 10 floors',\n",
       "       'Lowerof 39 floors', 'Higherof 17 floors', 'Higherof 33 floors',\n",
       "       'Lowerof 43 floors', 'Lowerof 45 floors',\n",
       "       'Semi FurnishedFurnishing', 'Middleof 31 floors',\n",
       "       'Higherof 30 floors', 'Higherof 40 floors', 'Lowerof 16 floors',\n",
       "       'Middleof 61 floors', 'Middleof 10 floors', 'Middleof 78 floors',\n",
       "       'Higherof 77 floors', 'Lowerof 27 floors', 'Middleof 47 floors',\n",
       "       'Lowerof 58 floors', 'Middleof 67 floors', 'Lowerof 13 floors',\n",
       "       'Lowerof 35 floors', '1stof 2 floors', 'Higherof 55 floors',\n",
       "       'Middleof 42 floors', 'Higherof 85 floors', 'Higherof 6 floors',\n",
       "       'Higherof 67 floors', 'Higherof 61 floors', 'Lowerof 90 floors',\n",
       "       'Lowerof 42 floors', 'Lowerof 65 floors', 'Lowerof 41 floors',\n",
       "       'Middleof 75 floors', 'Middleof 64 floors',\n",
       "       'South-West facingFacing', 'Higherof 3 floors', 'Lowerof 3 floors',\n",
       "       'Higherof 5 floors', 'Middleof 91 floors', 'Lowerof 67 floors',\n",
       "       'Lowerof 91 floors', 'Higherof 56 floors', 'Higherof 60 floors',\n",
       "       'Higherof 76 floors', 'Lowerof 54 floors', 'Lowerof 37 floors',\n",
       "       'Lowerof 31 floors', 'Middleof 70 floors', 'Lowerof 56 floors',\n",
       "       'Middleof 92 floors', 'Middleof 5 floors', 'Higherof 72 floors',\n",
       "       'Lowerof 8 floors', '12th Oct, 2023Possession status',\n",
       "       'Lowerof 6 floors', 'Higherof 53 floors', 'Middleof 51 floors',\n",
       "       'Higherof 26 floors', 'Lowerof 33 floors', 'Lowerof 28 floors',\n",
       "       'Lowerof 4 floors', 'Middleof 3 floors', 'Higherof 34 floors',\n",
       "       'Middleof 6 floors', 'Lowerof 24 floors', 'Lowerof 5 floors', nan,\n",
       "       'Higherof 45 floors', 'Higherof 39 floors', 'Lowerof 57 floors',\n",
       "       'Middleof 45 floors', 'Lowerof 59 floors', 'Higherof 70 floors',\n",
       "       'Middleof 29 floors', 'Fully FurnishedFurnishing',\n",
       "       'Lowerof 70 floors', 'Middleof 59 floors', 'Higherof 47 floors',\n",
       "       'Middleof 54 floors', 'Lowerof 29 floors', 'Higherof 74 floors',\n",
       "       'Lowerof 52 floors', 'Middleof 63 floors', 'Higherof 65 floors',\n",
       "       'Middleof 74 floors', 'Higherof 64 floors', 'Higherof 52 floors',\n",
       "       'Lowerof 63 floors', 'Middleof 68 floors', 'Lowerof 76 floors',\n",
       "       'Middleof 73 floors', 'Lowerof 79 floors', 'Higherof 49 floors',\n",
       "       'Middleof 99 floors', 'Lowerof 78 floors', 'Middleof 57 floors',\n",
       "       'Ground Floorof 2 floors', 'Lowerof 75 floors',\n",
       "       'Middleof 83 floors', 'Lowerof 47 floors', 'Higherof 46 floors',\n",
       "       'Lowerof 71 floors', 'Higherof 29 floors', 'Higherof 73 floors',\n",
       "       'Lowerof 46 floors', 'Higherof 54 floors', 'Higherof 68 floors',\n",
       "       'Lowerof 73 floors', 'Middleof 49 floors', 'Higherof 63 floors',\n",
       "       'Middleof 71 floors', 'Middleof 76 floors', 'Higherof 66 floors',\n",
       "       'Higherof 79 floors', 'Higherof 62 floors', 'Middleof 79 floors',\n",
       "       'Middleof 69 floors'], dtype=object)"
      ]
     },
     "execution_count": 547,
     "metadata": {},
     "output_type": "execute_result"
    }
   ],
   "source": [
    "df['which_floor'].unique()"
   ]
  },
  {
   "cell_type": "code",
   "execution_count": 549,
   "metadata": {},
   "outputs": [
    {
     "data": {
      "text/plain": [
       "which_floor\n",
       "South-East facingFacing     25\n",
       "Higherof 23 floors         100\n",
       "Middleof 71 floors           2\n",
       "West facingFacing           93\n",
       "Middleof 19 floors          49\n",
       "Lowerof 24 floors           28\n",
       "Middleof 12 floors         225\n",
       "Name: count, dtype: int64"
      ]
     },
     "execution_count": 549,
     "metadata": {},
     "output_type": "execute_result"
    }
   ],
   "source": [
    "df['which_floor'].value_counts().sample(7)"
   ]
  },
  {
   "cell_type": "code",
   "execution_count": 550,
   "metadata": {},
   "outputs": [
    {
     "data": {
      "text/plain": [
       "46"
      ]
     },
     "execution_count": 550,
     "metadata": {},
     "output_type": "execute_result"
    }
   ],
   "source": [
    "df['which_floor'].isna().sum()"
   ]
  },
  {
   "cell_type": "code",
   "execution_count": 551,
   "metadata": {},
   "outputs": [],
   "source": [
    "def extract_floor(value):\n",
    "    if type(value) != float:\n",
    "        a = value.split(\" \")\n",
    "        if len(a) == 3:\n",
    "            b = a[1]\n",
    "            b = int(b)\n",
    "            return b\n",
    "        else:\n",
    "            return np.nan\n",
    "    else:\n",
    "        return np.nan"
   ]
  },
  {
   "cell_type": "code",
   "execution_count": 552,
   "metadata": {},
   "outputs": [
    {
     "data": {
      "text/plain": [
       "92"
      ]
     },
     "execution_count": 552,
     "metadata": {},
     "output_type": "execute_result"
    }
   ],
   "source": [
    "extract_floor(\"Middleof 92 floors\")"
   ]
  },
  {
   "cell_type": "code",
   "execution_count": 553,
   "metadata": {},
   "outputs": [
    {
     "data": {
      "text/plain": [
       "nan"
      ]
     },
     "execution_count": 553,
     "metadata": {},
     "output_type": "execute_result"
    }
   ],
   "source": [
    "extract_floor(\"2023Possession status\")"
   ]
  },
  {
   "cell_type": "code",
   "execution_count": 554,
   "metadata": {},
   "outputs": [],
   "source": [
    "df['which_floor'] = df['which_floor'].str.strip().apply(extract_floor)"
   ]
  },
  {
   "cell_type": "code",
   "execution_count": 555,
   "metadata": {},
   "outputs": [
    {
     "data": {
      "text/plain": [
       "<Axes: xlabel='which_floor', ylabel='Density'>"
      ]
     },
     "execution_count": 555,
     "metadata": {},
     "output_type": "execute_result"
    },
    {
     "data": {
      "image/png": "[encoded data removed]",
      "text/plain": [
       "<Figure size 640x480 with 1 Axes>"
      ]
     },
     "metadata": {},
     "output_type": "display_data"
    }
   ],
   "source": [
    "sns.kdeplot(df['which_floor'])"
   ]
  },
  {
   "cell_type": "code",
   "execution_count": 556,
   "metadata": {},
   "outputs": [
    {
     "data": {
      "text/plain": [
       "16.0"
      ]
     },
     "execution_count": 556,
     "metadata": {},
     "output_type": "execute_result"
    }
   ],
   "source": [
    "df['which_floor'].median()"
   ]
  },
  {
   "cell_type": "code",
   "execution_count": 557,
   "metadata": {},
   "outputs": [],
   "source": [
    "df['which_floor'] = df['which_floor'].fillna(16)"
   ]
  },
  {
   "cell_type": "code",
   "execution_count": 558,
   "metadata": {},
   "outputs": [
    {
     "data": {
      "text/plain": [
       "<Axes: xlabel='which_floor', ylabel='Density'>"
      ]
     },
     "execution_count": 558,
     "metadata": {},
     "output_type": "execute_result"
    },
    {
     "data": {
      "image/png": "[encoded data removed]",
      "text/plain": [
       "<Figure size 640x480 with 1 Axes>"
      ]
     },
     "metadata": {},
     "output_type": "display_data"
    }
   ],
   "source": [
    "sns.kdeplot(df['which_floor'])"
   ]
  },
  {
   "cell_type": "code",
   "execution_count": 559,
   "metadata": {},
   "outputs": [
    {
     "data": {
      "text/plain": [
       "45"
      ]
     },
     "execution_count": 559,
     "metadata": {},
     "output_type": "execute_result"
    }
   ],
   "source": [
    "df.duplicated().sum()"
   ]
  },
  {
   "cell_type": "code",
   "execution_count": 560,
   "metadata": {},
   "outputs": [],
   "source": [
    "df.drop_duplicates(inplace=True)"
   ]
  },
  {
   "cell_type": "code",
   "execution_count": 561,
   "metadata": {},
   "outputs": [
    {
     "data": {
      "text/html": [
       "<div>\n",
       "<style scoped>\n",
       "    .dataframe tbody tr th:only-of-type {\n",
       "        vertical-align: middle;\n",
       "    }\n",
       "\n",
       "    .dataframe tbody tr th {\n",
       "        vertical-align: top;\n",
       "    }\n",
       "\n",
       "    .dataframe thead th {\n",
       "        text-align: right;\n",
       "    }\n",
       "</style>\n",
       "<table border=\"1\" class=\"dataframe\">\n",
       "  <thead>\n",
       "    <tr style=\"text-align: right;\">\n",
       "      <th></th>\n",
       "      <th>flat_type</th>\n",
       "      <th>price</th>\n",
       "      <th>address</th>\n",
       "      <th>buildup_area</th>\n",
       "      <th>age_of_property</th>\n",
       "      <th>which_floor</th>\n",
       "      <th>facing</th>\n",
       "      <th>furnicing</th>\n",
       "      <th>bedrooms</th>\n",
       "      <th>bathrooms</th>\n",
       "      <th>balcony</th>\n",
       "      <th>parking</th>\n",
       "    </tr>\n",
       "  </thead>\n",
       "  <tbody>\n",
       "    <tr>\n",
       "      <th>0</th>\n",
       "      <td>3 BHK Flat</td>\n",
       "      <td>3.95</td>\n",
       "      <td>Kanjurmarg West</td>\n",
       "      <td>1550</td>\n",
       "      <td>3.0</td>\n",
       "      <td>50.0</td>\n",
       "      <td>Fully Furnished</td>\n",
       "      <td>NaN</td>\n",
       "      <td>3</td>\n",
       "      <td>2</td>\n",
       "      <td>1</td>\n",
       "      <td>2 Covered Parking</td>\n",
       "    </tr>\n",
       "    <tr>\n",
       "      <th>1</th>\n",
       "      <td>1 BHK Flat</td>\n",
       "      <td>0.19</td>\n",
       "      <td>Palghar</td>\n",
       "      <td>630</td>\n",
       "      <td>3.0</td>\n",
       "      <td>4.0</td>\n",
       "      <td>Unfurnished</td>\n",
       "      <td>NaN</td>\n",
       "      <td>1</td>\n",
       "      <td>1</td>\n",
       "      <td>2</td>\n",
       "      <td>1 Open Parking</td>\n",
       "    </tr>\n",
       "    <tr>\n",
       "      <th>2</th>\n",
       "      <td>1 BHK Flat</td>\n",
       "      <td>0.73</td>\n",
       "      <td>Mira Road East</td>\n",
       "      <td>580</td>\n",
       "      <td>1.0</td>\n",
       "      <td>25.0</td>\n",
       "      <td>Semi Furnished</td>\n",
       "      <td>NaN</td>\n",
       "      <td>1</td>\n",
       "      <td>2</td>\n",
       "      <td>2</td>\n",
       "      <td>No Parking</td>\n",
       "    </tr>\n",
       "    <tr>\n",
       "      <th>3</th>\n",
       "      <td>1 BHK Flat</td>\n",
       "      <td>1.10</td>\n",
       "      <td>Dahisar East</td>\n",
       "      <td>410</td>\n",
       "      <td>1.0</td>\n",
       "      <td>35.0</td>\n",
       "      <td>Semi Furnished</td>\n",
       "      <td>NaN</td>\n",
       "      <td>1</td>\n",
       "      <td>2</td>\n",
       "      <td>1</td>\n",
       "      <td>2 Covered Parking</td>\n",
       "    </tr>\n",
       "    <tr>\n",
       "      <th>4</th>\n",
       "      <td>3 BHK Flat</td>\n",
       "      <td>2.25</td>\n",
       "      <td>others</td>\n",
       "      <td>1052</td>\n",
       "      <td>1.0</td>\n",
       "      <td>26.0</td>\n",
       "      <td>Semi Furnished</td>\n",
       "      <td>NaN</td>\n",
       "      <td>3</td>\n",
       "      <td>2</td>\n",
       "      <td>3</td>\n",
       "      <td>1 Covered Parking</td>\n",
       "    </tr>\n",
       "    <tr>\n",
       "      <th>...</th>\n",
       "      <td>...</td>\n",
       "      <td>...</td>\n",
       "      <td>...</td>\n",
       "      <td>...</td>\n",
       "      <td>...</td>\n",
       "      <td>...</td>\n",
       "      <td>...</td>\n",
       "      <td>...</td>\n",
       "      <td>...</td>\n",
       "      <td>...</td>\n",
       "      <td>...</td>\n",
       "      <td>...</td>\n",
       "    </tr>\n",
       "    <tr>\n",
       "      <th>9947</th>\n",
       "      <td>1 BHK Flat</td>\n",
       "      <td>0.20</td>\n",
       "      <td>Naigaon East</td>\n",
       "      <td>280</td>\n",
       "      <td>10.0</td>\n",
       "      <td>7.0</td>\n",
       "      <td>Semi Furnished</td>\n",
       "      <td>NaN</td>\n",
       "      <td>1</td>\n",
       "      <td>No Balcony</td>\n",
       "      <td>4 days ago</td>\n",
       "      <td>No Parking</td>\n",
       "    </tr>\n",
       "    <tr>\n",
       "      <th>9948</th>\n",
       "      <td>2 BHK Flat</td>\n",
       "      <td>10.50</td>\n",
       "      <td>Cumballa Hill</td>\n",
       "      <td>1170</td>\n",
       "      <td>45.0</td>\n",
       "      <td>9.0</td>\n",
       "      <td>Unfurnished</td>\n",
       "      <td>NaN</td>\n",
       "      <td>3</td>\n",
       "      <td>1</td>\n",
       "      <td>2 days ago</td>\n",
       "      <td>1 Covered Parking</td>\n",
       "    </tr>\n",
       "    <tr>\n",
       "      <th>9950</th>\n",
       "      <td>1 BHK Flat</td>\n",
       "      <td>0.97</td>\n",
       "      <td>Tardeo</td>\n",
       "      <td>315</td>\n",
       "      <td>5.0</td>\n",
       "      <td>16.0</td>\n",
       "      <td>NaN</td>\n",
       "      <td>NaN</td>\n",
       "      <td>1</td>\n",
       "      <td>No Balcony</td>\n",
       "      <td>More than a month ago</td>\n",
       "      <td>1 Open Parking</td>\n",
       "    </tr>\n",
       "    <tr>\n",
       "      <th>9953</th>\n",
       "      <td>2 BHK Flat</td>\n",
       "      <td>2.36</td>\n",
       "      <td>Kandivali West</td>\n",
       "      <td>706</td>\n",
       "      <td>2.0</td>\n",
       "      <td>40.0</td>\n",
       "      <td>Unfurnished</td>\n",
       "      <td>NaN</td>\n",
       "      <td>2</td>\n",
       "      <td>2</td>\n",
       "      <td>-</td>\n",
       "      <td>-</td>\n",
       "    </tr>\n",
       "    <tr>\n",
       "      <th>9954</th>\n",
       "      <td>1 BHK Flat</td>\n",
       "      <td>0.90</td>\n",
       "      <td>Mulund West</td>\n",
       "      <td>500</td>\n",
       "      <td>5.0</td>\n",
       "      <td>16.0</td>\n",
       "      <td>NaN</td>\n",
       "      <td>NaN</td>\n",
       "      <td>1</td>\n",
       "      <td>-</td>\n",
       "      <td>13 days ago</td>\n",
       "      <td>-</td>\n",
       "    </tr>\n",
       "  </tbody>\n",
       "</table>\n",
       "<p>9550 rows × 12 columns</p>\n",
       "</div>"
      ],
      "text/plain": [
       "       flat_type  price          address buildup_area  age_of_property  \\\n",
       "0     3 BHK Flat   3.95  Kanjurmarg West         1550              3.0   \n",
       "1     1 BHK Flat   0.19          Palghar          630              3.0   \n",
       "2     1 BHK Flat   0.73   Mira Road East          580              1.0   \n",
       "3     1 BHK Flat   1.10     Dahisar East          410              1.0   \n",
       "4     3 BHK Flat   2.25           others         1052              1.0   \n",
       "...          ...    ...              ...          ...              ...   \n",
       "9947  1 BHK Flat   0.20     Naigaon East          280             10.0   \n",
       "9948  2 BHK Flat  10.50    Cumballa Hill         1170             45.0   \n",
       "9950  1 BHK Flat   0.97           Tardeo          315              5.0   \n",
       "9953  2 BHK Flat   2.36   Kandivali West          706              2.0   \n",
       "9954  1 BHK Flat   0.90      Mulund West          500              5.0   \n",
       "\n",
       "      which_floor           facing furnicing bedrooms   bathrooms  \\\n",
       "0            50.0  Fully Furnished       NaN        3           2   \n",
       "1             4.0      Unfurnished       NaN        1           1   \n",
       "2            25.0   Semi Furnished       NaN        1           2   \n",
       "3            35.0   Semi Furnished       NaN        1           2   \n",
       "4            26.0   Semi Furnished       NaN        3           2   \n",
       "...           ...              ...       ...      ...         ...   \n",
       "9947          7.0   Semi Furnished       NaN        1  No Balcony   \n",
       "9948          9.0      Unfurnished       NaN        3           1   \n",
       "9950         16.0              NaN       NaN        1  No Balcony   \n",
       "9953         40.0      Unfurnished       NaN        2           2   \n",
       "9954         16.0              NaN       NaN        1           -   \n",
       "\n",
       "                    balcony            parking  \n",
       "0                         1  2 Covered Parking  \n",
       "1                         2     1 Open Parking  \n",
       "2                         2         No Parking  \n",
       "3                         1  2 Covered Parking  \n",
       "4                         3  1 Covered Parking  \n",
       "...                     ...                ...  \n",
       "9947             4 days ago         No Parking  \n",
       "9948             2 days ago  1 Covered Parking  \n",
       "9950  More than a month ago     1 Open Parking  \n",
       "9953                      -                  -  \n",
       "9954            13 days ago                  -  \n",
       "\n",
       "[9550 rows x 12 columns]"
      ]
     },
     "execution_count": 561,
     "metadata": {},
     "output_type": "execute_result"
    }
   ],
   "source": [
    "df"
   ]
  },
  {
   "cell_type": "code",
   "execution_count": 562,
   "metadata": {},
   "outputs": [
    {
     "data": {
      "text/plain": [
       "flat_type             0\n",
       "price                 0\n",
       "address               0\n",
       "buildup_area          0\n",
       "age_of_property       0\n",
       "which_floor           0\n",
       "facing             1892\n",
       "furnicing          9549\n",
       "bedrooms              0\n",
       "bathrooms           108\n",
       "balcony             185\n",
       "parking               0\n",
       "dtype: int64"
      ]
     },
     "execution_count": 562,
     "metadata": {},
     "output_type": "execute_result"
    }
   ],
   "source": [
    "df.isna().sum()"
   ]
  },
  {
   "cell_type": "code",
   "execution_count": 563,
   "metadata": {},
   "outputs": [
    {
     "data": {
      "text/plain": [
       "array(['Fully Furnished', 'Unfurnished', 'Semi Furnished', nan,\n",
       "       'East facing'], dtype=object)"
      ]
     },
     "execution_count": 563,
     "metadata": {},
     "output_type": "execute_result"
    }
   ],
   "source": [
    "df['facing'].unique()"
   ]
  },
  {
   "cell_type": "code",
   "execution_count": 564,
   "metadata": {},
   "outputs": [
    {
     "data": {
      "text/plain": [
       "facing\n",
       "Semi Furnished     3532\n",
       "Unfurnished        3066\n",
       "Fully Furnished    1059\n",
       "East facing           1\n",
       "Name: count, dtype: int64"
      ]
     },
     "execution_count": 564,
     "metadata": {},
     "output_type": "execute_result"
    }
   ],
   "source": [
    "df['facing'].value_counts()"
   ]
  },
  {
   "cell_type": "code",
   "execution_count": 565,
   "metadata": {},
   "outputs": [
    {
     "data": {
      "text/html": [
       "<div>\n",
       "<style scoped>\n",
       "    .dataframe tbody tr th:only-of-type {\n",
       "        vertical-align: middle;\n",
       "    }\n",
       "\n",
       "    .dataframe tbody tr th {\n",
       "        vertical-align: top;\n",
       "    }\n",
       "\n",
       "    .dataframe thead th {\n",
       "        text-align: right;\n",
       "    }\n",
       "</style>\n",
       "<table border=\"1\" class=\"dataframe\">\n",
       "  <thead>\n",
       "    <tr style=\"text-align: right;\">\n",
       "      <th></th>\n",
       "      <th>flat_type</th>\n",
       "      <th>price</th>\n",
       "      <th>address</th>\n",
       "      <th>buildup_area</th>\n",
       "      <th>age_of_property</th>\n",
       "      <th>which_floor</th>\n",
       "      <th>facing</th>\n",
       "      <th>furnicing</th>\n",
       "      <th>bedrooms</th>\n",
       "      <th>bathrooms</th>\n",
       "      <th>balcony</th>\n",
       "      <th>parking</th>\n",
       "    </tr>\n",
       "  </thead>\n",
       "  <tbody>\n",
       "    <tr>\n",
       "      <th>1261</th>\n",
       "      <td>3 BHK Flat</td>\n",
       "      <td>2.51</td>\n",
       "      <td>Dahisar West</td>\n",
       "      <td>1050</td>\n",
       "      <td>5.0</td>\n",
       "      <td>16.0</td>\n",
       "      <td>East facing</td>\n",
       "      <td>Semi Furnished</td>\n",
       "      <td>3</td>\n",
       "      <td>4</td>\n",
       "      <td>No Balcony</td>\n",
       "      <td>1 Covered Parking</td>\n",
       "    </tr>\n",
       "  </tbody>\n",
       "</table>\n",
       "</div>"
      ],
      "text/plain": [
       "       flat_type  price       address buildup_area  age_of_property  \\\n",
       "1261  3 BHK Flat   2.51  Dahisar West         1050              5.0   \n",
       "\n",
       "      which_floor       facing       furnicing bedrooms bathrooms     balcony  \\\n",
       "1261         16.0  East facing  Semi Furnished        3         4  No Balcony   \n",
       "\n",
       "                parking  \n",
       "1261  1 Covered Parking  "
      ]
     },
     "execution_count": 565,
     "metadata": {},
     "output_type": "execute_result"
    }
   ],
   "source": [
    "df[df['facing'] == 'East facing']"
   ]
  },
  {
   "cell_type": "code",
   "execution_count": 566,
   "metadata": {},
   "outputs": [],
   "source": [
    "df = df.drop(index=1261)"
   ]
  },
  {
   "cell_type": "code",
   "execution_count": 567,
   "metadata": {},
   "outputs": [],
   "source": [
    "df.rename(columns={\"facing\":\"furnishing\"},inplace=True)"
   ]
  },
  {
   "cell_type": "code",
   "execution_count": 568,
   "metadata": {},
   "outputs": [],
   "source": [
    "df.drop(columns=['furnicing'],inplace=True)"
   ]
  },
  {
   "cell_type": "code",
   "execution_count": 569,
   "metadata": {},
   "outputs": [
    {
     "data": {
      "text/plain": [
       "flat_type             0\n",
       "price                 0\n",
       "address               0\n",
       "buildup_area          0\n",
       "age_of_property       0\n",
       "which_floor           0\n",
       "furnishing         1892\n",
       "bedrooms              0\n",
       "bathrooms           108\n",
       "balcony             185\n",
       "parking               0\n",
       "dtype: int64"
      ]
     },
     "execution_count": 569,
     "metadata": {},
     "output_type": "execute_result"
    }
   ],
   "source": [
    "df.isna().sum()"
   ]
  },
  {
   "cell_type": "code",
   "execution_count": 570,
   "metadata": {},
   "outputs": [
    {
     "data": {
      "text/plain": [
       "array(['Fully Furnished', 'Unfurnished', 'Semi Furnished', nan],\n",
       "      dtype=object)"
      ]
     },
     "execution_count": 570,
     "metadata": {},
     "output_type": "execute_result"
    }
   ],
   "source": [
    "df['furnishing'].unique()"
   ]
  },
  {
   "cell_type": "code",
   "execution_count": 571,
   "metadata": {},
   "outputs": [
    {
     "data": {
      "text/plain": [
       "'Semi Furnished'"
      ]
     },
     "execution_count": 571,
     "metadata": {},
     "output_type": "execute_result"
    }
   ],
   "source": [
    "df['furnishing'].mode()[0]"
   ]
  },
  {
   "cell_type": "code",
   "execution_count": 572,
   "metadata": {},
   "outputs": [],
   "source": [
    "df['furnishing'] = df['furnishing'].fillna(df['furnishing'].mode()[0])"
   ]
  },
  {
   "cell_type": "code",
   "execution_count": 573,
   "metadata": {},
   "outputs": [
    {
     "data": {
      "text/plain": [
       "bedrooms\n",
       "2                        3887\n",
       "1                        2445\n",
       "3                        2334\n",
       "4                         650\n",
       "5                         114\n",
       "No Balcony                 53\n",
       "6                          46\n",
       "-                          15\n",
       "7                           4\n",
       "More than a month ago       1\n",
       "Name: count, dtype: int64"
      ]
     },
     "execution_count": 573,
     "metadata": {},
     "output_type": "execute_result"
    }
   ],
   "source": [
    "df['bedrooms'].value_counts()"
   ]
  },
  {
   "cell_type": "code",
   "execution_count": 574,
   "metadata": {},
   "outputs": [
    {
     "data": {
      "text/plain": [
       "array(['3', '1', '2', '4', '7', 'No Balcony', '6', '5', '-',\n",
       "       'More than a month ago'], dtype=object)"
      ]
     },
     "execution_count": 574,
     "metadata": {},
     "output_type": "execute_result"
    }
   ],
   "source": [
    "df['bedrooms'].unique()"
   ]
  },
  {
   "cell_type": "code",
   "execution_count": 576,
   "metadata": {},
   "outputs": [],
   "source": [
    "def converter(value):\n",
    "    try:\n",
    "        a = int(value)\n",
    "        return a\n",
    "    except:\n",
    "        return np.nan"
   ]
  },
  {
   "cell_type": "code",
   "execution_count": 577,
   "metadata": {},
   "outputs": [
    {
     "data": {
      "text/plain": [
       "nan"
      ]
     },
     "execution_count": 577,
     "metadata": {},
     "output_type": "execute_result"
    }
   ],
   "source": [
    "converter(\"more than month\")"
   ]
  },
  {
   "cell_type": "code",
   "execution_count": 578,
   "metadata": {},
   "outputs": [
    {
     "data": {
      "text/plain": [
       "6"
      ]
     },
     "execution_count": 578,
     "metadata": {},
     "output_type": "execute_result"
    }
   ],
   "source": [
    "converter(\"6\")"
   ]
  },
  {
   "cell_type": "code",
   "execution_count": 580,
   "metadata": {},
   "outputs": [],
   "source": [
    "df['bedrooms'] = df['bedrooms'].apply(converter)"
   ]
  },
  {
   "cell_type": "code",
   "execution_count": 581,
   "metadata": {},
   "outputs": [
    {
     "data": {
      "text/plain": [
       "69"
      ]
     },
     "execution_count": 581,
     "metadata": {},
     "output_type": "execute_result"
    }
   ],
   "source": [
    "df['bedrooms'].isna().sum()"
   ]
  },
  {
   "cell_type": "code",
   "execution_count": 582,
   "metadata": {},
   "outputs": [
    {
     "data": {
      "text/plain": [
       "bedrooms\n",
       "2.0    3887\n",
       "1.0    2445\n",
       "3.0    2334\n",
       "4.0     650\n",
       "5.0     114\n",
       "6.0      46\n",
       "7.0       4\n",
       "Name: count, dtype: int64"
      ]
     },
     "execution_count": 582,
     "metadata": {},
     "output_type": "execute_result"
    }
   ],
   "source": [
    "df['bedrooms'].value_counts()"
   ]
  },
  {
   "cell_type": "code",
   "execution_count": 584,
   "metadata": {},
   "outputs": [
    {
     "data": {
      "text/plain": [
       "5"
      ]
     },
     "execution_count": 584,
     "metadata": {},
     "output_type": "execute_result"
    }
   ],
   "source": [
    "df.duplicated().sum()"
   ]
  },
  {
   "cell_type": "code",
   "execution_count": 585,
   "metadata": {},
   "outputs": [],
   "source": [
    "df.drop_duplicates(inplace=True)"
   ]
  },
  {
   "cell_type": "code",
   "execution_count": 586,
   "metadata": {},
   "outputs": [
    {
     "data": {
      "text/plain": [
       "array(['2', '1', '3', '5', '4', 'No Balcony', nan, '6', '7',\n",
       "       'More than a month ago', '-', 'Just now', '8'], dtype=object)"
      ]
     },
     "execution_count": 586,
     "metadata": {},
     "output_type": "execute_result"
    }
   ],
   "source": [
    "df['bathrooms'].unique()"
   ]
  },
  {
   "cell_type": "code",
   "execution_count": 587,
   "metadata": {},
   "outputs": [
    {
     "data": {
      "text/plain": [
       "bathrooms\n",
       "2                        4139\n",
       "No Balcony               1796\n",
       "3                        1589\n",
       "1                        1335\n",
       "4                         354\n",
       "5                          87\n",
       "More than a month ago      67\n",
       "-                          30\n",
       "6                          21\n",
       "Just now                   10\n",
       "7                           7\n",
       "8                           1\n",
       "Name: count, dtype: int64"
      ]
     },
     "execution_count": 587,
     "metadata": {},
     "output_type": "execute_result"
    }
   ],
   "source": [
    "df['bathrooms'].value_counts()"
   ]
  },
  {
   "cell_type": "code",
   "execution_count": 592,
   "metadata": {},
   "outputs": [],
   "source": [
    "temp = df[df['bathrooms'] == 'No Balcony'][['bathrooms','balcony']]"
   ]
  },
  {
   "cell_type": "code",
   "execution_count": 593,
   "metadata": {},
   "outputs": [
    {
     "data": {
      "text/html": [
       "<div>\n",
       "<style scoped>\n",
       "    .dataframe tbody tr th:only-of-type {\n",
       "        vertical-align: middle;\n",
       "    }\n",
       "\n",
       "    .dataframe tbody tr th {\n",
       "        vertical-align: top;\n",
       "    }\n",
       "\n",
       "    .dataframe thead th {\n",
       "        text-align: right;\n",
       "    }\n",
       "</style>\n",
       "<table border=\"1\" class=\"dataframe\">\n",
       "  <thead>\n",
       "    <tr style=\"text-align: right;\">\n",
       "      <th></th>\n",
       "      <th>bathrooms</th>\n",
       "      <th>balcony</th>\n",
       "    </tr>\n",
       "  </thead>\n",
       "  <tbody>\n",
       "    <tr>\n",
       "      <th>50</th>\n",
       "      <td>No Balcony</td>\n",
       "      <td>16 days ago</td>\n",
       "    </tr>\n",
       "    <tr>\n",
       "      <th>52</th>\n",
       "      <td>No Balcony</td>\n",
       "      <td>More than a month ago</td>\n",
       "    </tr>\n",
       "    <tr>\n",
       "      <th>59</th>\n",
       "      <td>No Balcony</td>\n",
       "      <td>13 days ago</td>\n",
       "    </tr>\n",
       "    <tr>\n",
       "      <th>60</th>\n",
       "      <td>No Balcony</td>\n",
       "      <td>22 days ago</td>\n",
       "    </tr>\n",
       "    <tr>\n",
       "      <th>61</th>\n",
       "      <td>No Balcony</td>\n",
       "      <td>More than a month ago</td>\n",
       "    </tr>\n",
       "    <tr>\n",
       "      <th>...</th>\n",
       "      <td>...</td>\n",
       "      <td>...</td>\n",
       "    </tr>\n",
       "    <tr>\n",
       "      <th>9939</th>\n",
       "      <td>No Balcony</td>\n",
       "      <td>More than a month ago</td>\n",
       "    </tr>\n",
       "    <tr>\n",
       "      <th>9940</th>\n",
       "      <td>No Balcony</td>\n",
       "      <td>More than a month ago</td>\n",
       "    </tr>\n",
       "    <tr>\n",
       "      <th>9945</th>\n",
       "      <td>No Balcony</td>\n",
       "      <td>2 days ago</td>\n",
       "    </tr>\n",
       "    <tr>\n",
       "      <th>9947</th>\n",
       "      <td>No Balcony</td>\n",
       "      <td>4 days ago</td>\n",
       "    </tr>\n",
       "    <tr>\n",
       "      <th>9950</th>\n",
       "      <td>No Balcony</td>\n",
       "      <td>More than a month ago</td>\n",
       "    </tr>\n",
       "  </tbody>\n",
       "</table>\n",
       "<p>1796 rows × 2 columns</p>\n",
       "</div>"
      ],
      "text/plain": [
       "       bathrooms                balcony\n",
       "50    No Balcony            16 days ago\n",
       "52    No Balcony  More than a month ago\n",
       "59    No Balcony            13 days ago\n",
       "60    No Balcony            22 days ago\n",
       "61    No Balcony  More than a month ago\n",
       "...          ...                    ...\n",
       "9939  No Balcony  More than a month ago\n",
       "9940  No Balcony  More than a month ago\n",
       "9945  No Balcony             2 days ago\n",
       "9947  No Balcony             4 days ago\n",
       "9950  No Balcony  More than a month ago\n",
       "\n",
       "[1796 rows x 2 columns]"
      ]
     },
     "execution_count": 593,
     "metadata": {},
     "output_type": "execute_result"
    }
   ],
   "source": [
    "temp"
   ]
  },
  {
   "cell_type": "code",
   "execution_count": 598,
   "metadata": {},
   "outputs": [],
   "source": [
    "x = temp.shift(1,axis=1).values"
   ]
  },
  {
   "cell_type": "code",
   "execution_count": 602,
   "metadata": {},
   "outputs": [],
   "source": [
    "df.loc[temp.index,df.columns[8:10]] = x"
   ]
  },
  {
   "cell_type": "code",
   "execution_count": 604,
   "metadata": {},
   "outputs": [
    {
     "data": {
      "text/plain": [
       "bathrooms\n",
       "2                        4139\n",
       "3                        1589\n",
       "1                        1335\n",
       "4                         354\n",
       "5                          87\n",
       "More than a month ago      67\n",
       "-                          30\n",
       "6                          21\n",
       "Just now                   10\n",
       "7                           7\n",
       "8                           1\n",
       "Name: count, dtype: int64"
      ]
     },
     "execution_count": 604,
     "metadata": {},
     "output_type": "execute_result"
    }
   ],
   "source": [
    "df['bathrooms'].value_counts()"
   ]
  },
  {
   "cell_type": "code",
   "execution_count": 605,
   "metadata": {},
   "outputs": [],
   "source": [
    "df['bathrooms'] = df['bathrooms'].apply(converter)"
   ]
  },
  {
   "cell_type": "code",
   "execution_count": 609,
   "metadata": {},
   "outputs": [
    {
     "data": {
      "text/plain": [
       "2011"
      ]
     },
     "execution_count": 609,
     "metadata": {},
     "output_type": "execute_result"
    }
   ],
   "source": [
    "df['bathrooms'].isna().sum()"
   ]
  },
  {
   "cell_type": "code",
   "execution_count": 617,
   "metadata": {},
   "outputs": [
    {
     "data": {
      "text/html": [
       "<div>\n",
       "<style scoped>\n",
       "    .dataframe tbody tr th:only-of-type {\n",
       "        vertical-align: middle;\n",
       "    }\n",
       "\n",
       "    .dataframe tbody tr th {\n",
       "        vertical-align: top;\n",
       "    }\n",
       "\n",
       "    .dataframe thead th {\n",
       "        text-align: right;\n",
       "    }\n",
       "</style>\n",
       "<table border=\"1\" class=\"dataframe\">\n",
       "  <thead>\n",
       "    <tr style=\"text-align: right;\">\n",
       "      <th></th>\n",
       "      <th>flat_type</th>\n",
       "      <th>price</th>\n",
       "      <th>address</th>\n",
       "      <th>buildup_area</th>\n",
       "      <th>age_of_property</th>\n",
       "      <th>which_floor</th>\n",
       "      <th>furnishing</th>\n",
       "      <th>bedrooms</th>\n",
       "      <th>bathrooms</th>\n",
       "      <th>balcony</th>\n",
       "      <th>parking</th>\n",
       "    </tr>\n",
       "  </thead>\n",
       "  <tbody>\n",
       "    <tr>\n",
       "      <th>1047</th>\n",
       "      <td>3 BHK Flat</td>\n",
       "      <td>2.30</td>\n",
       "      <td>Andheri West</td>\n",
       "      <td>866</td>\n",
       "      <td>3.0</td>\n",
       "      <td>21.0</td>\n",
       "      <td>Unfurnished</td>\n",
       "      <td>3.0</td>\n",
       "      <td>2.0</td>\n",
       "      <td>No Balcony</td>\n",
       "      <td>1 Open Parking</td>\n",
       "    </tr>\n",
       "    <tr>\n",
       "      <th>8759</th>\n",
       "      <td>3 BHK Flat</td>\n",
       "      <td>3.25</td>\n",
       "      <td>Borivali West</td>\n",
       "      <td>1350</td>\n",
       "      <td>10.0</td>\n",
       "      <td>18.0</td>\n",
       "      <td>Semi Furnished</td>\n",
       "      <td>3.0</td>\n",
       "      <td>3.0</td>\n",
       "      <td>No Balcony</td>\n",
       "      <td>1 Covered Parking</td>\n",
       "    </tr>\n",
       "    <tr>\n",
       "      <th>495</th>\n",
       "      <td>2 BHK Flat</td>\n",
       "      <td>1.72</td>\n",
       "      <td>Andheri West</td>\n",
       "      <td>600</td>\n",
       "      <td>5.0</td>\n",
       "      <td>16.0</td>\n",
       "      <td>Semi Furnished</td>\n",
       "      <td>2.0</td>\n",
       "      <td>2.0</td>\n",
       "      <td>No Balcony</td>\n",
       "      <td>1 Covered Parking</td>\n",
       "    </tr>\n",
       "    <tr>\n",
       "      <th>8086</th>\n",
       "      <td>3 BHK Flat</td>\n",
       "      <td>3.15</td>\n",
       "      <td>Chembur</td>\n",
       "      <td>1050</td>\n",
       "      <td>8.0</td>\n",
       "      <td>12.0</td>\n",
       "      <td>Semi Furnished</td>\n",
       "      <td>3.0</td>\n",
       "      <td>2.0</td>\n",
       "      <td>No Balcony</td>\n",
       "      <td>1 Open Parking</td>\n",
       "    </tr>\n",
       "    <tr>\n",
       "      <th>4691</th>\n",
       "      <td>3 BHK Flat</td>\n",
       "      <td>4.20</td>\n",
       "      <td>Jogeshwari West</td>\n",
       "      <td>1450</td>\n",
       "      <td>12.0</td>\n",
       "      <td>7.0</td>\n",
       "      <td>Semi Furnished</td>\n",
       "      <td>3.0</td>\n",
       "      <td>NaN</td>\n",
       "      <td>No Balcony</td>\n",
       "      <td>1 Covered Parking</td>\n",
       "    </tr>\n",
       "    <tr>\n",
       "      <th>9265</th>\n",
       "      <td>3 BHK Flat</td>\n",
       "      <td>0.76</td>\n",
       "      <td>Virar West</td>\n",
       "      <td>1450</td>\n",
       "      <td>10.0</td>\n",
       "      <td>7.0</td>\n",
       "      <td>Semi Furnished</td>\n",
       "      <td>3.0</td>\n",
       "      <td>3.0</td>\n",
       "      <td>2</td>\n",
       "      <td>1 Open Parking</td>\n",
       "    </tr>\n",
       "  </tbody>\n",
       "</table>\n",
       "</div>"
      ],
      "text/plain": [
       "       flat_type  price          address buildup_area  age_of_property  \\\n",
       "1047  3 BHK Flat   2.30     Andheri West          866              3.0   \n",
       "8759  3 BHK Flat   3.25    Borivali West         1350             10.0   \n",
       "495   2 BHK Flat   1.72     Andheri West          600              5.0   \n",
       "8086  3 BHK Flat   3.15          Chembur         1050              8.0   \n",
       "4691  3 BHK Flat   4.20  Jogeshwari West         1450             12.0   \n",
       "9265  3 BHK Flat   0.76       Virar West         1450             10.0   \n",
       "\n",
       "      which_floor      furnishing  bedrooms  bathrooms     balcony  \\\n",
       "1047         21.0     Unfurnished       3.0        2.0  No Balcony   \n",
       "8759         18.0  Semi Furnished       3.0        3.0  No Balcony   \n",
       "495          16.0  Semi Furnished       2.0        2.0  No Balcony   \n",
       "8086         12.0  Semi Furnished       3.0        2.0  No Balcony   \n",
       "4691          7.0  Semi Furnished       3.0        NaN  No Balcony   \n",
       "9265          7.0  Semi Furnished       3.0        3.0           2   \n",
       "\n",
       "                parking  \n",
       "1047     1 Open Parking  \n",
       "8759  1 Covered Parking  \n",
       "495   1 Covered Parking  \n",
       "8086     1 Open Parking  \n",
       "4691  1 Covered Parking  \n",
       "9265     1 Open Parking  "
      ]
     },
     "execution_count": 617,
     "metadata": {},
     "output_type": "execute_result"
    }
   ],
   "source": [
    "df.sample(6)"
   ]
  },
  {
   "cell_type": "code",
   "execution_count": 618,
   "metadata": {},
   "outputs": [
    {
     "data": {
      "text/plain": [
       "array(['1', '2', '3', 'No Balcony', '12 days ago', '4',\n",
       "       'More than a month ago', '11 days ago', '13 days ago',\n",
       "       '3 days ago', '6 days ago', '18 days ago', '17 days ago',\n",
       "       '19 days ago', '15 days ago', '20 days ago', nan, '26 days ago',\n",
       "       '25 days ago', '24 days ago', '30 days ago', '23 days ago',\n",
       "       '21 days ago', '2 days ago', '14 days ago', '5', '29 days ago',\n",
       "       '16 days ago', 'Just now', '22 days ago', '4 days ago',\n",
       "       '28 days ago', '-', '10 days ago', 'Full', '5 days ago',\n",
       "       '7 days ago', '27 days ago', '9 days ago', '8 days ago', '7', '6'],\n",
       "      dtype=object)"
      ]
     },
     "execution_count": 618,
     "metadata": {},
     "output_type": "execute_result"
    }
   ],
   "source": [
    "df['balcony'].unique()"
   ]
  },
  {
   "cell_type": "code",
   "execution_count": 619,
   "metadata": {},
   "outputs": [
    {
     "data": {
      "text/plain": [
       "balcony\n",
       "No Balcony               4235\n",
       "1                        1306\n",
       "2                         936\n",
       "3                         753\n",
       "More than a month ago     405\n",
       "4                         171\n",
       "Just now                   81\n",
       "2 days ago                 59\n",
       "9 days ago                 53\n",
       "12 days ago                52\n",
       "29 days ago                46\n",
       "11 days ago                41\n",
       "4 days ago                 39\n",
       "10 days ago                39\n",
       "3 days ago                 37\n",
       "15 days ago                37\n",
       "8 days ago                 36\n",
       "19 days ago                35\n",
       "6 days ago                 35\n",
       "28 days ago                34\n",
       "22 days ago                33\n",
       "5                          32\n",
       "16 days ago                32\n",
       "5 days ago                 31\n",
       "20 days ago                30\n",
       "25 days ago                30\n",
       "18 days ago                30\n",
       "13 days ago                28\n",
       "17 days ago                28\n",
       "21 days ago                25\n",
       "-                          25\n",
       "24 days ago                23\n",
       "14 days ago                22\n",
       "26 days ago                22\n",
       "7 days ago                 20\n",
       "27 days ago                20\n",
       "Full                       19\n",
       "30 days ago                18\n",
       "23 days ago                14\n",
       "6                           4\n",
       "7                           3\n",
       "Name: count, dtype: int64"
      ]
     },
     "execution_count": 619,
     "metadata": {},
     "output_type": "execute_result"
    }
   ],
   "source": [
    "df['balcony'].value_counts()"
   ]
  },
  {
   "cell_type": "code",
   "execution_count": 620,
   "metadata": {},
   "outputs": [],
   "source": [
    "df['balcony'] = df['balcony'].replace({\"No Balcony\":0})"
   ]
  },
  {
   "cell_type": "code",
   "execution_count": 621,
   "metadata": {},
   "outputs": [
    {
     "data": {
      "text/plain": [
       "balcony\n",
       "0                        4235\n",
       "1                        1306\n",
       "2                         936\n",
       "3                         753\n",
       "More than a month ago     405\n",
       "4                         171\n",
       "Just now                   81\n",
       "2 days ago                 59\n",
       "9 days ago                 53\n",
       "12 days ago                52\n",
       "29 days ago                46\n",
       "11 days ago                41\n",
       "4 days ago                 39\n",
       "10 days ago                39\n",
       "3 days ago                 37\n",
       "15 days ago                37\n",
       "8 days ago                 36\n",
       "19 days ago                35\n",
       "6 days ago                 35\n",
       "28 days ago                34\n",
       "22 days ago                33\n",
       "5                          32\n",
       "16 days ago                32\n",
       "5 days ago                 31\n",
       "20 days ago                30\n",
       "25 days ago                30\n",
       "18 days ago                30\n",
       "13 days ago                28\n",
       "17 days ago                28\n",
       "21 days ago                25\n",
       "-                          25\n",
       "24 days ago                23\n",
       "14 days ago                22\n",
       "26 days ago                22\n",
       "7 days ago                 20\n",
       "27 days ago                20\n",
       "Full                       19\n",
       "30 days ago                18\n",
       "23 days ago                14\n",
       "6                           4\n",
       "7                           3\n",
       "Name: count, dtype: int64"
      ]
     },
     "execution_count": 621,
     "metadata": {},
     "output_type": "execute_result"
    }
   ],
   "source": [
    "df['balcony'].value_counts()"
   ]
  },
  {
   "cell_type": "code",
   "execution_count": 622,
   "metadata": {},
   "outputs": [
    {
     "data": {
      "text/plain": [
       "179"
      ]
     },
     "execution_count": 622,
     "metadata": {},
     "output_type": "execute_result"
    }
   ],
   "source": [
    "df['balcony'].isna().sum()"
   ]
  },
  {
   "cell_type": "code",
   "execution_count": 623,
   "metadata": {},
   "outputs": [],
   "source": [
    "df['balcony'] = df['balcony'].apply(converter)"
   ]
  },
  {
   "cell_type": "code",
   "execution_count": 625,
   "metadata": {},
   "outputs": [
    {
     "data": {
      "text/plain": [
       "0"
      ]
     },
     "execution_count": 625,
     "metadata": {},
     "output_type": "execute_result"
    }
   ],
   "source": [
    "df['parking'].isna().sum()"
   ]
  },
  {
   "cell_type": "code",
   "execution_count": 626,
   "metadata": {},
   "outputs": [
    {
     "data": {
      "text/plain": [
       "parking\n",
       "1 Covered Parking               3067\n",
       "1 Open Parking                  2413\n",
       "2 Covered Parking               1097\n",
       "1 Covered and 1 Open Parking    1027\n",
       "No Parking                       789\n",
       "3 Covered Parking                216\n",
       "2 Covered and 1 Open Parking     150\n",
       "2 Open Parking                    92\n",
       "-                                 47\n",
       "1 Covered and 2 Open Parking      42\n",
       "4 Covered Parking                 41\n",
       "2 Covered and 2 Open Parking      39\n",
       "3 Covered and 1 Open Parking      19\n",
       "3 Covered and 2 Open Parking      16\n",
       "3 Open Parking                    13\n",
       "3 Covered and 3 Open Parking       8\n",
       "4 Open Parking                     3\n",
       "5 Covered Parking                  3\n",
       "2 Covered and 3 Open Parking       3\n",
       "8 Covered Parking                  2\n",
       "3 Covered and 4 Open Parking       2\n",
       "1 Covered and 3 Open Parking       2\n",
       "4 Covered and 4 Open Parking       1\n",
       "6 Covered Parking                  1\n",
       "4 Covered and 1 Open Parking       1\n",
       "4 Covered and 2 Open Parking       1\n",
       "5 Covered and 1 Open Parking       1\n",
       "2 Covered and 4 Open Parking       1\n",
       "1 Covered and 5 Open Parking       1\n",
       "Name: count, dtype: int64"
      ]
     },
     "execution_count": 626,
     "metadata": {},
     "output_type": "execute_result"
    }
   ],
   "source": [
    "df['parking'].value_counts()"
   ]
  },
  {
   "cell_type": "code",
   "execution_count": 627,
   "metadata": {},
   "outputs": [
    {
     "data": {
      "text/plain": [
       "array(['2 Covered Parking', '1 Open Parking', 'No Parking',\n",
       "       '1 Covered Parking', '1 Covered and 1 Open Parking',\n",
       "       '2 Covered and 1 Open Parking', '3 Covered Parking',\n",
       "       '3 Covered and 3 Open Parking', '2 Open Parking',\n",
       "       '1 Covered and 2 Open Parking', '2 Covered and 2 Open Parking',\n",
       "       '4 Covered Parking', '3 Covered and 2 Open Parking', '-',\n",
       "       '3 Open Parking', '3 Covered and 1 Open Parking',\n",
       "       '4 Covered and 4 Open Parking', '4 Open Parking',\n",
       "       '6 Covered Parking', '5 Covered Parking',\n",
       "       '4 Covered and 1 Open Parking', '2 Covered and 3 Open Parking',\n",
       "       '8 Covered Parking', '4 Covered and 2 Open Parking',\n",
       "       '3 Covered and 4 Open Parking', '5 Covered and 1 Open Parking',\n",
       "       '2 Covered and 4 Open Parking', '1 Covered and 5 Open Parking',\n",
       "       '1 Covered and 3 Open Parking'], dtype=object)"
      ]
     },
     "execution_count": 627,
     "metadata": {},
     "output_type": "execute_result"
    }
   ],
   "source": [
    "df['parking'].unique()"
   ]
  },
  {
   "cell_type": "code",
   "execution_count": 628,
   "metadata": {},
   "outputs": [],
   "source": [
    "def parking(value):\n",
    "    if value == 'No Parking':\n",
    "        return 'no'\n",
    "    else:\n",
    "        return 'yes'"
   ]
  },
  {
   "cell_type": "code",
   "execution_count": 629,
   "metadata": {},
   "outputs": [],
   "source": [
    "df['parking'] = df['parking'].apply(parking)"
   ]
  },
  {
   "cell_type": "code",
   "execution_count": 631,
   "metadata": {},
   "outputs": [],
   "source": [
    "df.to_csv(\"cleaned_level1.csv\",index=False)"
   ]
  },
  {
   "cell_type": "code",
   "execution_count": null,
   "metadata": {},
   "outputs": [],
   "source": []
  }
 ],
 "metadata": {
  "kernelspec": {
   "display_name": "Python 3",
   "language": "python",
   "name": "python3"
  },
  "language_info": {
   "codemirror_mode": {
    "name": "ipython",
    "version": 3
   },
   "file_extension": ".py",
   "mimetype": "text/x-python",
   "name": "python",
   "nbconvert_exporter": "python",
   "pygments_lexer": "ipython3",
   "version": "3.12.3"
  }
 },
 "nbformat": 4,
 "nbformat_minor": 2
}
