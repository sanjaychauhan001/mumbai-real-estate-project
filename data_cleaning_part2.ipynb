{
 "cells": [
  {
   "cell_type": "code",
   "execution_count": 151,
   "metadata": {},
   "outputs": [],
   "source": [
    "import pandas as pd\n",
    "import numpy as np"
   ]
  },
  {
   "cell_type": "code",
   "execution_count": 152,
   "metadata": {},
   "outputs": [],
   "source": [
    "pd.set_option('display.max_columns',None)"
   ]
  },
  {
   "cell_type": "code",
   "execution_count": 153,
   "metadata": {},
   "outputs": [
    {
     "data": {
      "text/html": [
       "<div>\n",
       "<style scoped>\n",
       "    .dataframe tbody tr th:only-of-type {\n",
       "        vertical-align: middle;\n",
       "    }\n",
       "\n",
       "    .dataframe tbody tr th {\n",
       "        vertical-align: top;\n",
       "    }\n",
       "\n",
       "    .dataframe thead th {\n",
       "        text-align: right;\n",
       "    }\n",
       "</style>\n",
       "<table border=\"1\" class=\"dataframe\">\n",
       "  <thead>\n",
       "    <tr style=\"text-align: right;\">\n",
       "      <th></th>\n",
       "      <th>flat_type</th>\n",
       "      <th>price</th>\n",
       "      <th>flat_price</th>\n",
       "      <th>address</th>\n",
       "      <th>location</th>\n",
       "      <th>location1</th>\n",
       "      <th>buildup_area</th>\n",
       "      <th>buildupArea_sqft</th>\n",
       "      <th>avg_price_sqft</th>\n",
       "      <th>avg_price_thousands</th>\n",
       "      <th>age_of_property</th>\n",
       "      <th>new_age</th>\n",
       "      <th>which_floor</th>\n",
       "      <th>furnishing</th>\n",
       "      <th>project_name</th>\n",
       "      <th>brokrage</th>\n",
       "      <th>carpet_area</th>\n",
       "      <th>bedrooms</th>\n",
       "      <th>bathrooms</th>\n",
       "      <th>balcony</th>\n",
       "      <th>parking</th>\n",
       "      <th>about_property</th>\n",
       "    </tr>\n",
       "  </thead>\n",
       "  <tbody>\n",
       "    <tr>\n",
       "      <th>0</th>\n",
       "      <td>3 BHK Flat</td>\n",
       "      <td>3.95 Cr</td>\n",
       "      <td>3.95</td>\n",
       "      <td>Runwal Forest Tower 5 To 8, Kanjurmarg West, M...</td>\n",
       "      <td>Kanjurmarg West</td>\n",
       "      <td>Kanjurmarg West</td>\n",
       "      <td>1550 sq.ft</td>\n",
       "      <td>1550</td>\n",
       "      <td>₹25.48 K/sq.ft</td>\n",
       "      <td>25480.0</td>\n",
       "      <td>3 Year Old</td>\n",
       "      <td>3</td>\n",
       "      <td>Higherof 50 floors</td>\n",
       "      <td>Fully Furnished</td>\n",
       "      <td>Runwal Forest Tower 5 To 8</td>\n",
       "      <td>4.0 LacsAccess Zero Brokerage Properties</td>\n",
       "      <td>1130 sq.ft</td>\n",
       "      <td>3</td>\n",
       "      <td>2</td>\n",
       "      <td>1</td>\n",
       "      <td>2 Covered Parking</td>\n",
       "      <td>Exclusive 3 bhk with 3 bathroom apartment  ava...</td>\n",
       "    </tr>\n",
       "    <tr>\n",
       "      <th>1</th>\n",
       "      <td>1 BHK Flat</td>\n",
       "      <td>19.0 L</td>\n",
       "      <td>0.19</td>\n",
       "      <td>Ananta Vardhman Nagar, Tembhode, Palghar, Mumbai</td>\n",
       "      <td>Palghar</td>\n",
       "      <td>Palghar</td>\n",
       "      <td>630 sq.ft</td>\n",
       "      <td>630</td>\n",
       "      <td>₹3.02 K/sq.ft</td>\n",
       "      <td>3020.0</td>\n",
       "      <td>3 Year Old</td>\n",
       "      <td>3</td>\n",
       "      <td>Middleof 4 floors</td>\n",
       "      <td>Unfurnished</td>\n",
       "      <td>Ananta Vardhman Nagar</td>\n",
       "      <td>No ChargeAccess Zero Brokerage Properties</td>\n",
       "      <td>390 sq.ft</td>\n",
       "      <td>1</td>\n",
       "      <td>1</td>\n",
       "      <td>2</td>\n",
       "      <td>1 Open Parking</td>\n",
       "      <td>1 BHK Flat for sale in Palghar, Mumbai - conta...</td>\n",
       "    </tr>\n",
       "  </tbody>\n",
       "</table>\n",
       "</div>"
      ],
      "text/plain": [
       "    flat_type    price  flat_price  \\\n",
       "0  3 BHK Flat  3.95 Cr        3.95   \n",
       "1  1 BHK Flat   19.0 L        0.19   \n",
       "\n",
       "                                             address         location  \\\n",
       "0  Runwal Forest Tower 5 To 8, Kanjurmarg West, M...  Kanjurmarg West   \n",
       "1   Ananta Vardhman Nagar, Tembhode, Palghar, Mumbai          Palghar   \n",
       "\n",
       "         location1 buildup_area  buildupArea_sqft  avg_price_sqft  \\\n",
       "0  Kanjurmarg West   1550 sq.ft              1550  ₹25.48 K/sq.ft   \n",
       "1          Palghar    630 sq.ft               630   ₹3.02 K/sq.ft   \n",
       "\n",
       "   avg_price_thousands age_of_property new_age         which_floor  \\\n",
       "0              25480.0      3 Year Old       3  Higherof 50 floors   \n",
       "1               3020.0      3 Year Old       3   Middleof 4 floors   \n",
       "\n",
       "        furnishing                project_name  \\\n",
       "0  Fully Furnished  Runwal Forest Tower 5 To 8   \n",
       "1      Unfurnished       Ananta Vardhman Nagar   \n",
       "\n",
       "                                    brokrage carpet_area bedrooms bathrooms  \\\n",
       "0   4.0 LacsAccess Zero Brokerage Properties  1130 sq.ft        3         2   \n",
       "1  No ChargeAccess Zero Brokerage Properties   390 sq.ft        1         1   \n",
       "\n",
       "  balcony            parking  \\\n",
       "0       1  2 Covered Parking   \n",
       "1       2     1 Open Parking   \n",
       "\n",
       "                                      about_property  \n",
       "0  Exclusive 3 bhk with 3 bathroom apartment  ava...  \n",
       "1  1 BHK Flat for sale in Palghar, Mumbai - conta...  "
      ]
     },
     "execution_count": 153,
     "metadata": {},
     "output_type": "execute_result"
    }
   ],
   "source": [
    "df = pd.read_csv('mumbai_flats_cleaned1.csv')\n",
    "df.head(2)"
   ]
  },
  {
   "cell_type": "code",
   "execution_count": 154,
   "metadata": {},
   "outputs": [],
   "source": [
    "df.drop(columns=['price','address','location','buildup_area','avg_price_sqft'],inplace=True)"
   ]
  },
  {
   "cell_type": "code",
   "execution_count": 155,
   "metadata": {},
   "outputs": [],
   "source": [
    "df.drop(columns=['project_name','brokrage','carpet_area','about_property'],inplace=True)"
   ]
  },
  {
   "cell_type": "code",
   "execution_count": 156,
   "metadata": {},
   "outputs": [
    {
     "data": {
      "text/html": [
       "<div>\n",
       "<style scoped>\n",
       "    .dataframe tbody tr th:only-of-type {\n",
       "        vertical-align: middle;\n",
       "    }\n",
       "\n",
       "    .dataframe tbody tr th {\n",
       "        vertical-align: top;\n",
       "    }\n",
       "\n",
       "    .dataframe thead th {\n",
       "        text-align: right;\n",
       "    }\n",
       "</style>\n",
       "<table border=\"1\" class=\"dataframe\">\n",
       "  <thead>\n",
       "    <tr style=\"text-align: right;\">\n",
       "      <th></th>\n",
       "      <th>flat_type</th>\n",
       "      <th>flat_price</th>\n",
       "      <th>location1</th>\n",
       "      <th>buildupArea_sqft</th>\n",
       "      <th>avg_price_thousands</th>\n",
       "      <th>age_of_property</th>\n",
       "      <th>new_age</th>\n",
       "      <th>which_floor</th>\n",
       "      <th>furnishing</th>\n",
       "      <th>bedrooms</th>\n",
       "      <th>bathrooms</th>\n",
       "      <th>balcony</th>\n",
       "      <th>parking</th>\n",
       "    </tr>\n",
       "  </thead>\n",
       "  <tbody>\n",
       "    <tr>\n",
       "      <th>0</th>\n",
       "      <td>3 BHK Flat</td>\n",
       "      <td>3.95</td>\n",
       "      <td>Kanjurmarg West</td>\n",
       "      <td>1550</td>\n",
       "      <td>25480.0</td>\n",
       "      <td>3 Year Old</td>\n",
       "      <td>3</td>\n",
       "      <td>Higherof 50 floors</td>\n",
       "      <td>Fully Furnished</td>\n",
       "      <td>3</td>\n",
       "      <td>2</td>\n",
       "      <td>1</td>\n",
       "      <td>2 Covered Parking</td>\n",
       "    </tr>\n",
       "    <tr>\n",
       "      <th>1</th>\n",
       "      <td>1 BHK Flat</td>\n",
       "      <td>0.19</td>\n",
       "      <td>Palghar</td>\n",
       "      <td>630</td>\n",
       "      <td>3020.0</td>\n",
       "      <td>3 Year Old</td>\n",
       "      <td>3</td>\n",
       "      <td>Middleof 4 floors</td>\n",
       "      <td>Unfurnished</td>\n",
       "      <td>1</td>\n",
       "      <td>1</td>\n",
       "      <td>2</td>\n",
       "      <td>1 Open Parking</td>\n",
       "    </tr>\n",
       "    <tr>\n",
       "      <th>2</th>\n",
       "      <td>1 BHK Flat</td>\n",
       "      <td>0.73</td>\n",
       "      <td>Mira Road East</td>\n",
       "      <td>580</td>\n",
       "      <td>12590.0</td>\n",
       "      <td>1 Years Old</td>\n",
       "      <td>1</td>\n",
       "      <td>Lowerof 25 floors</td>\n",
       "      <td>Semi Furnished</td>\n",
       "      <td>1</td>\n",
       "      <td>2</td>\n",
       "      <td>2</td>\n",
       "      <td>No Parking</td>\n",
       "    </tr>\n",
       "    <tr>\n",
       "      <th>3</th>\n",
       "      <td>1 BHK Flat</td>\n",
       "      <td>1.10</td>\n",
       "      <td>Dahisar East</td>\n",
       "      <td>410</td>\n",
       "      <td>26830.0</td>\n",
       "      <td>1 Years Old</td>\n",
       "      <td>1</td>\n",
       "      <td>Higherof 35 floors</td>\n",
       "      <td>Semi Furnished</td>\n",
       "      <td>1</td>\n",
       "      <td>2</td>\n",
       "      <td>1</td>\n",
       "      <td>2 Covered Parking</td>\n",
       "    </tr>\n",
       "    <tr>\n",
       "      <th>4</th>\n",
       "      <td>3 BHK Flat</td>\n",
       "      <td>2.25</td>\n",
       "      <td>others</td>\n",
       "      <td>1052</td>\n",
       "      <td>21390.0</td>\n",
       "      <td>1 Years Old</td>\n",
       "      <td>1</td>\n",
       "      <td>Lowerof 26 floors</td>\n",
       "      <td>Semi Furnished</td>\n",
       "      <td>3</td>\n",
       "      <td>2</td>\n",
       "      <td>3</td>\n",
       "      <td>1 Covered Parking</td>\n",
       "    </tr>\n",
       "  </tbody>\n",
       "</table>\n",
       "</div>"
      ],
      "text/plain": [
       "    flat_type  flat_price        location1  buildupArea_sqft  \\\n",
       "0  3 BHK Flat        3.95  Kanjurmarg West              1550   \n",
       "1  1 BHK Flat        0.19          Palghar               630   \n",
       "2  1 BHK Flat        0.73   Mira Road East               580   \n",
       "3  1 BHK Flat        1.10     Dahisar East               410   \n",
       "4  3 BHK Flat        2.25           others              1052   \n",
       "\n",
       "   avg_price_thousands age_of_property new_age         which_floor  \\\n",
       "0              25480.0      3 Year Old       3  Higherof 50 floors   \n",
       "1               3020.0      3 Year Old       3   Middleof 4 floors   \n",
       "2              12590.0     1 Years Old       1   Lowerof 25 floors   \n",
       "3              26830.0     1 Years Old       1  Higherof 35 floors   \n",
       "4              21390.0     1 Years Old       1   Lowerof 26 floors   \n",
       "\n",
       "        furnishing bedrooms bathrooms balcony            parking  \n",
       "0  Fully Furnished        3         2       1  2 Covered Parking  \n",
       "1      Unfurnished        1         1       2     1 Open Parking  \n",
       "2   Semi Furnished        1         2       2         No Parking  \n",
       "3   Semi Furnished        1         2       1  2 Covered Parking  \n",
       "4   Semi Furnished        3         2       3  1 Covered Parking  "
      ]
     },
     "execution_count": 156,
     "metadata": {},
     "output_type": "execute_result"
    }
   ],
   "source": [
    "df.head()"
   ]
  },
  {
   "cell_type": "code",
   "execution_count": 157,
   "metadata": {},
   "outputs": [
    {
     "data": {
      "text/plain": [
       "bedrooms\n",
       "2                        3565\n",
       "1                        2882\n",
       "3                        2435\n",
       "4                         642\n",
       "5                         114\n",
       "No Balcony                 71\n",
       "4.0                        50\n",
       "6                          47\n",
       "-                          15\n",
       "5.0                         9\n",
       "7                           4\n",
       "6.0                         4\n",
       "3.0                         2\n",
       "More than a month ago       1\n",
       "2.0                         1\n",
       "Name: count, dtype: int64"
      ]
     },
     "execution_count": 157,
     "metadata": {},
     "output_type": "execute_result"
    }
   ],
   "source": [
    "df['bedrooms'].value_counts()"
   ]
  },
  {
   "cell_type": "code",
   "execution_count": 158,
   "metadata": {},
   "outputs": [
    {
     "data": {
      "text/html": [
       "<div>\n",
       "<style scoped>\n",
       "    .dataframe tbody tr th:only-of-type {\n",
       "        vertical-align: middle;\n",
       "    }\n",
       "\n",
       "    .dataframe tbody tr th {\n",
       "        vertical-align: top;\n",
       "    }\n",
       "\n",
       "    .dataframe thead th {\n",
       "        text-align: right;\n",
       "    }\n",
       "</style>\n",
       "<table border=\"1\" class=\"dataframe\">\n",
       "  <thead>\n",
       "    <tr style=\"text-align: right;\">\n",
       "      <th></th>\n",
       "      <th>flat_type</th>\n",
       "      <th>flat_price</th>\n",
       "      <th>location1</th>\n",
       "      <th>buildupArea_sqft</th>\n",
       "      <th>avg_price_thousands</th>\n",
       "      <th>age_of_property</th>\n",
       "      <th>new_age</th>\n",
       "      <th>which_floor</th>\n",
       "      <th>furnishing</th>\n",
       "      <th>bedrooms</th>\n",
       "      <th>bathrooms</th>\n",
       "      <th>balcony</th>\n",
       "      <th>parking</th>\n",
       "    </tr>\n",
       "  </thead>\n",
       "  <tbody>\n",
       "    <tr>\n",
       "      <th>4031</th>\n",
       "      <td>4 BHK Flat</td>\n",
       "      <td>5.0</td>\n",
       "      <td>Chembur</td>\n",
       "      <td>2500</td>\n",
       "      <td>20000.0</td>\n",
       "      <td>unknown</td>\n",
       "      <td>unknown</td>\n",
       "      <td>NaN</td>\n",
       "      <td>Fully Furnished</td>\n",
       "      <td>More than a month ago</td>\n",
       "      <td>NaN</td>\n",
       "      <td>NaN</td>\n",
       "      <td>-</td>\n",
       "    </tr>\n",
       "  </tbody>\n",
       "</table>\n",
       "</div>"
      ],
      "text/plain": [
       "       flat_type  flat_price location1  buildupArea_sqft  avg_price_thousands  \\\n",
       "4031  4 BHK Flat         5.0   Chembur              2500              20000.0   \n",
       "\n",
       "     age_of_property  new_age which_floor       furnishing  \\\n",
       "4031         unknown  unknown         NaN  Fully Furnished   \n",
       "\n",
       "                   bedrooms bathrooms balcony parking  \n",
       "4031  More than a month ago       NaN     NaN       -  "
      ]
     },
     "execution_count": 158,
     "metadata": {},
     "output_type": "execute_result"
    }
   ],
   "source": [
    "df[df['bedrooms'] == 'More than a month ago']"
   ]
  },
  {
   "cell_type": "code",
   "execution_count": 159,
   "metadata": {},
   "outputs": [],
   "source": [
    "df.drop(index=4031,inplace=True)"
   ]
  },
  {
   "cell_type": "code",
   "execution_count": 160,
   "metadata": {},
   "outputs": [],
   "source": [
    "a = df[df['bedrooms'] == '-'].index"
   ]
  },
  {
   "cell_type": "code",
   "execution_count": 161,
   "metadata": {},
   "outputs": [],
   "source": [
    "df.drop(index=a,inplace=True)"
   ]
  },
  {
   "cell_type": "code",
   "execution_count": 162,
   "metadata": {},
   "outputs": [
    {
     "data": {
      "text/plain": [
       "bedrooms\n",
       "2             3565\n",
       "1             2882\n",
       "3             2435\n",
       "4              642\n",
       "5              114\n",
       "No Balcony      71\n",
       "4.0             50\n",
       "6               47\n",
       "5.0              9\n",
       "7                4\n",
       "6.0              4\n",
       "3.0              2\n",
       "2.0              1\n",
       "Name: count, dtype: int64"
      ]
     },
     "execution_count": 162,
     "metadata": {},
     "output_type": "execute_result"
    }
   ],
   "source": [
    "df['bedrooms'].value_counts()"
   ]
  },
  {
   "cell_type": "code",
   "execution_count": 163,
   "metadata": {},
   "outputs": [],
   "source": [
    "b = df[df['bedrooms'] == 'No Balcony'].index"
   ]
  },
  {
   "cell_type": "code",
   "execution_count": 164,
   "metadata": {},
   "outputs": [],
   "source": [
    "df.drop(index=b,inplace=True)"
   ]
  },
  {
   "cell_type": "code",
   "execution_count": 165,
   "metadata": {},
   "outputs": [],
   "source": [
    "df['bedrooms'] = pd.to_numeric(df['bedrooms']).astype('int')"
   ]
  },
  {
   "cell_type": "code",
   "execution_count": 166,
   "metadata": {},
   "outputs": [
    {
     "data": {
      "text/plain": [
       "bedrooms\n",
       "2    3566\n",
       "1    2882\n",
       "3    2437\n",
       "4     692\n",
       "5     123\n",
       "6      51\n",
       "7       4\n",
       "Name: count, dtype: int64"
      ]
     },
     "execution_count": 166,
     "metadata": {},
     "output_type": "execute_result"
    }
   ],
   "source": [
    "df['bedrooms'].value_counts()"
   ]
  },
  {
   "cell_type": "code",
   "execution_count": 167,
   "metadata": {},
   "outputs": [
    {
     "data": {
      "text/plain": [
       "bathrooms\n",
       "2                        5322\n",
       "3                        2019\n",
       "1                        1614\n",
       "4                         495\n",
       "5                         103\n",
       "More than a month ago      45\n",
       "-                          30\n",
       "6                          28\n",
       "7                           9\n",
       "26 days ago                 7\n",
       "15 days ago                 7\n",
       "Just now                    7\n",
       "4.0                         5\n",
       "2 days ago                  5\n",
       "17 days ago                 5\n",
       "16 days ago                 4\n",
       "3 days ago                  4\n",
       "19 days ago                 4\n",
       "12 days ago                 4\n",
       "18 days ago                 3\n",
       "23 days ago                 3\n",
       "6 days ago                  3\n",
       "29 days ago                 3\n",
       "11 days ago                 3\n",
       "3.0                         2\n",
       "5 days ago                  2\n",
       "9 days ago                  2\n",
       "22 days ago                 2\n",
       "20 days ago                 2\n",
       "10 days ago                 2\n",
       "25 days ago                 2\n",
       "8 days ago                  2\n",
       "5.0                         2\n",
       "8                           1\n",
       "4 days ago                  1\n",
       "27 days ago                 1\n",
       "30 days ago                 1\n",
       "24 days ago                 1\n",
       "Name: count, dtype: int64"
      ]
     },
     "execution_count": 167,
     "metadata": {},
     "output_type": "execute_result"
    }
   ],
   "source": [
    "df['bathrooms'].value_counts()"
   ]
  },
  {
   "cell_type": "code",
   "execution_count": 168,
   "metadata": {},
   "outputs": [],
   "source": [
    "a = df[df['bathrooms'] == 'More than a month ago'].index"
   ]
  },
  {
   "cell_type": "code",
   "execution_count": 169,
   "metadata": {},
   "outputs": [],
   "source": [
    "df.drop(index=a,inplace=True)"
   ]
  },
  {
   "cell_type": "code",
   "execution_count": 170,
   "metadata": {},
   "outputs": [
    {
     "data": {
      "text/plain": [
       "bathrooms\n",
       "2              5322\n",
       "3              2019\n",
       "1              1614\n",
       "4               495\n",
       "5               103\n",
       "-                30\n",
       "6                28\n",
       "7                 9\n",
       "26 days ago       7\n",
       "15 days ago       7\n",
       "Just now          7\n",
       "4.0               5\n",
       "2 days ago        5\n",
       "17 days ago       5\n",
       "16 days ago       4\n",
       "3 days ago        4\n",
       "19 days ago       4\n",
       "12 days ago       4\n",
       "18 days ago       3\n",
       "23 days ago       3\n",
       "6 days ago        3\n",
       "29 days ago       3\n",
       "11 days ago       3\n",
       "3.0               2\n",
       "5 days ago        2\n",
       "9 days ago        2\n",
       "22 days ago       2\n",
       "20 days ago       2\n",
       "10 days ago       2\n",
       "25 days ago       2\n",
       "8 days ago        2\n",
       "5.0               2\n",
       "8                 1\n",
       "4 days ago        1\n",
       "27 days ago       1\n",
       "30 days ago       1\n",
       "24 days ago       1\n",
       "Name: count, dtype: int64"
      ]
     },
     "execution_count": 170,
     "metadata": {},
     "output_type": "execute_result"
    }
   ],
   "source": [
    "df['bathrooms'].value_counts()"
   ]
  },
  {
   "cell_type": "code",
   "execution_count": 171,
   "metadata": {},
   "outputs": [],
   "source": [
    "b = df[df['bathrooms'] == '-'].index"
   ]
  },
  {
   "cell_type": "code",
   "execution_count": 172,
   "metadata": {},
   "outputs": [],
   "source": [
    "df.drop(index=b,inplace=True)"
   ]
  },
  {
   "cell_type": "code",
   "execution_count": 173,
   "metadata": {},
   "outputs": [
    {
     "data": {
      "text/plain": [
       "bathrooms\n",
       "2              5322\n",
       "3              2019\n",
       "1              1614\n",
       "4               495\n",
       "5               103\n",
       "6                28\n",
       "7                 9\n",
       "26 days ago       7\n",
       "Just now          7\n",
       "15 days ago       7\n",
       "4.0               5\n",
       "17 days ago       5\n",
       "2 days ago        5\n",
       "19 days ago       4\n",
       "16 days ago       4\n",
       "12 days ago       4\n",
       "3 days ago        4\n",
       "11 days ago       3\n",
       "29 days ago       3\n",
       "18 days ago       3\n",
       "6 days ago        3\n",
       "23 days ago       3\n",
       "25 days ago       2\n",
       "8 days ago        2\n",
       "5 days ago        2\n",
       "10 days ago       2\n",
       "20 days ago       2\n",
       "22 days ago       2\n",
       "9 days ago        2\n",
       "3.0               2\n",
       "5.0               2\n",
       "27 days ago       1\n",
       "4 days ago        1\n",
       "8                 1\n",
       "30 days ago       1\n",
       "24 days ago       1\n",
       "Name: count, dtype: int64"
      ]
     },
     "execution_count": 173,
     "metadata": {},
     "output_type": "execute_result"
    }
   ],
   "source": [
    "df['bathrooms'].value_counts()"
   ]
  },
  {
   "cell_type": "code",
   "execution_count": 174,
   "metadata": {},
   "outputs": [],
   "source": [
    "df = df[(df['bathrooms'] == \"1\") | (df['bathrooms'] == \"2\") |(df['bathrooms'] == \"3\") | (df['bathrooms'] == \"4\") | (df['bathrooms'] == \"5\") |(df['bathrooms'] == \"6\") | (df['bathrooms'] == \"7\") | (df['bathrooms'] == \"8\") | (df['bathrooms'] == \"4.0\")]"
   ]
  },
  {
   "cell_type": "code",
   "execution_count": 175,
   "metadata": {},
   "outputs": [],
   "source": [
    "df['bathrooms'] = pd.to_numeric(df['bathrooms']).astype(int)"
   ]
  },
  {
   "cell_type": "code",
   "execution_count": 176,
   "metadata": {},
   "outputs": [
    {
     "data": {
      "text/plain": [
       "bathrooms\n",
       "2    5322\n",
       "3    2019\n",
       "1    1614\n",
       "4     500\n",
       "5     103\n",
       "6      28\n",
       "7       9\n",
       "8       1\n",
       "Name: count, dtype: int64"
      ]
     },
     "execution_count": 176,
     "metadata": {},
     "output_type": "execute_result"
    }
   ],
   "source": [
    "df['bathrooms'].value_counts()"
   ]
  },
  {
   "cell_type": "code",
   "execution_count": 177,
   "metadata": {},
   "outputs": [
    {
     "data": {
      "text/plain": [
       "balcony\n",
       "No Balcony               4794\n",
       "1                        1330\n",
       "2                         987\n",
       "3                         786\n",
       "More than a month ago     414\n",
       "4                         177\n",
       "Just now                   78\n",
       "2 days ago                 60\n",
       "9 days ago                 53\n",
       "12 days ago                51\n",
       "29 days ago                46\n",
       "11 days ago                42\n",
       "4 days ago                 41\n",
       "10 days ago                38\n",
       "15 days ago                38\n",
       "5                          38\n",
       "8 days ago                 36\n",
       "3 days ago                 36\n",
       "19 days ago                35\n",
       "6 days ago                 35\n",
       "28 days ago                34\n",
       "22 days ago                33\n",
       "16 days ago                31\n",
       "20 days ago                31\n",
       "5 days ago                 30\n",
       "25 days ago                29\n",
       "18 days ago                29\n",
       "17 days ago                28\n",
       "13 days ago                27\n",
       "-                          25\n",
       "21 days ago                23\n",
       "26 days ago                22\n",
       "24 days ago                22\n",
       "7 days ago                 20\n",
       "27 days ago                20\n",
       "14 days ago                20\n",
       "Full                       19\n",
       "30 days ago                18\n",
       "23 days ago                13\n",
       "6                           4\n",
       "7                           3\n",
       "Name: count, dtype: int64"
      ]
     },
     "execution_count": 177,
     "metadata": {},
     "output_type": "execute_result"
    }
   ],
   "source": [
    "df['balcony'].value_counts()"
   ]
  },
  {
   "cell_type": "code",
   "execution_count": 178,
   "metadata": {},
   "outputs": [],
   "source": [
    "df['balcony'] = df['balcony'].str.replace('No Balcony','0')"
   ]
  },
  {
   "cell_type": "code",
   "execution_count": 179,
   "metadata": {},
   "outputs": [
    {
     "data": {
      "text/plain": [
       "balcony\n",
       "26 days ago      22\n",
       "19 days ago      35\n",
       "11 days ago      42\n",
       "13 days ago      27\n",
       "5 days ago       30\n",
       "1              1330\n",
       "Full             19\n",
       "16 days ago      31\n",
       "14 days ago      20\n",
       "7                 3\n",
       "Name: count, dtype: int64"
      ]
     },
     "execution_count": 179,
     "metadata": {},
     "output_type": "execute_result"
    }
   ],
   "source": [
    "df['balcony'].value_counts().sample(10)"
   ]
  },
  {
   "cell_type": "code",
   "execution_count": 180,
   "metadata": {},
   "outputs": [],
   "source": [
    "a = df[df['balcony'] == '-'].index"
   ]
  },
  {
   "cell_type": "code",
   "execution_count": 181,
   "metadata": {},
   "outputs": [],
   "source": [
    "df.drop(index=a,inplace=True)"
   ]
  },
  {
   "cell_type": "code",
   "execution_count": 182,
   "metadata": {},
   "outputs": [
    {
     "data": {
      "text/plain": [
       "balcony\n",
       "More than a month ago    414\n",
       "14 days ago               20\n",
       "28 days ago               34\n",
       "5                         38\n",
       "8 days ago                36\n",
       "16 days ago               31\n",
       "4                        177\n",
       "Just now                  78\n",
       "12 days ago               51\n",
       "18 days ago               29\n",
       "Name: count, dtype: int64"
      ]
     },
     "execution_count": 182,
     "metadata": {},
     "output_type": "execute_result"
    }
   ],
   "source": [
    "df['balcony'].value_counts().sample(10)"
   ]
  },
  {
   "cell_type": "code",
   "execution_count": 183,
   "metadata": {},
   "outputs": [],
   "source": [
    "def deal_with_balcony(value):\n",
    "    if len(value) == 1:\n",
    "        return float(value)\n",
    "    else:\n",
    "        return np.nan"
   ]
  },
  {
   "cell_type": "code",
   "execution_count": 185,
   "metadata": {},
   "outputs": [],
   "source": [
    "df['balcony'] = df['balcony'].apply(deal_with_balcony)"
   ]
  },
  {
   "cell_type": "code",
   "execution_count": 186,
   "metadata": {},
   "outputs": [
    {
     "data": {
      "text/html": [
       "<div>\n",
       "<style scoped>\n",
       "    .dataframe tbody tr th:only-of-type {\n",
       "        vertical-align: middle;\n",
       "    }\n",
       "\n",
       "    .dataframe tbody tr th {\n",
       "        vertical-align: top;\n",
       "    }\n",
       "\n",
       "    .dataframe thead th {\n",
       "        text-align: right;\n",
       "    }\n",
       "</style>\n",
       "<table border=\"1\" class=\"dataframe\">\n",
       "  <thead>\n",
       "    <tr style=\"text-align: right;\">\n",
       "      <th></th>\n",
       "      <th>flat_type</th>\n",
       "      <th>flat_price</th>\n",
       "      <th>location1</th>\n",
       "      <th>buildupArea_sqft</th>\n",
       "      <th>avg_price_thousands</th>\n",
       "      <th>age_of_property</th>\n",
       "      <th>new_age</th>\n",
       "      <th>which_floor</th>\n",
       "      <th>furnishing</th>\n",
       "      <th>bedrooms</th>\n",
       "      <th>bathrooms</th>\n",
       "      <th>balcony</th>\n",
       "      <th>parking</th>\n",
       "    </tr>\n",
       "  </thead>\n",
       "  <tbody>\n",
       "    <tr>\n",
       "      <th>0</th>\n",
       "      <td>3 BHK Flat</td>\n",
       "      <td>3.95</td>\n",
       "      <td>Kanjurmarg West</td>\n",
       "      <td>1550</td>\n",
       "      <td>25480.0</td>\n",
       "      <td>3 Year Old</td>\n",
       "      <td>3</td>\n",
       "      <td>Higherof 50 floors</td>\n",
       "      <td>Fully Furnished</td>\n",
       "      <td>3</td>\n",
       "      <td>2</td>\n",
       "      <td>1.0</td>\n",
       "      <td>2 Covered Parking</td>\n",
       "    </tr>\n",
       "    <tr>\n",
       "      <th>1</th>\n",
       "      <td>1 BHK Flat</td>\n",
       "      <td>0.19</td>\n",
       "      <td>Palghar</td>\n",
       "      <td>630</td>\n",
       "      <td>3020.0</td>\n",
       "      <td>3 Year Old</td>\n",
       "      <td>3</td>\n",
       "      <td>Middleof 4 floors</td>\n",
       "      <td>Unfurnished</td>\n",
       "      <td>1</td>\n",
       "      <td>1</td>\n",
       "      <td>2.0</td>\n",
       "      <td>1 Open Parking</td>\n",
       "    </tr>\n",
       "    <tr>\n",
       "      <th>2</th>\n",
       "      <td>1 BHK Flat</td>\n",
       "      <td>0.73</td>\n",
       "      <td>Mira Road East</td>\n",
       "      <td>580</td>\n",
       "      <td>12590.0</td>\n",
       "      <td>1 Years Old</td>\n",
       "      <td>1</td>\n",
       "      <td>Lowerof 25 floors</td>\n",
       "      <td>Semi Furnished</td>\n",
       "      <td>1</td>\n",
       "      <td>2</td>\n",
       "      <td>2.0</td>\n",
       "      <td>No Parking</td>\n",
       "    </tr>\n",
       "    <tr>\n",
       "      <th>3</th>\n",
       "      <td>1 BHK Flat</td>\n",
       "      <td>1.10</td>\n",
       "      <td>Dahisar East</td>\n",
       "      <td>410</td>\n",
       "      <td>26830.0</td>\n",
       "      <td>1 Years Old</td>\n",
       "      <td>1</td>\n",
       "      <td>Higherof 35 floors</td>\n",
       "      <td>Semi Furnished</td>\n",
       "      <td>1</td>\n",
       "      <td>2</td>\n",
       "      <td>1.0</td>\n",
       "      <td>2 Covered Parking</td>\n",
       "    </tr>\n",
       "    <tr>\n",
       "      <th>4</th>\n",
       "      <td>3 BHK Flat</td>\n",
       "      <td>2.25</td>\n",
       "      <td>others</td>\n",
       "      <td>1052</td>\n",
       "      <td>21390.0</td>\n",
       "      <td>1 Years Old</td>\n",
       "      <td>1</td>\n",
       "      <td>Lowerof 26 floors</td>\n",
       "      <td>Semi Furnished</td>\n",
       "      <td>3</td>\n",
       "      <td>2</td>\n",
       "      <td>3.0</td>\n",
       "      <td>1 Covered Parking</td>\n",
       "    </tr>\n",
       "    <tr>\n",
       "      <th>...</th>\n",
       "      <td>...</td>\n",
       "      <td>...</td>\n",
       "      <td>...</td>\n",
       "      <td>...</td>\n",
       "      <td>...</td>\n",
       "      <td>...</td>\n",
       "      <td>...</td>\n",
       "      <td>...</td>\n",
       "      <td>...</td>\n",
       "      <td>...</td>\n",
       "      <td>...</td>\n",
       "      <td>...</td>\n",
       "      <td>...</td>\n",
       "    </tr>\n",
       "    <tr>\n",
       "      <th>9834</th>\n",
       "      <td>1 BHK Flat</td>\n",
       "      <td>1.15</td>\n",
       "      <td>others</td>\n",
       "      <td>750</td>\n",
       "      <td>15330.0</td>\n",
       "      <td>unknown</td>\n",
       "      <td>unknown</td>\n",
       "      <td>unknown</td>\n",
       "      <td>NaN</td>\n",
       "      <td>1</td>\n",
       "      <td>1</td>\n",
       "      <td>2.0</td>\n",
       "      <td>No Parking</td>\n",
       "    </tr>\n",
       "    <tr>\n",
       "      <th>9835</th>\n",
       "      <td>2 BHK Flat</td>\n",
       "      <td>0.65</td>\n",
       "      <td>Mira Road East</td>\n",
       "      <td>625</td>\n",
       "      <td>10400.0</td>\n",
       "      <td>20 Year Old</td>\n",
       "      <td>20</td>\n",
       "      <td>Lowerof 4 floors</td>\n",
       "      <td>Semi Furnished</td>\n",
       "      <td>2</td>\n",
       "      <td>2</td>\n",
       "      <td>0.0</td>\n",
       "      <td>No Parking</td>\n",
       "    </tr>\n",
       "    <tr>\n",
       "      <th>9837</th>\n",
       "      <td>1 BHK Flat</td>\n",
       "      <td>0.20</td>\n",
       "      <td>Naigaon East</td>\n",
       "      <td>280</td>\n",
       "      <td>7140.0</td>\n",
       "      <td>10 Year Old</td>\n",
       "      <td>10</td>\n",
       "      <td>Lowerof 7 floors</td>\n",
       "      <td>Semi Furnished</td>\n",
       "      <td>1</td>\n",
       "      <td>1</td>\n",
       "      <td>0.0</td>\n",
       "      <td>No Parking</td>\n",
       "    </tr>\n",
       "    <tr>\n",
       "      <th>9838</th>\n",
       "      <td>2 BHK Flat</td>\n",
       "      <td>10.50</td>\n",
       "      <td>Cumballa Hill</td>\n",
       "      <td>1170</td>\n",
       "      <td>89740.0</td>\n",
       "      <td>45 Year Old</td>\n",
       "      <td>45</td>\n",
       "      <td>Lowerof 9 floors</td>\n",
       "      <td>Unfurnished</td>\n",
       "      <td>3</td>\n",
       "      <td>1</td>\n",
       "      <td>NaN</td>\n",
       "      <td>1 Covered Parking</td>\n",
       "    </tr>\n",
       "    <tr>\n",
       "      <th>9839</th>\n",
       "      <td>1 BHK Flat</td>\n",
       "      <td>0.97</td>\n",
       "      <td>Tardeo</td>\n",
       "      <td>315</td>\n",
       "      <td>30790.0</td>\n",
       "      <td>unknown</td>\n",
       "      <td>unknown</td>\n",
       "      <td>NaN</td>\n",
       "      <td>Semi Furnished</td>\n",
       "      <td>1</td>\n",
       "      <td>1</td>\n",
       "      <td>0.0</td>\n",
       "      <td>1 Open Parking</td>\n",
       "    </tr>\n",
       "  </tbody>\n",
       "</table>\n",
       "<p>9571 rows × 13 columns</p>\n",
       "</div>"
      ],
      "text/plain": [
       "       flat_type  flat_price        location1  buildupArea_sqft  \\\n",
       "0     3 BHK Flat        3.95  Kanjurmarg West              1550   \n",
       "1     1 BHK Flat        0.19          Palghar               630   \n",
       "2     1 BHK Flat        0.73   Mira Road East               580   \n",
       "3     1 BHK Flat        1.10     Dahisar East               410   \n",
       "4     3 BHK Flat        2.25           others              1052   \n",
       "...          ...         ...              ...               ...   \n",
       "9834  1 BHK Flat        1.15           others               750   \n",
       "9835  2 BHK Flat        0.65   Mira Road East               625   \n",
       "9837  1 BHK Flat        0.20     Naigaon East               280   \n",
       "9838  2 BHK Flat       10.50    Cumballa Hill              1170   \n",
       "9839  1 BHK Flat        0.97           Tardeo               315   \n",
       "\n",
       "      avg_price_thousands age_of_property  new_age         which_floor  \\\n",
       "0                 25480.0      3 Year Old        3  Higherof 50 floors   \n",
       "1                  3020.0      3 Year Old        3   Middleof 4 floors   \n",
       "2                 12590.0     1 Years Old        1   Lowerof 25 floors   \n",
       "3                 26830.0     1 Years Old        1  Higherof 35 floors   \n",
       "4                 21390.0     1 Years Old        1   Lowerof 26 floors   \n",
       "...                   ...             ...      ...                 ...   \n",
       "9834              15330.0         unknown  unknown             unknown   \n",
       "9835              10400.0     20 Year Old       20    Lowerof 4 floors   \n",
       "9837               7140.0     10 Year Old       10    Lowerof 7 floors   \n",
       "9838              89740.0     45 Year Old       45    Lowerof 9 floors   \n",
       "9839              30790.0         unknown  unknown                 NaN   \n",
       "\n",
       "           furnishing  bedrooms  bathrooms  balcony            parking  \n",
       "0     Fully Furnished         3          2      1.0  2 Covered Parking  \n",
       "1         Unfurnished         1          1      2.0     1 Open Parking  \n",
       "2      Semi Furnished         1          2      2.0         No Parking  \n",
       "3      Semi Furnished         1          2      1.0  2 Covered Parking  \n",
       "4      Semi Furnished         3          2      3.0  1 Covered Parking  \n",
       "...               ...       ...        ...      ...                ...  \n",
       "9834              NaN         1          1      2.0         No Parking  \n",
       "9835   Semi Furnished         2          2      0.0         No Parking  \n",
       "9837   Semi Furnished         1          1      0.0         No Parking  \n",
       "9838      Unfurnished         3          1      NaN  1 Covered Parking  \n",
       "9839   Semi Furnished         1          1      0.0     1 Open Parking  \n",
       "\n",
       "[9571 rows x 13 columns]"
      ]
     },
     "execution_count": 186,
     "metadata": {},
     "output_type": "execute_result"
    }
   ],
   "source": [
    "df"
   ]
  },
  {
   "cell_type": "code",
   "execution_count": 188,
   "metadata": {},
   "outputs": [
    {
     "data": {
      "text/plain": [
       "parking\n",
       "1 Covered Parking               3295\n",
       "1 Open Parking                  2557\n",
       "2 Covered Parking               1131\n",
       "1 Covered and 1 Open Parking    1063\n",
       "No Parking                       840\n",
       "3 Covered Parking                225\n",
       "2 Covered and 1 Open Parking     154\n",
       "2 Open Parking                   103\n",
       "1 Covered and 2 Open Parking      44\n",
       "4 Covered Parking                 38\n",
       "2 Covered and 2 Open Parking      37\n",
       "3 Covered and 1 Open Parking      21\n",
       "3 Covered and 2 Open Parking      16\n",
       "3 Open Parking                    13\n",
       "3 Covered and 3 Open Parking       9\n",
       "4 Open Parking                     4\n",
       "5 Covered Parking                  3\n",
       "2 Covered and 3 Open Parking       3\n",
       "4 Covered and 4 Open Parking       2\n",
       "6 Covered Parking                  2\n",
       "8 Covered Parking                  2\n",
       "3 Covered and 4 Open Parking       2\n",
       "1 Covered and 3 Open Parking       2\n",
       "4 Covered and 1 Open Parking       1\n",
       "4 Covered and 2 Open Parking       1\n",
       "5 Covered and 1 Open Parking       1\n",
       "2 Covered and 4 Open Parking       1\n",
       "1 Covered and 5 Open Parking       1\n",
       "Name: count, dtype: int64"
      ]
     },
     "execution_count": 188,
     "metadata": {},
     "output_type": "execute_result"
    }
   ],
   "source": [
    "df['parking'].value_counts()"
   ]
  },
  {
   "cell_type": "code",
   "execution_count": 189,
   "metadata": {},
   "outputs": [],
   "source": [
    "def parking(value):\n",
    "    if value == 'No Parking':\n",
    "        return 'no'\n",
    "    else:\n",
    "        return 'yes'"
   ]
  },
  {
   "cell_type": "code",
   "execution_count": 193,
   "metadata": {},
   "outputs": [],
   "source": [
    "df['parking'] = df['parking'].apply(parking)"
   ]
  },
  {
   "cell_type": "code",
   "execution_count": 196,
   "metadata": {},
   "outputs": [
    {
     "data": {
      "text/html": [
       "<div>\n",
       "<style scoped>\n",
       "    .dataframe tbody tr th:only-of-type {\n",
       "        vertical-align: middle;\n",
       "    }\n",
       "\n",
       "    .dataframe tbody tr th {\n",
       "        vertical-align: top;\n",
       "    }\n",
       "\n",
       "    .dataframe thead th {\n",
       "        text-align: right;\n",
       "    }\n",
       "</style>\n",
       "<table border=\"1\" class=\"dataframe\">\n",
       "  <thead>\n",
       "    <tr style=\"text-align: right;\">\n",
       "      <th></th>\n",
       "      <th>flat_type</th>\n",
       "      <th>flat_price</th>\n",
       "      <th>location1</th>\n",
       "      <th>buildupArea_sqft</th>\n",
       "      <th>avg_price_thousands</th>\n",
       "      <th>age_of_property</th>\n",
       "      <th>new_age</th>\n",
       "      <th>which_floor</th>\n",
       "      <th>furnishing</th>\n",
       "      <th>bedrooms</th>\n",
       "      <th>bathrooms</th>\n",
       "      <th>balcony</th>\n",
       "      <th>parking</th>\n",
       "    </tr>\n",
       "  </thead>\n",
       "  <tbody>\n",
       "    <tr>\n",
       "      <th>0</th>\n",
       "      <td>3 BHK Flat</td>\n",
       "      <td>3.95</td>\n",
       "      <td>Kanjurmarg West</td>\n",
       "      <td>1550</td>\n",
       "      <td>25480.0</td>\n",
       "      <td>3 Year Old</td>\n",
       "      <td>3</td>\n",
       "      <td>Higherof 50 floors</td>\n",
       "      <td>Fully Furnished</td>\n",
       "      <td>3</td>\n",
       "      <td>2</td>\n",
       "      <td>1.0</td>\n",
       "      <td>yes</td>\n",
       "    </tr>\n",
       "    <tr>\n",
       "      <th>1</th>\n",
       "      <td>1 BHK Flat</td>\n",
       "      <td>0.19</td>\n",
       "      <td>Palghar</td>\n",
       "      <td>630</td>\n",
       "      <td>3020.0</td>\n",
       "      <td>3 Year Old</td>\n",
       "      <td>3</td>\n",
       "      <td>Middleof 4 floors</td>\n",
       "      <td>Unfurnished</td>\n",
       "      <td>1</td>\n",
       "      <td>1</td>\n",
       "      <td>2.0</td>\n",
       "      <td>yes</td>\n",
       "    </tr>\n",
       "  </tbody>\n",
       "</table>\n",
       "</div>"
      ],
      "text/plain": [
       "    flat_type  flat_price        location1  buildupArea_sqft  \\\n",
       "0  3 BHK Flat        3.95  Kanjurmarg West              1550   \n",
       "1  1 BHK Flat        0.19          Palghar               630   \n",
       "\n",
       "   avg_price_thousands age_of_property new_age         which_floor  \\\n",
       "0              25480.0      3 Year Old       3  Higherof 50 floors   \n",
       "1               3020.0      3 Year Old       3   Middleof 4 floors   \n",
       "\n",
       "        furnishing  bedrooms  bathrooms  balcony parking  \n",
       "0  Fully Furnished         3          2      1.0     yes  \n",
       "1      Unfurnished         1          1      2.0     yes  "
      ]
     },
     "execution_count": 196,
     "metadata": {},
     "output_type": "execute_result"
    }
   ],
   "source": [
    "df.head(2)"
   ]
  },
  {
   "cell_type": "code",
   "execution_count": 199,
   "metadata": {},
   "outputs": [],
   "source": [
    "df.to_csv('mumbai_flats_cleaned_v2.csv')"
   ]
  }
 ],
 "metadata": {
  "kernelspec": {
   "display_name": "Python 3",
   "language": "python",
   "name": "python3"
  },
  "language_info": {
   "codemirror_mode": {
    "name": "ipython",
    "version": 3
   },
   "file_extension": ".py",
   "mimetype": "text/x-python",
   "name": "python",
   "nbconvert_exporter": "python",
   "pygments_lexer": "ipython3",
   "version": "3.12.1"
  }
 },
 "nbformat": 4,
 "nbformat_minor": 2
}
