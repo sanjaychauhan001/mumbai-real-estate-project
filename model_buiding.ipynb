{
 "cells": [
  {
   "cell_type": "code",
   "execution_count": 1,
   "metadata": {},
   "outputs": [],
   "source": [
    "import pandas as pd\n",
    "import numpy as np\n",
    "from sklearn.model_selection import train_test_split,KFold,cross_val_score\n",
    "from sklearn.preprocessing import OrdinalEncoder,OneHotEncoder,StandardScaler\n",
    "from sklearn.ensemble import RandomForestRegressor, GradientBoostingRegressor\n",
    "import xgboost as xg\n",
    "from sklearn.metrics import mean_absolute_error,mean_squared_error,r2_score\n",
    "from sklearn.linear_model import LinearRegression,Lasso,Ridge\n",
    "from sklearn.svm import SVR\n",
    "from sklearn.tree import DecisionTreeRegressor\n",
    "from sklearn.neighbors import KNeighborsRegressor\n",
    "from sklearn.compose import ColumnTransformer\n",
    "from sklearn.pipeline import Pipeline"
   ]
  },
  {
   "cell_type": "code",
   "execution_count": 5,
   "metadata": {},
   "outputs": [],
   "source": [
    "df = pd.read_csv('data_for_model.csv')"
   ]
  },
  {
   "cell_type": "code",
   "execution_count": 7,
   "metadata": {},
   "outputs": [
    {
     "data": {
      "text/html": [
       "<div>\n",
       "<style scoped>\n",
       "    .dataframe tbody tr th:only-of-type {\n",
       "        vertical-align: middle;\n",
       "    }\n",
       "\n",
       "    .dataframe tbody tr th {\n",
       "        vertical-align: top;\n",
       "    }\n",
       "\n",
       "    .dataframe thead th {\n",
       "        text-align: right;\n",
       "    }\n",
       "</style>\n",
       "<table border=\"1\" class=\"dataframe\">\n",
       "  <thead>\n",
       "    <tr style=\"text-align: right;\">\n",
       "      <th></th>\n",
       "      <th>flat_type</th>\n",
       "      <th>price</th>\n",
       "      <th>address</th>\n",
       "      <th>buildup_area</th>\n",
       "      <th>which_floor</th>\n",
       "      <th>furnishing</th>\n",
       "      <th>bedrooms</th>\n",
       "      <th>balcony</th>\n",
       "    </tr>\n",
       "  </thead>\n",
       "  <tbody>\n",
       "    <tr>\n",
       "      <th>0</th>\n",
       "      <td>3 BHK Flat</td>\n",
       "      <td>3.95</td>\n",
       "      <td>Kanjurmarg West</td>\n",
       "      <td>1550</td>\n",
       "      <td>middle</td>\n",
       "      <td>Fully Furnished</td>\n",
       "      <td>3.0</td>\n",
       "      <td>1.0</td>\n",
       "    </tr>\n",
       "    <tr>\n",
       "      <th>1</th>\n",
       "      <td>1 BHK Flat</td>\n",
       "      <td>0.19</td>\n",
       "      <td>Palghar</td>\n",
       "      <td>630</td>\n",
       "      <td>lower</td>\n",
       "      <td>Unfurnished</td>\n",
       "      <td>1.0</td>\n",
       "      <td>2.0</td>\n",
       "    </tr>\n",
       "    <tr>\n",
       "      <th>2</th>\n",
       "      <td>1 BHK Flat</td>\n",
       "      <td>0.73</td>\n",
       "      <td>Mira Road East</td>\n",
       "      <td>580</td>\n",
       "      <td>middle</td>\n",
       "      <td>Semi Furnished</td>\n",
       "      <td>1.0</td>\n",
       "      <td>2.0</td>\n",
       "    </tr>\n",
       "    <tr>\n",
       "      <th>3</th>\n",
       "      <td>1 BHK Flat</td>\n",
       "      <td>1.10</td>\n",
       "      <td>Dahisar East</td>\n",
       "      <td>410</td>\n",
       "      <td>middle</td>\n",
       "      <td>Semi Furnished</td>\n",
       "      <td>1.0</td>\n",
       "      <td>1.0</td>\n",
       "    </tr>\n",
       "    <tr>\n",
       "      <th>4</th>\n",
       "      <td>3 BHK Flat</td>\n",
       "      <td>2.25</td>\n",
       "      <td>others</td>\n",
       "      <td>1052</td>\n",
       "      <td>middle</td>\n",
       "      <td>Semi Furnished</td>\n",
       "      <td>3.0</td>\n",
       "      <td>3.0</td>\n",
       "    </tr>\n",
       "    <tr>\n",
       "      <th>...</th>\n",
       "      <td>...</td>\n",
       "      <td>...</td>\n",
       "      <td>...</td>\n",
       "      <td>...</td>\n",
       "      <td>...</td>\n",
       "      <td>...</td>\n",
       "      <td>...</td>\n",
       "      <td>...</td>\n",
       "    </tr>\n",
       "    <tr>\n",
       "      <th>8310</th>\n",
       "      <td>3 BHK Flat</td>\n",
       "      <td>1.85</td>\n",
       "      <td>Mulund West</td>\n",
       "      <td>1100</td>\n",
       "      <td>lower</td>\n",
       "      <td>Fully Furnished</td>\n",
       "      <td>3.0</td>\n",
       "      <td>1.0</td>\n",
       "    </tr>\n",
       "    <tr>\n",
       "      <th>8311</th>\n",
       "      <td>1 BHK Flat</td>\n",
       "      <td>0.20</td>\n",
       "      <td>Naigaon East</td>\n",
       "      <td>280</td>\n",
       "      <td>lower</td>\n",
       "      <td>Semi Furnished</td>\n",
       "      <td>1.0</td>\n",
       "      <td>0.0</td>\n",
       "    </tr>\n",
       "    <tr>\n",
       "      <th>8312</th>\n",
       "      <td>1 BHK Flat</td>\n",
       "      <td>0.97</td>\n",
       "      <td>Tardeo</td>\n",
       "      <td>315</td>\n",
       "      <td>lower</td>\n",
       "      <td>Semi Furnished</td>\n",
       "      <td>1.0</td>\n",
       "      <td>0.0</td>\n",
       "    </tr>\n",
       "    <tr>\n",
       "      <th>8313</th>\n",
       "      <td>2 BHK Flat</td>\n",
       "      <td>2.36</td>\n",
       "      <td>Kandivali West</td>\n",
       "      <td>706</td>\n",
       "      <td>middle</td>\n",
       "      <td>Unfurnished</td>\n",
       "      <td>2.0</td>\n",
       "      <td>0.0</td>\n",
       "    </tr>\n",
       "    <tr>\n",
       "      <th>8314</th>\n",
       "      <td>1 BHK Flat</td>\n",
       "      <td>0.90</td>\n",
       "      <td>Mulund West</td>\n",
       "      <td>500</td>\n",
       "      <td>lower</td>\n",
       "      <td>Semi Furnished</td>\n",
       "      <td>1.0</td>\n",
       "      <td>1.0</td>\n",
       "    </tr>\n",
       "  </tbody>\n",
       "</table>\n",
       "<p>8315 rows × 8 columns</p>\n",
       "</div>"
      ],
      "text/plain": [
       "       flat_type  price          address  buildup_area which_floor  \\\n",
       "0     3 BHK Flat   3.95  Kanjurmarg West          1550      middle   \n",
       "1     1 BHK Flat   0.19          Palghar           630       lower   \n",
       "2     1 BHK Flat   0.73   Mira Road East           580      middle   \n",
       "3     1 BHK Flat   1.10     Dahisar East           410      middle   \n",
       "4     3 BHK Flat   2.25           others          1052      middle   \n",
       "...          ...    ...              ...           ...         ...   \n",
       "8310  3 BHK Flat   1.85      Mulund West          1100       lower   \n",
       "8311  1 BHK Flat   0.20     Naigaon East           280       lower   \n",
       "8312  1 BHK Flat   0.97           Tardeo           315       lower   \n",
       "8313  2 BHK Flat   2.36   Kandivali West           706      middle   \n",
       "8314  1 BHK Flat   0.90      Mulund West           500       lower   \n",
       "\n",
       "           furnishing  bedrooms  balcony  \n",
       "0     Fully Furnished       3.0      1.0  \n",
       "1         Unfurnished       1.0      2.0  \n",
       "2      Semi Furnished       1.0      2.0  \n",
       "3      Semi Furnished       1.0      1.0  \n",
       "4      Semi Furnished       3.0      3.0  \n",
       "...               ...       ...      ...  \n",
       "8310  Fully Furnished       3.0      1.0  \n",
       "8311   Semi Furnished       1.0      0.0  \n",
       "8312   Semi Furnished       1.0      0.0  \n",
       "8313      Unfurnished       2.0      0.0  \n",
       "8314   Semi Furnished       1.0      1.0  \n",
       "\n",
       "[8315 rows x 8 columns]"
      ]
     },
     "execution_count": 7,
     "metadata": {},
     "output_type": "execute_result"
    }
   ],
   "source": [
    "df"
   ]
  },
  {
   "cell_type": "code",
   "execution_count": 6,
   "metadata": {},
   "outputs": [
    {
     "data": {
      "text/plain": [
       "0"
      ]
     },
     "execution_count": 6,
     "metadata": {},
     "output_type": "execute_result"
    }
   ],
   "source": [
    "df.duplicated().sum()"
   ]
  },
  {
   "cell_type": "code",
   "execution_count": 8,
   "metadata": {},
   "outputs": [],
   "source": [
    "X = df.drop(columns=['price'],axis=1)\n",
    "y = df['price']"
   ]
  },
  {
   "cell_type": "code",
   "execution_count": 9,
   "metadata": {},
   "outputs": [
    {
     "data": {
      "text/html": [
       "<div>\n",
       "<style scoped>\n",
       "    .dataframe tbody tr th:only-of-type {\n",
       "        vertical-align: middle;\n",
       "    }\n",
       "\n",
       "    .dataframe tbody tr th {\n",
       "        vertical-align: top;\n",
       "    }\n",
       "\n",
       "    .dataframe thead th {\n",
       "        text-align: right;\n",
       "    }\n",
       "</style>\n",
       "<table border=\"1\" class=\"dataframe\">\n",
       "  <thead>\n",
       "    <tr style=\"text-align: right;\">\n",
       "      <th></th>\n",
       "      <th>flat_type</th>\n",
       "      <th>address</th>\n",
       "      <th>buildup_area</th>\n",
       "      <th>which_floor</th>\n",
       "      <th>furnishing</th>\n",
       "      <th>bedrooms</th>\n",
       "      <th>balcony</th>\n",
       "    </tr>\n",
       "  </thead>\n",
       "  <tbody>\n",
       "    <tr>\n",
       "      <th>0</th>\n",
       "      <td>3 BHK Flat</td>\n",
       "      <td>Kanjurmarg West</td>\n",
       "      <td>1550</td>\n",
       "      <td>middle</td>\n",
       "      <td>Fully Furnished</td>\n",
       "      <td>3.0</td>\n",
       "      <td>1.0</td>\n",
       "    </tr>\n",
       "    <tr>\n",
       "      <th>1</th>\n",
       "      <td>1 BHK Flat</td>\n",
       "      <td>Palghar</td>\n",
       "      <td>630</td>\n",
       "      <td>lower</td>\n",
       "      <td>Unfurnished</td>\n",
       "      <td>1.0</td>\n",
       "      <td>2.0</td>\n",
       "    </tr>\n",
       "    <tr>\n",
       "      <th>2</th>\n",
       "      <td>1 BHK Flat</td>\n",
       "      <td>Mira Road East</td>\n",
       "      <td>580</td>\n",
       "      <td>middle</td>\n",
       "      <td>Semi Furnished</td>\n",
       "      <td>1.0</td>\n",
       "      <td>2.0</td>\n",
       "    </tr>\n",
       "    <tr>\n",
       "      <th>3</th>\n",
       "      <td>1 BHK Flat</td>\n",
       "      <td>Dahisar East</td>\n",
       "      <td>410</td>\n",
       "      <td>middle</td>\n",
       "      <td>Semi Furnished</td>\n",
       "      <td>1.0</td>\n",
       "      <td>1.0</td>\n",
       "    </tr>\n",
       "    <tr>\n",
       "      <th>4</th>\n",
       "      <td>3 BHK Flat</td>\n",
       "      <td>others</td>\n",
       "      <td>1052</td>\n",
       "      <td>middle</td>\n",
       "      <td>Semi Furnished</td>\n",
       "      <td>3.0</td>\n",
       "      <td>3.0</td>\n",
       "    </tr>\n",
       "    <tr>\n",
       "      <th>...</th>\n",
       "      <td>...</td>\n",
       "      <td>...</td>\n",
       "      <td>...</td>\n",
       "      <td>...</td>\n",
       "      <td>...</td>\n",
       "      <td>...</td>\n",
       "      <td>...</td>\n",
       "    </tr>\n",
       "    <tr>\n",
       "      <th>8310</th>\n",
       "      <td>3 BHK Flat</td>\n",
       "      <td>Mulund West</td>\n",
       "      <td>1100</td>\n",
       "      <td>lower</td>\n",
       "      <td>Fully Furnished</td>\n",
       "      <td>3.0</td>\n",
       "      <td>1.0</td>\n",
       "    </tr>\n",
       "    <tr>\n",
       "      <th>8311</th>\n",
       "      <td>1 BHK Flat</td>\n",
       "      <td>Naigaon East</td>\n",
       "      <td>280</td>\n",
       "      <td>lower</td>\n",
       "      <td>Semi Furnished</td>\n",
       "      <td>1.0</td>\n",
       "      <td>0.0</td>\n",
       "    </tr>\n",
       "    <tr>\n",
       "      <th>8312</th>\n",
       "      <td>1 BHK Flat</td>\n",
       "      <td>Tardeo</td>\n",
       "      <td>315</td>\n",
       "      <td>lower</td>\n",
       "      <td>Semi Furnished</td>\n",
       "      <td>1.0</td>\n",
       "      <td>0.0</td>\n",
       "    </tr>\n",
       "    <tr>\n",
       "      <th>8313</th>\n",
       "      <td>2 BHK Flat</td>\n",
       "      <td>Kandivali West</td>\n",
       "      <td>706</td>\n",
       "      <td>middle</td>\n",
       "      <td>Unfurnished</td>\n",
       "      <td>2.0</td>\n",
       "      <td>0.0</td>\n",
       "    </tr>\n",
       "    <tr>\n",
       "      <th>8314</th>\n",
       "      <td>1 BHK Flat</td>\n",
       "      <td>Mulund West</td>\n",
       "      <td>500</td>\n",
       "      <td>lower</td>\n",
       "      <td>Semi Furnished</td>\n",
       "      <td>1.0</td>\n",
       "      <td>1.0</td>\n",
       "    </tr>\n",
       "  </tbody>\n",
       "</table>\n",
       "<p>8315 rows × 7 columns</p>\n",
       "</div>"
      ],
      "text/plain": [
       "       flat_type          address  buildup_area which_floor       furnishing  \\\n",
       "0     3 BHK Flat  Kanjurmarg West          1550      middle  Fully Furnished   \n",
       "1     1 BHK Flat          Palghar           630       lower      Unfurnished   \n",
       "2     1 BHK Flat   Mira Road East           580      middle   Semi Furnished   \n",
       "3     1 BHK Flat     Dahisar East           410      middle   Semi Furnished   \n",
       "4     3 BHK Flat           others          1052      middle   Semi Furnished   \n",
       "...          ...              ...           ...         ...              ...   \n",
       "8310  3 BHK Flat      Mulund West          1100       lower  Fully Furnished   \n",
       "8311  1 BHK Flat     Naigaon East           280       lower   Semi Furnished   \n",
       "8312  1 BHK Flat           Tardeo           315       lower   Semi Furnished   \n",
       "8313  2 BHK Flat   Kandivali West           706      middle      Unfurnished   \n",
       "8314  1 BHK Flat      Mulund West           500       lower   Semi Furnished   \n",
       "\n",
       "      bedrooms  balcony  \n",
       "0          3.0      1.0  \n",
       "1          1.0      2.0  \n",
       "2          1.0      2.0  \n",
       "3          1.0      1.0  \n",
       "4          3.0      3.0  \n",
       "...        ...      ...  \n",
       "8310       3.0      1.0  \n",
       "8311       1.0      0.0  \n",
       "8312       1.0      0.0  \n",
       "8313       2.0      0.0  \n",
       "8314       1.0      1.0  \n",
       "\n",
       "[8315 rows x 7 columns]"
      ]
     },
     "execution_count": 9,
     "metadata": {},
     "output_type": "execute_result"
    }
   ],
   "source": [
    "X"
   ]
  },
  {
   "cell_type": "code",
   "execution_count": 12,
   "metadata": {},
   "outputs": [
    {
     "name": "stdout",
     "output_type": "stream",
     "text": [
      "0.830143044361014 0.01396424780678478\n"
     ]
    }
   ],
   "source": [
    "preprocessor = ColumnTransformer(\n",
    "    transformers=[\n",
    "        ('num',StandardScaler(),['buildup_area']),\n",
    "        ('cat',OrdinalEncoder(),['flat_type','which_floor','furnishing']),\n",
    "        ('ohe',OneHotEncoder(),['address'])\n",
    "    ],remainder='passthrough'\n",
    ")\n",
    "\n",
    "pipeline = Pipeline([\n",
    "    ('preprocessor',preprocessor),\n",
    "    ('regressor',LinearRegression())\n",
    "])\n",
    "\n",
    "kfold = KFold(n_splits=10,shuffle=True,random_state=42)\n",
    "score = cross_val_score(pipeline,X,y,cv=kfold,scoring='r2')\n",
    "print(score.mean(),score.std())"
   ]
  },
  {
   "cell_type": "code",
   "execution_count": 13,
   "metadata": {},
   "outputs": [],
   "source": [
    "y_transformed = np.log1p(y)"
   ]
  },
  {
   "cell_type": "code",
   "execution_count": 14,
   "metadata": {},
   "outputs": [
    {
     "name": "stdout",
     "output_type": "stream",
     "text": [
      "0.9155569613484105 0.007488421119608453\n"
     ]
    }
   ],
   "source": [
    "preprocessor = ColumnTransformer(\n",
    "    transformers=[\n",
    "        ('num',StandardScaler(),['buildup_area']),\n",
    "        ('cat',OrdinalEncoder(),['flat_type','which_floor','furnishing']),\n",
    "        ('ohe',OneHotEncoder(),['address'])\n",
    "    ],remainder='passthrough'\n",
    ")\n",
    "\n",
    "pipeline = Pipeline([\n",
    "    ('preprocessor',preprocessor),\n",
    "    ('regressor',LinearRegression())\n",
    "])\n",
    "\n",
    "kfold = KFold(n_splits=10,shuffle=True,random_state=42)\n",
    "score = cross_val_score(pipeline,X,y_transformed,cv=kfold,scoring='r2')\n",
    "print(score.mean(),score.std())"
   ]
  },
  {
   "cell_type": "code",
   "execution_count": 19,
   "metadata": {},
   "outputs": [
    {
     "name": "stdout",
     "output_type": "stream",
     "text": [
      "0.9155569613484105 0.007488421119608453\n",
      "0.563616000643587\n",
      "1.4800831026113106\n"
     ]
    }
   ],
   "source": [
    "\n",
    "preprocessor = ColumnTransformer(\n",
    "    transformers=[\n",
    "        ('num',StandardScaler(),['buildup_area']),\n",
    "        ('cat',OrdinalEncoder(),['flat_type','which_floor','furnishing']),\n",
    "        ('ohe',OneHotEncoder(),['address'])\n",
    "    ],remainder='passthrough'\n",
    ")\n",
    "\n",
    "pipeline = Pipeline([\n",
    "    ('preprocessor',preprocessor),\n",
    "    ('regressor',LinearRegression())\n",
    "])\n",
    "\n",
    "kfold = KFold(n_splits=10,shuffle=True,random_state=42)\n",
    "score = cross_val_score(pipeline,X,y_transformed,cv=kfold,scoring='r2')\n",
    "print(score.mean(),score.std())\n",
    "\n",
    "X_train, X_test, y_train,y_test = train_test_split(X,y_transformed,test_size=0.2,random_state=42)\n",
    "pipeline.fit(X_train,y_train)\n",
    "y_pred = pipeline.predict(X_test)\n",
    "y_pred = np.expm1(y_pred)\n",
    "print(mean_absolute_error(np.expm1(y_test),y_pred))\n",
    "print(mean_squared_error(np.expm1(y_test),y_pred))"
   ]
  },
  {
   "cell_type": "code",
   "execution_count": 21,
   "metadata": {},
   "outputs": [
    {
     "name": "stdout",
     "output_type": "stream",
     "text": [
      "0.9283050910119991 0.006997333302999006\n",
      "0.5284570376838722\n"
     ]
    }
   ],
   "source": [
    "# support vector machine\n",
    "preprocessor = ColumnTransformer(\n",
    "    transformers=[\n",
    "        ('num',StandardScaler(),['buildup_area']),\n",
    "        ('cat',OrdinalEncoder(),['flat_type','which_floor','furnishing']),\n",
    "        ('ohe',OneHotEncoder(),['address'])\n",
    "    ],remainder='passthrough'\n",
    ")\n",
    "\n",
    "pipeline = Pipeline([\n",
    "    ('preprocessor',preprocessor),\n",
    "    ('regressor',SVR())\n",
    "])\n",
    "\n",
    "kfold = KFold(n_splits=10,shuffle=True,random_state=42)\n",
    "score = cross_val_score(pipeline,X,y_transformed,cv=kfold,scoring='r2')\n",
    "print(score.mean(),score.std())\n",
    "\n",
    "X_train, X_test, y_train,y_test = train_test_split(X,y_transformed,test_size=0.2,random_state=42)\n",
    "pipeline.fit(X_train,y_train)\n",
    "y_pred = pipeline.predict(X_test)\n",
    "y_pred = np.expm1(y_pred)\n",
    "print(mean_absolute_error(np.expm1(y_test),y_pred))"
   ]
  },
  {
   "cell_type": "code",
   "execution_count": 22,
   "metadata": {},
   "outputs": [
    {
     "name": "stdout",
     "output_type": "stream",
     "text": [
      "0.8851488355273084 0.008035196414639128\n",
      "0.6511634279152343\n"
     ]
    }
   ],
   "source": [
    "# Gradient Bossting\n",
    "preprocessor = ColumnTransformer(\n",
    "    transformers=[\n",
    "        ('num',StandardScaler(),['buildup_area']),\n",
    "        ('cat',OrdinalEncoder(),['flat_type','which_floor','furnishing']),\n",
    "        ('ohe',OneHotEncoder(),['address'])\n",
    "    ],remainder='passthrough'\n",
    ")\n",
    "\n",
    "pipeline = Pipeline([\n",
    "    ('preprocessor',preprocessor),\n",
    "    ('regressor',GradientBoostingRegressor(n_estimators=100))\n",
    "])\n",
    "\n",
    "kfold = KFold(n_splits=10,shuffle=True,random_state=42)\n",
    "score = cross_val_score(pipeline,X,y_transformed,cv=kfold,scoring='r2')\n",
    "print(score.mean(),score.std())\n",
    "\n",
    "X_train, X_test, y_train,y_test = train_test_split(X,y_transformed,test_size=0.2,random_state=42)\n",
    "pipeline.fit(X_train,y_train)\n",
    "y_pred = pipeline.predict(X_test)\n",
    "y_pred = np.expm1(y_pred)\n",
    "print(mean_absolute_error(np.expm1(y_test),y_pred))"
   ]
  },
  {
   "cell_type": "code",
   "execution_count": 23,
   "metadata": {},
   "outputs": [
    {
     "name": "stdout",
     "output_type": "stream",
     "text": [
      "0.9129075350906126 0.0066462776410731355\n",
      "0.5446570415595213\n"
     ]
    }
   ],
   "source": [
    "\n",
    "preprocessor = ColumnTransformer(\n",
    "    transformers=[\n",
    "        ('num',StandardScaler(),['buildup_area']),\n",
    "        ('cat',OrdinalEncoder(),['flat_type','which_floor','furnishing']),\n",
    "        ('ohe',OneHotEncoder(),['address'])\n",
    "    ],remainder='passthrough'\n",
    ")\n",
    "\n",
    "pipeline = Pipeline([\n",
    "    ('preprocessor',preprocessor),\n",
    "    ('regressor',RandomForestRegressor(n_estimators=150))\n",
    "])\n",
    "\n",
    "kfold = KFold(n_splits=10,shuffle=True,random_state=42)\n",
    "score = cross_val_score(pipeline,X,y_transformed,cv=kfold,scoring='r2')\n",
    "print(score.mean(),score.std())\n",
    "\n",
    "X_train, X_test, y_train,y_test = train_test_split(X,y_transformed,test_size=0.2,random_state=42)\n",
    "pipeline.fit(X_train,y_train)\n",
    "y_pred = pipeline.predict(X_test)\n",
    "y_pred = np.expm1(y_pred)\n",
    "print(mean_absolute_error(np.expm1(y_test),y_pred))"
   ]
  },
  {
   "cell_type": "code",
   "execution_count": 24,
   "metadata": {},
   "outputs": [
    {
     "name": "stdout",
     "output_type": "stream",
     "text": [
      "0.89550281006725 0.008151236426054326\n",
      "0.6018079160006978\n"
     ]
    }
   ],
   "source": [
    "\n",
    "preprocessor = ColumnTransformer(\n",
    "    transformers=[\n",
    "        ('num',StandardScaler(),['buildup_area']),\n",
    "        ('cat',OrdinalEncoder(),['flat_type','which_floor','furnishing']),\n",
    "        ('ohe',OneHotEncoder(),['address'])\n",
    "    ],remainder='passthrough'\n",
    ")\n",
    "\n",
    "pipeline = Pipeline([\n",
    "    ('preprocessor',preprocessor),\n",
    "    ('regressor',KNeighborsRegressor(n_neighbors=5))\n",
    "])\n",
    "\n",
    "kfold = KFold(n_splits=10,shuffle=True,random_state=42)\n",
    "score = cross_val_score(pipeline,X,y_transformed,cv=kfold,scoring='r2')\n",
    "print(score.mean(),score.std())\n",
    "\n",
    "X_train, X_test, y_train,y_test = train_test_split(X,y_transformed,test_size=0.2,random_state=42)\n",
    "pipeline.fit(X_train,y_train)\n",
    "y_pred = pipeline.predict(X_test)\n",
    "y_pred = np.expm1(y_pred)\n",
    "print(mean_absolute_error(np.expm1(y_test),y_pred))"
   ]
  },
  {
   "cell_type": "code",
   "execution_count": 25,
   "metadata": {},
   "outputs": [
    {
     "name": "stdout",
     "output_type": "stream",
     "text": [
      "0.9155415186155187 0.007489640955751008\n",
      "0.5635281622900338\n"
     ]
    }
   ],
   "source": [
    "preprocessor = ColumnTransformer(\n",
    "    transformers=[\n",
    "        ('num',StandardScaler(),['buildup_area']),\n",
    "        ('cat',OrdinalEncoder(),['flat_type','which_floor','furnishing']),\n",
    "        ('ohe',OneHotEncoder(),['address'])\n",
    "    ],remainder='passthrough'\n",
    ")\n",
    "\n",
    "pipeline = Pipeline([\n",
    "    ('preprocessor',preprocessor),\n",
    "    ('regressor',Ridge(alpha=0.0001))\n",
    "])\n",
    "\n",
    "kfold = KFold(n_splits=10,shuffle=True,random_state=42)\n",
    "score = cross_val_score(pipeline,X,y_transformed,cv=kfold,scoring='r2')\n",
    "print(score.mean(),score.std())\n",
    "\n",
    "X_train, X_test, y_train,y_test = train_test_split(X,y_transformed,test_size=0.2,random_state=42)\n",
    "pipeline.fit(X_train,y_train)\n",
    "y_pred = pipeline.predict(X_test)\n",
    "y_pred = np.expm1(y_pred)\n",
    "print(mean_absolute_error(np.expm1(y_test),y_pred))"
   ]
  },
  {
   "cell_type": "code",
   "execution_count": 26,
   "metadata": {},
   "outputs": [
    {
     "name": "stdout",
     "output_type": "stream",
     "text": [
      "0.930533499189826 0.007540979661673626\n",
      "0.5091136446607928\n"
     ]
    }
   ],
   "source": [
    "\n",
    "preprocessor = ColumnTransformer(\n",
    "    transformers=[\n",
    "        ('num',StandardScaler(),['buildup_area']),\n",
    "        ('cat',OrdinalEncoder(),['flat_type','which_floor','furnishing']),\n",
    "        ('ohe',OneHotEncoder(),['address'])\n",
    "    ],remainder='passthrough'\n",
    ")\n",
    "\n",
    "pipeline = Pipeline([\n",
    "    ('preprocessor',preprocessor),\n",
    "    ('regressor',SVR(kernel='rbf',C=3,epsilon=0.1,gamma='scale'))\n",
    "])\n",
    "\n",
    "kfold = KFold(n_splits=10,shuffle=True,random_state=42)\n",
    "score = cross_val_score(pipeline,X,y_transformed,cv=kfold,scoring='r2')\n",
    "print(score.mean(),score.std())\n",
    "\n",
    "X_train, X_test, y_train,y_test = train_test_split(X,y_transformed,test_size=0.2,random_state=42)\n",
    "pipeline.fit(X_train,y_train)\n",
    "y_pred = pipeline.predict(X_test)\n",
    "y_pred = np.expm1(y_pred)\n",
    "print(mean_absolute_error(np.expm1(y_test),y_pred))"
   ]
  },
  {
   "cell_type": "code",
   "execution_count": 27,
   "metadata": {},
   "outputs": [
    {
     "name": "stdout",
     "output_type": "stream",
     "text": [
      "Best parameters found:  {'regressor__C': 1, 'regressor__epsilon': 0.1, 'regressor__gamma': 'scale', 'regressor__kernel': 'rbf'}\n",
      "Best cross-validation score:  nan\n"
     ]
    },
    {
     "name": "stderr",
     "output_type": "stream",
     "text": [
      "c:\\Users\\sanjay\\AppData\\Local\\Programs\\Python\\Python312\\Lib\\site-packages\\sklearn\\model_selection\\_search.py:979: UserWarning: One or more of the test scores are non-finite: [nan nan nan nan nan nan nan nan nan nan nan nan nan nan nan nan nan nan\n",
      " nan nan nan nan nan nan]\n",
      "  warnings.warn(\n"
     ]
    }
   ],
   "source": [
    "from sklearn.model_selection import GridSearchCV\n",
    "\n",
    "# Define the parameter grid for GridSearchCV\n",
    "param_grid = {\n",
    "    'regressor__kernel': ['rbf',\"linear\",\"poly\"],  # Focusing on rbf which is common for SVR\n",
    "    'regressor__C': [1,5, 10, 100],\n",
    "    'regressor__epsilon': [0.1, 0.5],\n",
    "    'regressor__gamma': ['scale']\n",
    "}\n",
    "\n",
    "\n",
    "# Define the KFold cross-validator\n",
    "kfold = KFold(n_splits=10, shuffle=True, random_state=42)\n",
    "\n",
    "# Perform GridSearchCV\n",
    "# Use a smaller subset of the data\n",
    "X_small, _, y_small, _ = train_test_split(X, y_transformed, test_size=0.8, random_state=42)\n",
    "\n",
    "grid_search = GridSearchCV(estimator=pipeline, param_grid=param_grid, cv=kfold, scoring='r2', n_jobs=-1)\n",
    "grid_search.fit(X_small, y_small)\n",
    "\n",
    "\n",
    "# Best parameters and best score\n",
    "print(\"Best parameters found: \", grid_search.best_params_)\n",
    "print(\"Best cross-validation score: \", grid_search.best_score_)\n",
    "\n",
    "\n"
   ]
  },
  {
   "cell_type": "code",
   "execution_count": 28,
   "metadata": {},
   "outputs": [
    {
     "name": "stdout",
     "output_type": "stream",
     "text": [
      "0.9283050910119991 0.006997333302999006\n",
      "0.5284570376838722\n"
     ]
    }
   ],
   "source": [
    "\n",
    "preprocessor = ColumnTransformer(\n",
    "    transformers=[\n",
    "        ('num',StandardScaler(),['buildup_area']),\n",
    "        ('cat',OrdinalEncoder(),['flat_type','which_floor','furnishing']),\n",
    "        ('ohe',OneHotEncoder(),['address'])\n",
    "    ],remainder='passthrough'\n",
    ")\n",
    "\n",
    "pipeline = Pipeline([\n",
    "    ('preprocessor',preprocessor),\n",
    "    ('regressor',SVR(kernel='rbf',C=1,epsilon=0.1,gamma='scale'))\n",
    "])\n",
    "\n",
    "kfold = KFold(n_splits=10,shuffle=True,random_state=42)\n",
    "score = cross_val_score(pipeline,X,y_transformed,cv=kfold,scoring='r2')\n",
    "print(score.mean(),score.std())\n",
    "\n",
    "X_train, X_test, y_train,y_test = train_test_split(X,y_transformed,test_size=0.2,random_state=42)\n",
    "pipeline.fit(X_train,y_train)\n",
    "y_pred = pipeline.predict(X_test)\n",
    "y_pred = np.expm1(y_pred)\n",
    "print(mean_absolute_error(np.expm1(y_test),y_pred))"
   ]
  },
  {
   "cell_type": "code",
   "execution_count": 29,
   "metadata": {},
   "outputs": [
    {
     "data": {
      "text/html": [
       "<div>\n",
       "<style scoped>\n",
       "    .dataframe tbody tr th:only-of-type {\n",
       "        vertical-align: middle;\n",
       "    }\n",
       "\n",
       "    .dataframe tbody tr th {\n",
       "        vertical-align: top;\n",
       "    }\n",
       "\n",
       "    .dataframe thead th {\n",
       "        text-align: right;\n",
       "    }\n",
       "</style>\n",
       "<table border=\"1\" class=\"dataframe\">\n",
       "  <thead>\n",
       "    <tr style=\"text-align: right;\">\n",
       "      <th></th>\n",
       "      <th>flat_type</th>\n",
       "      <th>address</th>\n",
       "      <th>buildup_area</th>\n",
       "      <th>which_floor</th>\n",
       "      <th>furnishing</th>\n",
       "      <th>bedrooms</th>\n",
       "      <th>balcony</th>\n",
       "    </tr>\n",
       "  </thead>\n",
       "  <tbody>\n",
       "    <tr>\n",
       "      <th>0</th>\n",
       "      <td>3 BHK Flat</td>\n",
       "      <td>Kanjurmarg West</td>\n",
       "      <td>1550</td>\n",
       "      <td>middle</td>\n",
       "      <td>Fully Furnished</td>\n",
       "      <td>3.0</td>\n",
       "      <td>1.0</td>\n",
       "    </tr>\n",
       "    <tr>\n",
       "      <th>1</th>\n",
       "      <td>1 BHK Flat</td>\n",
       "      <td>Palghar</td>\n",
       "      <td>630</td>\n",
       "      <td>lower</td>\n",
       "      <td>Unfurnished</td>\n",
       "      <td>1.0</td>\n",
       "      <td>2.0</td>\n",
       "    </tr>\n",
       "    <tr>\n",
       "      <th>2</th>\n",
       "      <td>1 BHK Flat</td>\n",
       "      <td>Mira Road East</td>\n",
       "      <td>580</td>\n",
       "      <td>middle</td>\n",
       "      <td>Semi Furnished</td>\n",
       "      <td>1.0</td>\n",
       "      <td>2.0</td>\n",
       "    </tr>\n",
       "    <tr>\n",
       "      <th>3</th>\n",
       "      <td>1 BHK Flat</td>\n",
       "      <td>Dahisar East</td>\n",
       "      <td>410</td>\n",
       "      <td>middle</td>\n",
       "      <td>Semi Furnished</td>\n",
       "      <td>1.0</td>\n",
       "      <td>1.0</td>\n",
       "    </tr>\n",
       "    <tr>\n",
       "      <th>4</th>\n",
       "      <td>3 BHK Flat</td>\n",
       "      <td>others</td>\n",
       "      <td>1052</td>\n",
       "      <td>middle</td>\n",
       "      <td>Semi Furnished</td>\n",
       "      <td>3.0</td>\n",
       "      <td>3.0</td>\n",
       "    </tr>\n",
       "  </tbody>\n",
       "</table>\n",
       "</div>"
      ],
      "text/plain": [
       "    flat_type          address  buildup_area which_floor       furnishing  \\\n",
       "0  3 BHK Flat  Kanjurmarg West          1550      middle  Fully Furnished   \n",
       "1  1 BHK Flat          Palghar           630       lower      Unfurnished   \n",
       "2  1 BHK Flat   Mira Road East           580      middle   Semi Furnished   \n",
       "3  1 BHK Flat     Dahisar East           410      middle   Semi Furnished   \n",
       "4  3 BHK Flat           others          1052      middle   Semi Furnished   \n",
       "\n",
       "   bedrooms  balcony  \n",
       "0       3.0      1.0  \n",
       "1       1.0      2.0  \n",
       "2       1.0      2.0  \n",
       "3       1.0      1.0  \n",
       "4       3.0      3.0  "
      ]
     },
     "execution_count": 29,
     "metadata": {},
     "output_type": "execute_result"
    }
   ],
   "source": [
    "X.head()"
   ]
  },
  {
   "cell_type": "code",
   "execution_count": 52,
   "metadata": {},
   "outputs": [
    {
     "data": {
      "text/plain": [
       "2.25"
      ]
     },
     "execution_count": 52,
     "metadata": {},
     "output_type": "execute_result"
    }
   ],
   "source": [
    "y[4]"
   ]
  },
  {
   "cell_type": "code",
   "execution_count": 49,
   "metadata": {},
   "outputs": [
    {
     "data": {
      "text/html": [
       "<style>#sk-container-id-1 {color: black;}#sk-container-id-1 pre{padding: 0;}#sk-container-id-1 div.sk-toggleable {background-color: white;}#sk-container-id-1 label.sk-toggleable__label {cursor: pointer;display: block;width: 100%;margin-bottom: 0;padding: 0.3em;box-sizing: border-box;text-align: center;}#sk-container-id-1 label.sk-toggleable__label-arrow:before {content: \"▸\";float: left;margin-right: 0.25em;color: #696969;}#sk-container-id-1 label.sk-toggleable__label-arrow:hover:before {color: black;}#sk-container-id-1 div.sk-estimator:hover label.sk-toggleable__label-arrow:before {color: black;}#sk-container-id-1 div.sk-toggleable__content {max-height: 0;max-width: 0;overflow: hidden;text-align: left;background-color: #f0f8ff;}#sk-container-id-1 div.sk-toggleable__content pre {margin: 0.2em;color: black;border-radius: 0.25em;background-color: #f0f8ff;}#sk-container-id-1 input.sk-toggleable__control:checked~div.sk-toggleable__content {max-height: 200px;max-width: 100%;overflow: auto;}#sk-container-id-1 input.sk-toggleable__control:checked~label.sk-toggleable__label-arrow:before {content: \"▾\";}#sk-container-id-1 div.sk-estimator input.sk-toggleable__control:checked~label.sk-toggleable__label {background-color: #d4ebff;}#sk-container-id-1 div.sk-label input.sk-toggleable__control:checked~label.sk-toggleable__label {background-color: #d4ebff;}#sk-container-id-1 input.sk-hidden--visually {border: 0;clip: rect(1px 1px 1px 1px);clip: rect(1px, 1px, 1px, 1px);height: 1px;margin: -1px;overflow: hidden;padding: 0;position: absolute;width: 1px;}#sk-container-id-1 div.sk-estimator {font-family: monospace;background-color: #f0f8ff;border: 1px dotted black;border-radius: 0.25em;box-sizing: border-box;margin-bottom: 0.5em;}#sk-container-id-1 div.sk-estimator:hover {background-color: #d4ebff;}#sk-container-id-1 div.sk-parallel-item::after {content: \"\";width: 100%;border-bottom: 1px solid gray;flex-grow: 1;}#sk-container-id-1 div.sk-label:hover label.sk-toggleable__label {background-color: #d4ebff;}#sk-container-id-1 div.sk-serial::before {content: \"\";position: absolute;border-left: 1px solid gray;box-sizing: border-box;top: 0;bottom: 0;left: 50%;z-index: 0;}#sk-container-id-1 div.sk-serial {display: flex;flex-direction: column;align-items: center;background-color: white;padding-right: 0.2em;padding-left: 0.2em;position: relative;}#sk-container-id-1 div.sk-item {position: relative;z-index: 1;}#sk-container-id-1 div.sk-parallel {display: flex;align-items: stretch;justify-content: center;background-color: white;position: relative;}#sk-container-id-1 div.sk-item::before, #sk-container-id-1 div.sk-parallel-item::before {content: \"\";position: absolute;border-left: 1px solid gray;box-sizing: border-box;top: 0;bottom: 0;left: 50%;z-index: -1;}#sk-container-id-1 div.sk-parallel-item {display: flex;flex-direction: column;z-index: 1;position: relative;background-color: white;}#sk-container-id-1 div.sk-parallel-item:first-child::after {align-self: flex-end;width: 50%;}#sk-container-id-1 div.sk-parallel-item:last-child::after {align-self: flex-start;width: 50%;}#sk-container-id-1 div.sk-parallel-item:only-child::after {width: 0;}#sk-container-id-1 div.sk-dashed-wrapped {border: 1px dashed gray;margin: 0 0.4em 0.5em 0.4em;box-sizing: border-box;padding-bottom: 0.4em;background-color: white;}#sk-container-id-1 div.sk-label label {font-family: monospace;font-weight: bold;display: inline-block;line-height: 1.2em;}#sk-container-id-1 div.sk-label-container {text-align: center;}#sk-container-id-1 div.sk-container {/* jupyter's `normalize.less` sets `[hidden] { display: none; }` but bootstrap.min.css set `[hidden] { display: none !important; }` so we also need the `!important` here to be able to override the default hidden behavior on the sphinx rendered scikit-learn.org. See: https://github.com/scikit-learn/scikit-learn/issues/21755 */display: inline-block !important;position: relative;}#sk-container-id-1 div.sk-text-repr-fallback {display: none;}</style><div id=\"sk-container-id-1\" class=\"sk-top-container\"><div class=\"sk-text-repr-fallback\"><pre>Pipeline(steps=[(&#x27;preprocessor&#x27;,\n",
       "                 ColumnTransformer(remainder=&#x27;passthrough&#x27;,\n",
       "                                   transformers=[(&#x27;num&#x27;, StandardScaler(),\n",
       "                                                  [&#x27;buildup_area&#x27;]),\n",
       "                                                 (&#x27;cat&#x27;, OrdinalEncoder(),\n",
       "                                                  [&#x27;flat_type&#x27;, &#x27;which_floor&#x27;,\n",
       "                                                   &#x27;furnishing&#x27;]),\n",
       "                                                 (&#x27;ohe&#x27;, OneHotEncoder(),\n",
       "                                                  [&#x27;address&#x27;])])),\n",
       "                (&#x27;regressor&#x27;, SVR(C=1))])</pre><b>In a Jupyter environment, please rerun this cell to show the HTML representation or trust the notebook. <br />On GitHub, the HTML representation is unable to render, please try loading this page with nbviewer.org.</b></div><div class=\"sk-container\" hidden><div class=\"sk-item sk-dashed-wrapped\"><div class=\"sk-label-container\"><div class=\"sk-label sk-toggleable\"><input class=\"sk-toggleable__control sk-hidden--visually\" id=\"sk-estimator-id-1\" type=\"checkbox\" ><label for=\"sk-estimator-id-1\" class=\"sk-toggleable__label sk-toggleable__label-arrow\">Pipeline</label><div class=\"sk-toggleable__content\"><pre>Pipeline(steps=[(&#x27;preprocessor&#x27;,\n",
       "                 ColumnTransformer(remainder=&#x27;passthrough&#x27;,\n",
       "                                   transformers=[(&#x27;num&#x27;, StandardScaler(),\n",
       "                                                  [&#x27;buildup_area&#x27;]),\n",
       "                                                 (&#x27;cat&#x27;, OrdinalEncoder(),\n",
       "                                                  [&#x27;flat_type&#x27;, &#x27;which_floor&#x27;,\n",
       "                                                   &#x27;furnishing&#x27;]),\n",
       "                                                 (&#x27;ohe&#x27;, OneHotEncoder(),\n",
       "                                                  [&#x27;address&#x27;])])),\n",
       "                (&#x27;regressor&#x27;, SVR(C=1))])</pre></div></div></div><div class=\"sk-serial\"><div class=\"sk-item sk-dashed-wrapped\"><div class=\"sk-label-container\"><div class=\"sk-label sk-toggleable\"><input class=\"sk-toggleable__control sk-hidden--visually\" id=\"sk-estimator-id-2\" type=\"checkbox\" ><label for=\"sk-estimator-id-2\" class=\"sk-toggleable__label sk-toggleable__label-arrow\">preprocessor: ColumnTransformer</label><div class=\"sk-toggleable__content\"><pre>ColumnTransformer(remainder=&#x27;passthrough&#x27;,\n",
       "                  transformers=[(&#x27;num&#x27;, StandardScaler(), [&#x27;buildup_area&#x27;]),\n",
       "                                (&#x27;cat&#x27;, OrdinalEncoder(),\n",
       "                                 [&#x27;flat_type&#x27;, &#x27;which_floor&#x27;, &#x27;furnishing&#x27;]),\n",
       "                                (&#x27;ohe&#x27;, OneHotEncoder(), [&#x27;address&#x27;])])</pre></div></div></div><div class=\"sk-parallel\"><div class=\"sk-parallel-item\"><div class=\"sk-item\"><div class=\"sk-label-container\"><div class=\"sk-label sk-toggleable\"><input class=\"sk-toggleable__control sk-hidden--visually\" id=\"sk-estimator-id-3\" type=\"checkbox\" ><label for=\"sk-estimator-id-3\" class=\"sk-toggleable__label sk-toggleable__label-arrow\">num</label><div class=\"sk-toggleable__content\"><pre>[&#x27;buildup_area&#x27;]</pre></div></div></div><div class=\"sk-serial\"><div class=\"sk-item\"><div class=\"sk-estimator sk-toggleable\"><input class=\"sk-toggleable__control sk-hidden--visually\" id=\"sk-estimator-id-4\" type=\"checkbox\" ><label for=\"sk-estimator-id-4\" class=\"sk-toggleable__label sk-toggleable__label-arrow\">StandardScaler</label><div class=\"sk-toggleable__content\"><pre>StandardScaler()</pre></div></div></div></div></div></div><div class=\"sk-parallel-item\"><div class=\"sk-item\"><div class=\"sk-label-container\"><div class=\"sk-label sk-toggleable\"><input class=\"sk-toggleable__control sk-hidden--visually\" id=\"sk-estimator-id-5\" type=\"checkbox\" ><label for=\"sk-estimator-id-5\" class=\"sk-toggleable__label sk-toggleable__label-arrow\">cat</label><div class=\"sk-toggleable__content\"><pre>[&#x27;flat_type&#x27;, &#x27;which_floor&#x27;, &#x27;furnishing&#x27;]</pre></div></div></div><div class=\"sk-serial\"><div class=\"sk-item\"><div class=\"sk-estimator sk-toggleable\"><input class=\"sk-toggleable__control sk-hidden--visually\" id=\"sk-estimator-id-6\" type=\"checkbox\" ><label for=\"sk-estimator-id-6\" class=\"sk-toggleable__label sk-toggleable__label-arrow\">OrdinalEncoder</label><div class=\"sk-toggleable__content\"><pre>OrdinalEncoder()</pre></div></div></div></div></div></div><div class=\"sk-parallel-item\"><div class=\"sk-item\"><div class=\"sk-label-container\"><div class=\"sk-label sk-toggleable\"><input class=\"sk-toggleable__control sk-hidden--visually\" id=\"sk-estimator-id-7\" type=\"checkbox\" ><label for=\"sk-estimator-id-7\" class=\"sk-toggleable__label sk-toggleable__label-arrow\">ohe</label><div class=\"sk-toggleable__content\"><pre>[&#x27;address&#x27;]</pre></div></div></div><div class=\"sk-serial\"><div class=\"sk-item\"><div class=\"sk-estimator sk-toggleable\"><input class=\"sk-toggleable__control sk-hidden--visually\" id=\"sk-estimator-id-8\" type=\"checkbox\" ><label for=\"sk-estimator-id-8\" class=\"sk-toggleable__label sk-toggleable__label-arrow\">OneHotEncoder</label><div class=\"sk-toggleable__content\"><pre>OneHotEncoder()</pre></div></div></div></div></div></div><div class=\"sk-parallel-item\"><div class=\"sk-item\"><div class=\"sk-label-container\"><div class=\"sk-label sk-toggleable\"><input class=\"sk-toggleable__control sk-hidden--visually\" id=\"sk-estimator-id-9\" type=\"checkbox\" ><label for=\"sk-estimator-id-9\" class=\"sk-toggleable__label sk-toggleable__label-arrow\">remainder</label><div class=\"sk-toggleable__content\"><pre>[&#x27;bedrooms&#x27;, &#x27;balcony&#x27;]</pre></div></div></div><div class=\"sk-serial\"><div class=\"sk-item\"><div class=\"sk-estimator sk-toggleable\"><input class=\"sk-toggleable__control sk-hidden--visually\" id=\"sk-estimator-id-10\" type=\"checkbox\" ><label for=\"sk-estimator-id-10\" class=\"sk-toggleable__label sk-toggleable__label-arrow\">passthrough</label><div class=\"sk-toggleable__content\"><pre>passthrough</pre></div></div></div></div></div></div></div></div><div class=\"sk-item\"><div class=\"sk-estimator sk-toggleable\"><input class=\"sk-toggleable__control sk-hidden--visually\" id=\"sk-estimator-id-11\" type=\"checkbox\" ><label for=\"sk-estimator-id-11\" class=\"sk-toggleable__label sk-toggleable__label-arrow\">SVR</label><div class=\"sk-toggleable__content\"><pre>SVR(C=1)</pre></div></div></div></div></div></div></div>"
      ],
      "text/plain": [
       "Pipeline(steps=[('preprocessor',\n",
       "                 ColumnTransformer(remainder='passthrough',\n",
       "                                   transformers=[('num', StandardScaler(),\n",
       "                                                  ['buildup_area']),\n",
       "                                                 ('cat', OrdinalEncoder(),\n",
       "                                                  ['flat_type', 'which_floor',\n",
       "                                                   'furnishing']),\n",
       "                                                 ('ohe', OneHotEncoder(),\n",
       "                                                  ['address'])])),\n",
       "                ('regressor', SVR(C=1))])"
      ]
     },
     "execution_count": 49,
     "metadata": {},
     "output_type": "execute_result"
    }
   ],
   "source": [
    "preprocessor = ColumnTransformer(\n",
    "    transformers=[\n",
    "        ('num',StandardScaler(),['buildup_area']),\n",
    "        ('cat',OrdinalEncoder(),['flat_type','which_floor','furnishing']),\n",
    "        ('ohe',OneHotEncoder(),['address'])\n",
    "    ],remainder='passthrough'\n",
    ")\n",
    "\n",
    "pipeline = Pipeline([\n",
    "    ('preprocessor',preprocessor),\n",
    "    ('regressor',SVR(kernel='rbf',C=1,epsilon=0.1,gamma='scale'))\n",
    "])\n",
    "pipeline.fit(X,y_transformed)"
   ]
  },
  {
   "cell_type": "code",
   "execution_count": 7,
   "metadata": {},
   "outputs": [
    {
     "data": {
      "text/plain": [
       "1.3843257648445904"
      ]
     },
     "execution_count": 7,
     "metadata": {},
     "output_type": "execute_result"
    }
   ],
   "source": [
    "import pandas as pd\n",
    "import numpy as np\n",
    "input = ['2 BHK Flat','Bhandup East',580,'lower','Fully Furnished',2,0]\n",
    "a = pd.DataFrame([input],\n",
    "             columns=X.columns)\n",
    "np.expm1(pipeline.predict(a)[0])"
   ]
  },
  {
   "cell_type": "code",
   "execution_count": 57,
   "metadata": {},
   "outputs": [],
   "source": [
    "import pickle\n",
    "\n",
    "pickle.dump(X,open('X.pkl','wb'))\n",
    "pickle.dump(pipeline,open('pipeline.pkl','wb'))"
   ]
  },
  {
   "cell_type": "code",
   "execution_count": null,
   "metadata": {},
   "outputs": [],
   "source": [
    "import pickle\n",
    "pipeline = pickle.load(open('pipeline.pkl','rb'))"
   ]
  },
  {
   "cell_type": "code",
   "execution_count": 6,
   "metadata": {},
   "outputs": [],
   "source": [
    "X = pickle.load(open('X.pkl','rb'))"
   ]
  },
  {
   "cell_type": "code",
   "execution_count": 9,
   "metadata": {},
   "outputs": [
    {
     "data": {
      "text/plain": [
       "array(['Kanjurmarg West', 'Palghar', 'Mira Road East', 'Dahisar East',\n",
       "       'others', 'Kanjurmarg East', 'Byculla', 'Kurla West',\n",
       "       'Mulund West', 'Sion', 'Powai', 'Lower Parel', 'Borivali East',\n",
       "       'Malad West', 'Virar West', 'Goregaon West', 'Naigaon East',\n",
       "       'Vasai East', 'Andheri West', 'Vikhroli East', 'Borivali West',\n",
       "       'Goregaon East', 'Dadar East', 'Dadar West', 'Wadala East',\n",
       "       'Govandi', 'Mulund East', 'Santacruz East', 'Chembur',\n",
       "       'Kandivali East', 'Santacruz West', 'Vile Parle East',\n",
       "       'Jogeshwari West', 'Nalasopara West', 'Worli', 'Kandivali West',\n",
       "       'Prabhadevi', 'Matunga East', 'Bandra East', 'Parel',\n",
       "       'Ghatkopar East', 'Andheri East', 'Jogeshwari East',\n",
       "       'Dahisar West', 'Matunga West', 'Bhandup West', 'Khar West',\n",
       "       'Ghatkopar West', 'Bhayandar East', 'Mumbai Central', 'Wadala',\n",
       "       'Bandra West', 'Malad East', 'Nalasopara East', 'Vile Parle West',\n",
       "       'Boisar', 'Vikhroli West', 'Kurla East', 'Thane West', 'Mazgaon',\n",
       "       'Naigaon West', 'Mahim', 'Vasai West', 'Bhandup East', 'Sakinaka',\n",
       "       'Mahalakshmi', 'Malabar Hill', 'Kamathipura', 'Agripada',\n",
       "       'Madanpura', 'Bhayandar West', 'Virar East', 'Girgaon', 'Tardeo',\n",
       "       'Colaba', 'Sewri', 'Madh', 'Churchgate', 'Cuffe Parade',\n",
       "       'Cumballa Hill', 'Marine Lines'], dtype=object)"
      ]
     },
     "execution_count": 9,
     "metadata": {},
     "output_type": "execute_result"
    }
   ],
   "source": [
    "X['address'].unique()"
   ]
  },
  {
   "cell_type": "code",
   "execution_count": 27,
   "metadata": {},
   "outputs": [
    {
     "data": {
      "text/plain": [
       "1.529691926086305"
      ]
     },
     "execution_count": 27,
     "metadata": {},
     "output_type": "execute_result"
    }
   ],
   "source": [
    "input = ['2 BHK Flat','Bhandup West' ,850,'lower','Semi Furnished',2,1]\n",
    "a = pd.DataFrame([input],\n",
    "             columns=X.columns)\n",
    "np.expm1(pipeline.predict(a)[0])"
   ]
  },
  {
   "cell_type": "code",
   "execution_count": 12,
   "metadata": {},
   "outputs": [
    {
     "data": {
      "text/html": [
       "<div>\n",
       "<style scoped>\n",
       "    .dataframe tbody tr th:only-of-type {\n",
       "        vertical-align: middle;\n",
       "    }\n",
       "\n",
       "    .dataframe tbody tr th {\n",
       "        vertical-align: top;\n",
       "    }\n",
       "\n",
       "    .dataframe thead th {\n",
       "        text-align: right;\n",
       "    }\n",
       "</style>\n",
       "<table border=\"1\" class=\"dataframe\">\n",
       "  <thead>\n",
       "    <tr style=\"text-align: right;\">\n",
       "      <th></th>\n",
       "      <th>flat_type</th>\n",
       "      <th>address</th>\n",
       "      <th>buildup_area</th>\n",
       "      <th>which_floor</th>\n",
       "      <th>furnishing</th>\n",
       "      <th>bedrooms</th>\n",
       "      <th>balcony</th>\n",
       "    </tr>\n",
       "  </thead>\n",
       "  <tbody>\n",
       "    <tr>\n",
       "      <th>2181</th>\n",
       "      <td>1 BHK Flat</td>\n",
       "      <td>Kandivali East</td>\n",
       "      <td>700</td>\n",
       "      <td>middle</td>\n",
       "      <td>Unfurnished</td>\n",
       "      <td>1.0</td>\n",
       "      <td>0.0</td>\n",
       "    </tr>\n",
       "    <tr>\n",
       "      <th>5838</th>\n",
       "      <td>2 BHK Flat</td>\n",
       "      <td>Lower Parel</td>\n",
       "      <td>1000</td>\n",
       "      <td>higher</td>\n",
       "      <td>Unfurnished</td>\n",
       "      <td>2.0</td>\n",
       "      <td>0.0</td>\n",
       "    </tr>\n",
       "    <tr>\n",
       "      <th>2819</th>\n",
       "      <td>1 BHK Flat</td>\n",
       "      <td>Jogeshwari West</td>\n",
       "      <td>550</td>\n",
       "      <td>middle</td>\n",
       "      <td>Unfurnished</td>\n",
       "      <td>1.0</td>\n",
       "      <td>0.0</td>\n",
       "    </tr>\n",
       "    <tr>\n",
       "      <th>4033</th>\n",
       "      <td>3 BHK Flat</td>\n",
       "      <td>Kurla West</td>\n",
       "      <td>2100</td>\n",
       "      <td>lower</td>\n",
       "      <td>Semi Furnished</td>\n",
       "      <td>3.0</td>\n",
       "      <td>2.0</td>\n",
       "    </tr>\n",
       "    <tr>\n",
       "      <th>7716</th>\n",
       "      <td>3 BHK Flat</td>\n",
       "      <td>Parel</td>\n",
       "      <td>1550</td>\n",
       "      <td>lower</td>\n",
       "      <td>Semi Furnished</td>\n",
       "      <td>3.0</td>\n",
       "      <td>0.0</td>\n",
       "    </tr>\n",
       "    <tr>\n",
       "      <th>2411</th>\n",
       "      <td>3 BHK Flat</td>\n",
       "      <td>Powai</td>\n",
       "      <td>2000</td>\n",
       "      <td>middle</td>\n",
       "      <td>Unfurnished</td>\n",
       "      <td>3.0</td>\n",
       "      <td>1.0</td>\n",
       "    </tr>\n",
       "    <tr>\n",
       "      <th>4426</th>\n",
       "      <td>1 BHK Flat</td>\n",
       "      <td>Mulund West</td>\n",
       "      <td>540</td>\n",
       "      <td>lower</td>\n",
       "      <td>Unfurnished</td>\n",
       "      <td>2.0</td>\n",
       "      <td>0.0</td>\n",
       "    </tr>\n",
       "  </tbody>\n",
       "</table>\n",
       "</div>"
      ],
      "text/plain": [
       "       flat_type          address  buildup_area which_floor      furnishing  \\\n",
       "2181  1 BHK Flat   Kandivali East           700      middle     Unfurnished   \n",
       "5838  2 BHK Flat      Lower Parel          1000      higher     Unfurnished   \n",
       "2819  1 BHK Flat  Jogeshwari West           550      middle     Unfurnished   \n",
       "4033  3 BHK Flat       Kurla West          2100       lower  Semi Furnished   \n",
       "7716  3 BHK Flat            Parel          1550       lower  Semi Furnished   \n",
       "2411  3 BHK Flat            Powai          2000      middle     Unfurnished   \n",
       "4426  1 BHK Flat      Mulund West           540       lower     Unfurnished   \n",
       "\n",
       "      bedrooms  balcony  \n",
       "2181       1.0      0.0  \n",
       "5838       2.0      0.0  \n",
       "2819       1.0      0.0  \n",
       "4033       3.0      2.0  \n",
       "7716       3.0      0.0  \n",
       "2411       3.0      1.0  \n",
       "4426       2.0      0.0  "
      ]
     },
     "execution_count": 12,
     "metadata": {},
     "output_type": "execute_result"
    }
   ],
   "source": [
    "X.sample(7)"
   ]
  }
 ],
 "metadata": {
  "kernelspec": {
   "display_name": "Python 3",
   "language": "python",
   "name": "python3"
  },
  "language_info": {
   "codemirror_mode": {
    "name": "ipython",
    "version": 3
   },
   "file_extension": ".py",
   "mimetype": "text/x-python",
   "name": "python",
   "nbconvert_exporter": "python",
   "pygments_lexer": "ipython3",
   "version": "3.12.3"
  }
 },
 "nbformat": 4,
 "nbformat_minor": 2
}
