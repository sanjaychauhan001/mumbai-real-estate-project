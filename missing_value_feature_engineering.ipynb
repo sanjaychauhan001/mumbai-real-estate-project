{
 "cells": [
  {
   "cell_type": "code",
   "execution_count": 1,
   "metadata": {},
   "outputs": [],
   "source": [
    "import pandas as pd\n",
    "import numpy as np"
   ]
  },
  {
   "cell_type": "code",
   "execution_count": 17,
   "metadata": {},
   "outputs": [],
   "source": [
    "df = pd.read_csv('mumbai_flats_cleaned_v3.csv')"
   ]
  },
  {
   "cell_type": "code",
   "execution_count": 18,
   "metadata": {},
   "outputs": [
    {
     "data": {
      "text/html": [
       "<div>\n",
       "<style scoped>\n",
       "    .dataframe tbody tr th:only-of-type {\n",
       "        vertical-align: middle;\n",
       "    }\n",
       "\n",
       "    .dataframe tbody tr th {\n",
       "        vertical-align: top;\n",
       "    }\n",
       "\n",
       "    .dataframe thead th {\n",
       "        text-align: right;\n",
       "    }\n",
       "</style>\n",
       "<table border=\"1\" class=\"dataframe\">\n",
       "  <thead>\n",
       "    <tr style=\"text-align: right;\">\n",
       "      <th></th>\n",
       "      <th>flat_type</th>\n",
       "      <th>flat_price</th>\n",
       "      <th>location1</th>\n",
       "      <th>buildupArea_sqft</th>\n",
       "      <th>avg_price_thousands</th>\n",
       "      <th>age_of_property</th>\n",
       "      <th>new_age</th>\n",
       "      <th>which_floor</th>\n",
       "      <th>furnishing</th>\n",
       "      <th>bedrooms</th>\n",
       "      <th>bathrooms</th>\n",
       "      <th>balcony</th>\n",
       "      <th>parking</th>\n",
       "    </tr>\n",
       "  </thead>\n",
       "  <tbody>\n",
       "    <tr>\n",
       "      <th>0</th>\n",
       "      <td>3 BHK Flat</td>\n",
       "      <td>3.95</td>\n",
       "      <td>Kanjurmarg West</td>\n",
       "      <td>1550</td>\n",
       "      <td>25480.0</td>\n",
       "      <td>3 Year Old</td>\n",
       "      <td>3</td>\n",
       "      <td>Higherof 50 floors</td>\n",
       "      <td>Fully Furnished</td>\n",
       "      <td>3</td>\n",
       "      <td>2</td>\n",
       "      <td>1.0</td>\n",
       "      <td>yes</td>\n",
       "    </tr>\n",
       "    <tr>\n",
       "      <th>1</th>\n",
       "      <td>1 BHK Flat</td>\n",
       "      <td>0.19</td>\n",
       "      <td>Palghar</td>\n",
       "      <td>630</td>\n",
       "      <td>3020.0</td>\n",
       "      <td>3 Year Old</td>\n",
       "      <td>3</td>\n",
       "      <td>Middleof 4 floors</td>\n",
       "      <td>Unfurnished</td>\n",
       "      <td>1</td>\n",
       "      <td>1</td>\n",
       "      <td>2.0</td>\n",
       "      <td>yes</td>\n",
       "    </tr>\n",
       "    <tr>\n",
       "      <th>2</th>\n",
       "      <td>1 BHK Flat</td>\n",
       "      <td>0.73</td>\n",
       "      <td>Mira Road East</td>\n",
       "      <td>580</td>\n",
       "      <td>12590.0</td>\n",
       "      <td>1 Years Old</td>\n",
       "      <td>1</td>\n",
       "      <td>Lowerof 25 floors</td>\n",
       "      <td>Semi Furnished</td>\n",
       "      <td>1</td>\n",
       "      <td>2</td>\n",
       "      <td>2.0</td>\n",
       "      <td>no</td>\n",
       "    </tr>\n",
       "    <tr>\n",
       "      <th>3</th>\n",
       "      <td>1 BHK Flat</td>\n",
       "      <td>1.10</td>\n",
       "      <td>Dahisar East</td>\n",
       "      <td>410</td>\n",
       "      <td>26830.0</td>\n",
       "      <td>1 Years Old</td>\n",
       "      <td>1</td>\n",
       "      <td>Higherof 35 floors</td>\n",
       "      <td>Semi Furnished</td>\n",
       "      <td>1</td>\n",
       "      <td>2</td>\n",
       "      <td>1.0</td>\n",
       "      <td>yes</td>\n",
       "    </tr>\n",
       "    <tr>\n",
       "      <th>4</th>\n",
       "      <td>3 BHK Flat</td>\n",
       "      <td>2.25</td>\n",
       "      <td>others</td>\n",
       "      <td>1052</td>\n",
       "      <td>21390.0</td>\n",
       "      <td>1 Years Old</td>\n",
       "      <td>1</td>\n",
       "      <td>Lowerof 26 floors</td>\n",
       "      <td>Semi Furnished</td>\n",
       "      <td>3</td>\n",
       "      <td>2</td>\n",
       "      <td>3.0</td>\n",
       "      <td>yes</td>\n",
       "    </tr>\n",
       "    <tr>\n",
       "      <th>...</th>\n",
       "      <td>...</td>\n",
       "      <td>...</td>\n",
       "      <td>...</td>\n",
       "      <td>...</td>\n",
       "      <td>...</td>\n",
       "      <td>...</td>\n",
       "      <td>...</td>\n",
       "      <td>...</td>\n",
       "      <td>...</td>\n",
       "      <td>...</td>\n",
       "      <td>...</td>\n",
       "      <td>...</td>\n",
       "      <td>...</td>\n",
       "    </tr>\n",
       "    <tr>\n",
       "      <th>9504</th>\n",
       "      <td>3 BHK Flat</td>\n",
       "      <td>2.60</td>\n",
       "      <td>Mulund West</td>\n",
       "      <td>886</td>\n",
       "      <td>29340.0</td>\n",
       "      <td>20 Year Old</td>\n",
       "      <td>20</td>\n",
       "      <td>Higherof 28 floors</td>\n",
       "      <td>Fully Furnished</td>\n",
       "      <td>3</td>\n",
       "      <td>3</td>\n",
       "      <td>0.0</td>\n",
       "      <td>yes</td>\n",
       "    </tr>\n",
       "    <tr>\n",
       "      <th>9505</th>\n",
       "      <td>1 BHK Flat</td>\n",
       "      <td>1.15</td>\n",
       "      <td>others</td>\n",
       "      <td>750</td>\n",
       "      <td>15330.0</td>\n",
       "      <td>unknown</td>\n",
       "      <td>unknown</td>\n",
       "      <td>unknown</td>\n",
       "      <td>NaN</td>\n",
       "      <td>1</td>\n",
       "      <td>1</td>\n",
       "      <td>2.0</td>\n",
       "      <td>no</td>\n",
       "    </tr>\n",
       "    <tr>\n",
       "      <th>9506</th>\n",
       "      <td>2 BHK Flat</td>\n",
       "      <td>0.65</td>\n",
       "      <td>Mira Road East</td>\n",
       "      <td>625</td>\n",
       "      <td>10400.0</td>\n",
       "      <td>20 Year Old</td>\n",
       "      <td>20</td>\n",
       "      <td>Lowerof 4 floors</td>\n",
       "      <td>Semi Furnished</td>\n",
       "      <td>2</td>\n",
       "      <td>2</td>\n",
       "      <td>0.0</td>\n",
       "      <td>no</td>\n",
       "    </tr>\n",
       "    <tr>\n",
       "      <th>9507</th>\n",
       "      <td>1 BHK Flat</td>\n",
       "      <td>0.20</td>\n",
       "      <td>Naigaon East</td>\n",
       "      <td>280</td>\n",
       "      <td>7140.0</td>\n",
       "      <td>10 Year Old</td>\n",
       "      <td>10</td>\n",
       "      <td>Lowerof 7 floors</td>\n",
       "      <td>Semi Furnished</td>\n",
       "      <td>1</td>\n",
       "      <td>1</td>\n",
       "      <td>0.0</td>\n",
       "      <td>no</td>\n",
       "    </tr>\n",
       "    <tr>\n",
       "      <th>9508</th>\n",
       "      <td>1 BHK Flat</td>\n",
       "      <td>0.97</td>\n",
       "      <td>Tardeo</td>\n",
       "      <td>315</td>\n",
       "      <td>30790.0</td>\n",
       "      <td>unknown</td>\n",
       "      <td>unknown</td>\n",
       "      <td>NaN</td>\n",
       "      <td>Semi Furnished</td>\n",
       "      <td>1</td>\n",
       "      <td>1</td>\n",
       "      <td>0.0</td>\n",
       "      <td>yes</td>\n",
       "    </tr>\n",
       "  </tbody>\n",
       "</table>\n",
       "<p>9509 rows × 13 columns</p>\n",
       "</div>"
      ],
      "text/plain": [
       "       flat_type  flat_price        location1  buildupArea_sqft  \\\n",
       "0     3 BHK Flat        3.95  Kanjurmarg West              1550   \n",
       "1     1 BHK Flat        0.19          Palghar               630   \n",
       "2     1 BHK Flat        0.73   Mira Road East               580   \n",
       "3     1 BHK Flat        1.10     Dahisar East               410   \n",
       "4     3 BHK Flat        2.25           others              1052   \n",
       "...          ...         ...              ...               ...   \n",
       "9504  3 BHK Flat        2.60      Mulund West               886   \n",
       "9505  1 BHK Flat        1.15           others               750   \n",
       "9506  2 BHK Flat        0.65   Mira Road East               625   \n",
       "9507  1 BHK Flat        0.20     Naigaon East               280   \n",
       "9508  1 BHK Flat        0.97           Tardeo               315   \n",
       "\n",
       "      avg_price_thousands age_of_property  new_age         which_floor  \\\n",
       "0                 25480.0      3 Year Old        3  Higherof 50 floors   \n",
       "1                  3020.0      3 Year Old        3   Middleof 4 floors   \n",
       "2                 12590.0     1 Years Old        1   Lowerof 25 floors   \n",
       "3                 26830.0     1 Years Old        1  Higherof 35 floors   \n",
       "4                 21390.0     1 Years Old        1   Lowerof 26 floors   \n",
       "...                   ...             ...      ...                 ...   \n",
       "9504              29340.0     20 Year Old       20  Higherof 28 floors   \n",
       "9505              15330.0         unknown  unknown             unknown   \n",
       "9506              10400.0     20 Year Old       20    Lowerof 4 floors   \n",
       "9507               7140.0     10 Year Old       10    Lowerof 7 floors   \n",
       "9508              30790.0         unknown  unknown                 NaN   \n",
       "\n",
       "           furnishing  bedrooms  bathrooms  balcony parking  \n",
       "0     Fully Furnished         3          2      1.0     yes  \n",
       "1         Unfurnished         1          1      2.0     yes  \n",
       "2      Semi Furnished         1          2      2.0      no  \n",
       "3      Semi Furnished         1          2      1.0     yes  \n",
       "4      Semi Furnished         3          2      3.0     yes  \n",
       "...               ...       ...        ...      ...     ...  \n",
       "9504  Fully Furnished         3          3      0.0     yes  \n",
       "9505              NaN         1          1      2.0      no  \n",
       "9506   Semi Furnished         2          2      0.0      no  \n",
       "9507   Semi Furnished         1          1      0.0      no  \n",
       "9508   Semi Furnished         1          1      0.0     yes  \n",
       "\n",
       "[9509 rows x 13 columns]"
      ]
     },
     "execution_count": 18,
     "metadata": {},
     "output_type": "execute_result"
    }
   ],
   "source": [
    "df"
   ]
  },
  {
   "cell_type": "code",
   "execution_count": 19,
   "metadata": {},
   "outputs": [
    {
     "data": {
      "text/plain": [
       "(9509, 13)"
      ]
     },
     "execution_count": 19,
     "metadata": {},
     "output_type": "execute_result"
    }
   ],
   "source": [
    "df.shape"
   ]
  },
  {
   "cell_type": "code",
   "execution_count": 20,
   "metadata": {},
   "outputs": [
    {
     "data": {
      "text/plain": [
       "flat_type                 0\n",
       "flat_price                0\n",
       "location1                 0\n",
       "buildupArea_sqft          0\n",
       "avg_price_thousands       0\n",
       "age_of_property           0\n",
       "new_age                   0\n",
       "which_floor             142\n",
       "furnishing             1704\n",
       "bedrooms                  0\n",
       "bathrooms                 0\n",
       "balcony                1426\n",
       "parking                   0\n",
       "dtype: int64"
      ]
     },
     "execution_count": 20,
     "metadata": {},
     "output_type": "execute_result"
    }
   ],
   "source": [
    "df.isnull().sum()"
   ]
  },
  {
   "cell_type": "code",
   "execution_count": 21,
   "metadata": {},
   "outputs": [
    {
     "name": "stdout",
     "output_type": "stream",
     "text": [
      "<class 'pandas.core.frame.DataFrame'>\n",
      "RangeIndex: 9509 entries, 0 to 9508\n",
      "Data columns (total 13 columns):\n",
      " #   Column               Non-Null Count  Dtype  \n",
      "---  ------               --------------  -----  \n",
      " 0   flat_type            9509 non-null   object \n",
      " 1   flat_price           9509 non-null   float64\n",
      " 2   location1            9509 non-null   object \n",
      " 3   buildupArea_sqft     9509 non-null   int64  \n",
      " 4   avg_price_thousands  9509 non-null   float64\n",
      " 5   age_of_property      9509 non-null   object \n",
      " 6   new_age              9509 non-null   object \n",
      " 7   which_floor          9367 non-null   object \n",
      " 8   furnishing           7805 non-null   object \n",
      " 9   bedrooms             9509 non-null   int64  \n",
      " 10  bathrooms            9509 non-null   int64  \n",
      " 11  balcony              8083 non-null   float64\n",
      " 12  parking              9509 non-null   object \n",
      "dtypes: float64(3), int64(3), object(7)\n",
      "memory usage: 965.9+ KB\n"
     ]
    }
   ],
   "source": [
    "df.info()"
   ]
  },
  {
   "cell_type": "code",
   "execution_count": 12,
   "metadata": {},
   "outputs": [
    {
     "data": {
      "text/plain": [
       "new_age\n",
       "1          1686\n",
       "5          1250\n",
       "10          917\n",
       "unknown     842\n",
       "2           747\n",
       "15          611\n",
       "3           590\n",
       "4           492\n",
       "8           364\n",
       "20          363\n",
       "7           339\n",
       "12          297\n",
       "6           281\n",
       "9           147\n",
       "25          143\n",
       "30           81\n",
       "18           77\n",
       "14           54\n",
       "16           38\n",
       "13           37\n",
       "40           33\n",
       "11           32\n",
       "17           23\n",
       "22           20\n",
       "35           19\n",
       "23           13\n",
       "19           11\n",
       "50            9\n",
       "45            7\n",
       "26            6\n",
       "21            5\n",
       "38            5\n",
       "24            4\n",
       "28            4\n",
       "32            3\n",
       "31            3\n",
       "42            3\n",
       "60            2\n",
       "52            2\n",
       "29            2\n",
       "99            1\n",
       "41            1\n",
       "53            1\n",
       "27            1\n",
       "71            1\n",
       "80            1\n",
       "48            1\n",
       "36            1\n",
       "37            1\n",
       "Name: count, dtype: int64"
      ]
     },
     "execution_count": 12,
     "metadata": {},
     "output_type": "execute_result"
    }
   ],
   "source": [
    "df['new_age'].value_counts()"
   ]
  },
  {
   "cell_type": "code",
   "execution_count": 14,
   "metadata": {},
   "outputs": [
    {
     "data": {
      "text/html": [
       "<div>\n",
       "<style scoped>\n",
       "    .dataframe tbody tr th:only-of-type {\n",
       "        vertical-align: middle;\n",
       "    }\n",
       "\n",
       "    .dataframe tbody tr th {\n",
       "        vertical-align: top;\n",
       "    }\n",
       "\n",
       "    .dataframe thead th {\n",
       "        text-align: right;\n",
       "    }\n",
       "</style>\n",
       "<table border=\"1\" class=\"dataframe\">\n",
       "  <thead>\n",
       "    <tr style=\"text-align: right;\">\n",
       "      <th></th>\n",
       "      <th>flat_type</th>\n",
       "      <th>flat_price</th>\n",
       "      <th>location1</th>\n",
       "      <th>buildupArea_sqft</th>\n",
       "      <th>avg_price_thousands</th>\n",
       "      <th>age_of_property</th>\n",
       "      <th>new_age</th>\n",
       "      <th>which_floor</th>\n",
       "      <th>furnishing</th>\n",
       "      <th>bedrooms</th>\n",
       "      <th>bathrooms</th>\n",
       "      <th>balcony</th>\n",
       "      <th>parking</th>\n",
       "    </tr>\n",
       "  </thead>\n",
       "  <tbody>\n",
       "    <tr>\n",
       "      <th>11</th>\n",
       "      <td>2 BHK Flat</td>\n",
       "      <td>2.20</td>\n",
       "      <td>Mulund West</td>\n",
       "      <td>999</td>\n",
       "      <td>22020.0</td>\n",
       "      <td>unknown</td>\n",
       "      <td>unknown</td>\n",
       "      <td>unknown</td>\n",
       "      <td>NaN</td>\n",
       "      <td>2</td>\n",
       "      <td>2</td>\n",
       "      <td>0.0</td>\n",
       "      <td>yes</td>\n",
       "    </tr>\n",
       "    <tr>\n",
       "      <th>17</th>\n",
       "      <td>2 BHK Flat</td>\n",
       "      <td>2.04</td>\n",
       "      <td>Mulund West</td>\n",
       "      <td>778</td>\n",
       "      <td>26220.0</td>\n",
       "      <td>2 BHK</td>\n",
       "      <td>unknown</td>\n",
       "      <td>Higherof 58 floors</td>\n",
       "      <td>Unfurnished</td>\n",
       "      <td>2</td>\n",
       "      <td>2</td>\n",
       "      <td>1.0</td>\n",
       "      <td>yes</td>\n",
       "    </tr>\n",
       "    <tr>\n",
       "      <th>18</th>\n",
       "      <td>2 BHK Flat</td>\n",
       "      <td>2.25</td>\n",
       "      <td>Mulund West</td>\n",
       "      <td>1044</td>\n",
       "      <td>21550.0</td>\n",
       "      <td>unknown</td>\n",
       "      <td>unknown</td>\n",
       "      <td>unknown</td>\n",
       "      <td>NaN</td>\n",
       "      <td>2</td>\n",
       "      <td>2</td>\n",
       "      <td>0.0</td>\n",
       "      <td>yes</td>\n",
       "    </tr>\n",
       "    <tr>\n",
       "      <th>29</th>\n",
       "      <td>1 BHK Flat</td>\n",
       "      <td>0.60</td>\n",
       "      <td>Mira Road East</td>\n",
       "      <td>715</td>\n",
       "      <td>8450.0</td>\n",
       "      <td>unknown</td>\n",
       "      <td>unknown</td>\n",
       "      <td>unknown</td>\n",
       "      <td>NaN</td>\n",
       "      <td>1</td>\n",
       "      <td>2</td>\n",
       "      <td>3.0</td>\n",
       "      <td>yes</td>\n",
       "    </tr>\n",
       "    <tr>\n",
       "      <th>43</th>\n",
       "      <td>2 BHK Flat</td>\n",
       "      <td>1.04</td>\n",
       "      <td>Mira Road East</td>\n",
       "      <td>825</td>\n",
       "      <td>12610.0</td>\n",
       "      <td>unknown</td>\n",
       "      <td>unknown</td>\n",
       "      <td>unknown</td>\n",
       "      <td>NaN</td>\n",
       "      <td>2</td>\n",
       "      <td>2</td>\n",
       "      <td>3.0</td>\n",
       "      <td>yes</td>\n",
       "    </tr>\n",
       "    <tr>\n",
       "      <th>...</th>\n",
       "      <td>...</td>\n",
       "      <td>...</td>\n",
       "      <td>...</td>\n",
       "      <td>...</td>\n",
       "      <td>...</td>\n",
       "      <td>...</td>\n",
       "      <td>...</td>\n",
       "      <td>...</td>\n",
       "      <td>...</td>\n",
       "      <td>...</td>\n",
       "      <td>...</td>\n",
       "      <td>...</td>\n",
       "      <td>...</td>\n",
       "    </tr>\n",
       "    <tr>\n",
       "      <th>9552</th>\n",
       "      <td>1 BHK Flat</td>\n",
       "      <td>1.10</td>\n",
       "      <td>Andheri West</td>\n",
       "      <td>550</td>\n",
       "      <td>20000.0</td>\n",
       "      <td>unknown</td>\n",
       "      <td>unknown</td>\n",
       "      <td>unknown</td>\n",
       "      <td>NaN</td>\n",
       "      <td>1</td>\n",
       "      <td>1</td>\n",
       "      <td>NaN</td>\n",
       "      <td>yes</td>\n",
       "    </tr>\n",
       "    <tr>\n",
       "      <th>9553</th>\n",
       "      <td>1 BHK Flat</td>\n",
       "      <td>1.40</td>\n",
       "      <td>Kandivali West</td>\n",
       "      <td>765</td>\n",
       "      <td>18300.0</td>\n",
       "      <td>1 BHK</td>\n",
       "      <td>unknown</td>\n",
       "      <td>Middleof 46 floors</td>\n",
       "      <td>Unfurnished</td>\n",
       "      <td>1</td>\n",
       "      <td>2</td>\n",
       "      <td>2.0</td>\n",
       "      <td>yes</td>\n",
       "    </tr>\n",
       "    <tr>\n",
       "      <th>9554</th>\n",
       "      <td>1 BHK Flat</td>\n",
       "      <td>0.85</td>\n",
       "      <td>Vikhroli East</td>\n",
       "      <td>450</td>\n",
       "      <td>18890.0</td>\n",
       "      <td>1 BHK</td>\n",
       "      <td>unknown</td>\n",
       "      <td>Lowerof 23 floors</td>\n",
       "      <td>Semi Furnished</td>\n",
       "      <td>1</td>\n",
       "      <td>2</td>\n",
       "      <td>0.0</td>\n",
       "      <td>yes</td>\n",
       "    </tr>\n",
       "    <tr>\n",
       "      <th>9566</th>\n",
       "      <td>1 BHK Flat</td>\n",
       "      <td>1.15</td>\n",
       "      <td>others</td>\n",
       "      <td>750</td>\n",
       "      <td>15330.0</td>\n",
       "      <td>unknown</td>\n",
       "      <td>unknown</td>\n",
       "      <td>unknown</td>\n",
       "      <td>NaN</td>\n",
       "      <td>1</td>\n",
       "      <td>1</td>\n",
       "      <td>2.0</td>\n",
       "      <td>no</td>\n",
       "    </tr>\n",
       "    <tr>\n",
       "      <th>9570</th>\n",
       "      <td>1 BHK Flat</td>\n",
       "      <td>0.97</td>\n",
       "      <td>Tardeo</td>\n",
       "      <td>315</td>\n",
       "      <td>30790.0</td>\n",
       "      <td>unknown</td>\n",
       "      <td>unknown</td>\n",
       "      <td>NaN</td>\n",
       "      <td>Semi Furnished</td>\n",
       "      <td>1</td>\n",
       "      <td>1</td>\n",
       "      <td>0.0</td>\n",
       "      <td>yes</td>\n",
       "    </tr>\n",
       "  </tbody>\n",
       "</table>\n",
       "<p>842 rows × 13 columns</p>\n",
       "</div>"
      ],
      "text/plain": [
       "       flat_type  flat_price       location1  buildupArea_sqft  \\\n",
       "11    2 BHK Flat        2.20     Mulund West               999   \n",
       "17    2 BHK Flat        2.04     Mulund West               778   \n",
       "18    2 BHK Flat        2.25     Mulund West              1044   \n",
       "29    1 BHK Flat        0.60  Mira Road East               715   \n",
       "43    2 BHK Flat        1.04  Mira Road East               825   \n",
       "...          ...         ...             ...               ...   \n",
       "9552  1 BHK Flat        1.10    Andheri West               550   \n",
       "9553  1 BHK Flat        1.40  Kandivali West               765   \n",
       "9554  1 BHK Flat        0.85   Vikhroli East               450   \n",
       "9566  1 BHK Flat        1.15          others               750   \n",
       "9570  1 BHK Flat        0.97          Tardeo               315   \n",
       "\n",
       "      avg_price_thousands age_of_property  new_age         which_floor  \\\n",
       "11                22020.0         unknown  unknown             unknown   \n",
       "17                26220.0           2 BHK  unknown  Higherof 58 floors   \n",
       "18                21550.0         unknown  unknown             unknown   \n",
       "29                 8450.0         unknown  unknown             unknown   \n",
       "43                12610.0         unknown  unknown             unknown   \n",
       "...                   ...             ...      ...                 ...   \n",
       "9552              20000.0         unknown  unknown             unknown   \n",
       "9553              18300.0           1 BHK  unknown  Middleof 46 floors   \n",
       "9554              18890.0           1 BHK  unknown   Lowerof 23 floors   \n",
       "9566              15330.0         unknown  unknown             unknown   \n",
       "9570              30790.0         unknown  unknown                 NaN   \n",
       "\n",
       "          furnishing  bedrooms  bathrooms  balcony parking  \n",
       "11               NaN         2          2      0.0     yes  \n",
       "17       Unfurnished         2          2      1.0     yes  \n",
       "18               NaN         2          2      0.0     yes  \n",
       "29               NaN         1          2      3.0     yes  \n",
       "43               NaN         2          2      3.0     yes  \n",
       "...              ...       ...        ...      ...     ...  \n",
       "9552             NaN         1          1      NaN     yes  \n",
       "9553     Unfurnished         1          2      2.0     yes  \n",
       "9554  Semi Furnished         1          2      0.0     yes  \n",
       "9566             NaN         1          1      2.0      no  \n",
       "9570  Semi Furnished         1          1      0.0     yes  \n",
       "\n",
       "[842 rows x 13 columns]"
      ]
     },
     "execution_count": 14,
     "metadata": {},
     "output_type": "execute_result"
    }
   ],
   "source": [
    "df[df['new_age'] == 'unknown']"
   ]
  },
  {
   "cell_type": "code",
   "execution_count": 16,
   "metadata": {},
   "outputs": [
    {
     "data": {
      "text/plain": [
       "which_floor\n",
       "unknown               585\n",
       "Higherof 7 floors     504\n",
       "Middleof 7 floors     384\n",
       "Middleof 15 floors    302\n",
       "Middleof 22 floors    276\n",
       "                     ... \n",
       "Lowerof 75 floors       1\n",
       "Middleof 99 floors      1\n",
       "Higherof 58 floors      1\n",
       "Higherof 47 floors      1\n",
       "Middleof 69 floors      1\n",
       "Name: count, Length: 225, dtype: int64"
      ]
     },
     "execution_count": 16,
     "metadata": {},
     "output_type": "execute_result"
    }
   ],
   "source": [
    "df['which_floor'].value_counts()"
   ]
  },
  {
   "cell_type": "code",
   "execution_count": 25,
   "metadata": {},
   "outputs": [],
   "source": [
    "a = df[(df['new_age'] == 'unknown') & (df['which_floor'] == 'unknown')].index\n",
    "df.drop(index=a,inplace=True)"
   ]
  },
  {
   "cell_type": "code",
   "execution_count": 30,
   "metadata": {},
   "outputs": [],
   "source": [
    "b = df[(df['new_age'] == 'unknown') | (df['which_floor'] == 'unknown')].index\n",
    "df.drop(index=b,inplace=True)"
   ]
  },
  {
   "cell_type": "code",
   "execution_count": 44,
   "metadata": {},
   "outputs": [
    {
     "data": {
      "text/plain": [
       "new_age\n",
       "1     1675\n",
       "5     1234\n",
       "10     904\n",
       "2      742\n",
       "15     605\n",
       "3      589\n",
       "4      491\n",
       "8      362\n",
       "20     354\n",
       "7      338\n",
       "12     296\n",
       "6      281\n",
       "9      147\n",
       "25     142\n",
       "18      77\n",
       "30      74\n",
       "14      54\n",
       "16      38\n",
       "13      37\n",
       "40      33\n",
       "11      32\n",
       "17      23\n",
       "22      20\n",
       "35      19\n",
       "23      13\n",
       "19      11\n",
       "50       8\n",
       "26       6\n",
       "45       5\n",
       "21       5\n",
       "38       5\n",
       "28       4\n",
       "24       4\n",
       "32       3\n",
       "42       3\n",
       "31       3\n",
       "60       2\n",
       "52       2\n",
       "29       2\n",
       "27       1\n",
       "36       1\n",
       "48       1\n",
       "80       1\n",
       "71       1\n",
       "41       1\n",
       "53       1\n",
       "99       1\n",
       "37       1\n",
       "Name: count, dtype: int64"
      ]
     },
     "execution_count": 44,
     "metadata": {},
     "output_type": "execute_result"
    }
   ],
   "source": [
    "df['new_age'].value_counts()"
   ]
  },
  {
   "cell_type": "code",
   "execution_count": 45,
   "metadata": {},
   "outputs": [
    {
     "data": {
      "text/plain": [
       "0"
      ]
     },
     "execution_count": 45,
     "metadata": {},
     "output_type": "execute_result"
    }
   ],
   "source": [
    "df['new_age'].isnull().sum()"
   ]
  },
  {
   "cell_type": "code",
   "execution_count": 51,
   "metadata": {},
   "outputs": [],
   "source": [
    "df['new_age'] = df['new_age'].astype(int)"
   ]
  },
  {
   "cell_type": "code",
   "execution_count": 54,
   "metadata": {},
   "outputs": [],
   "source": [
    "df.drop(columns=['age_of_property'],inplace=True)"
   ]
  },
  {
   "cell_type": "code",
   "execution_count": 55,
   "metadata": {},
   "outputs": [
    {
     "data": {
      "text/plain": [
       "count    8652.000000\n",
       "mean        7.527508\n",
       "std         7.219485\n",
       "min         1.000000\n",
       "25%         2.000000\n",
       "50%         5.000000\n",
       "75%        10.000000\n",
       "max        99.000000\n",
       "Name: new_age, dtype: float64"
      ]
     },
     "execution_count": 55,
     "metadata": {},
     "output_type": "execute_result"
    }
   ],
   "source": [
    "df['new_age'].describe()"
   ]
  },
  {
   "cell_type": "code",
   "execution_count": 56,
   "metadata": {},
   "outputs": [],
   "source": [
    "def age_of_propert(value):\n",
    "    if value <= 2:\n",
    "        return 'new construction'\n",
    "    elif value >2 and value <=10:\n",
    "        return \"recent construction\"\n",
    "    elif value >10 and value <=20:\n",
    "        return 'modern property'\n",
    "    elif value >20 and value <=50:\n",
    "        return 'mid age property'\n",
    "    else:\n",
    "        return 'old propert'"
   ]
  },
  {
   "cell_type": "code",
   "execution_count": 66,
   "metadata": {},
   "outputs": [],
   "source": [
    "age = df['new_age'].apply(age_of_propert)"
   ]
  },
  {
   "cell_type": "code",
   "execution_count": 67,
   "metadata": {},
   "outputs": [],
   "source": [
    "df.insert(6,'age_of_propert',age)"
   ]
  },
  {
   "cell_type": "code",
   "execution_count": 70,
   "metadata": {},
   "outputs": [
    {
     "data": {
      "text/plain": [
       "which_floor\n",
       "Higherof 7 floors     496\n",
       "Middleof 7 floors     382\n",
       "Middleof 15 floors    298\n",
       "Middleof 22 floors    268\n",
       "Lowerof 7 floors      263\n",
       "                     ... \n",
       "Middleof 92 floors      1\n",
       "Higherof 47 floors      1\n",
       "Higherof 73 floors      1\n",
       "Lowerof 75 floors       1\n",
       "Middleof 69 floors      1\n",
       "Name: count, Length: 221, dtype: int64"
      ]
     },
     "execution_count": 70,
     "metadata": {},
     "output_type": "execute_result"
    }
   ],
   "source": [
    "df['which_floor'].value_counts()"
   ]
  },
  {
   "cell_type": "code",
   "execution_count": null,
   "metadata": {},
   "outputs": [],
   "source": [
    "floor = df['which_floor'].str.split(\"of\").str[0].str.strip()\n",
    "df.insert(8,'floor_type',floor)"
   ]
  },
  {
   "cell_type": "code",
   "execution_count": 82,
   "metadata": {},
   "outputs": [
    {
     "data": {
      "text/plain": [
       "furnishing\n",
       "Semi Furnished     3496\n",
       "Unfurnished        3040\n",
       "Fully Furnished    1045\n",
       "Name: count, dtype: int64"
      ]
     },
     "execution_count": 82,
     "metadata": {},
     "output_type": "execute_result"
    }
   ],
   "source": [
    "df['furnishing'].value_counts()"
   ]
  },
  {
   "cell_type": "code",
   "execution_count": 83,
   "metadata": {},
   "outputs": [
    {
     "data": {
      "text/plain": [
       "1071"
      ]
     },
     "execution_count": 83,
     "metadata": {},
     "output_type": "execute_result"
    }
   ],
   "source": [
    "df['furnishing'].isnull().sum()"
   ]
  },
  {
   "cell_type": "code",
   "execution_count": 86,
   "metadata": {},
   "outputs": [],
   "source": [
    "df['furnishing'].fillna('Semi Furnished',inplace=True)"
   ]
  },
  {
   "cell_type": "code",
   "execution_count": 87,
   "metadata": {},
   "outputs": [
    {
     "data": {
      "text/plain": [
       "0"
      ]
     },
     "execution_count": 87,
     "metadata": {},
     "output_type": "execute_result"
    }
   ],
   "source": [
    "df['furnishing'].isnull().sum()"
   ]
  },
  {
   "cell_type": "code",
   "execution_count": 90,
   "metadata": {},
   "outputs": [
    {
     "data": {
      "text/plain": [
       "0"
      ]
     },
     "execution_count": 90,
     "metadata": {},
     "output_type": "execute_result"
    }
   ],
   "source": [
    "df['bedrooms'].isnull().sum()"
   ]
  },
  {
   "cell_type": "code",
   "execution_count": 91,
   "metadata": {},
   "outputs": [
    {
     "data": {
      "text/plain": [
       "bedrooms\n",
       "2    3225\n",
       "1    2504\n",
       "3    2213\n",
       "4     586\n",
       "5      93\n",
       "6      31\n",
       "Name: count, dtype: int64"
      ]
     },
     "execution_count": 91,
     "metadata": {},
     "output_type": "execute_result"
    }
   ],
   "source": [
    "df['bedrooms'].value_counts()"
   ]
  },
  {
   "cell_type": "code",
   "execution_count": 92,
   "metadata": {},
   "outputs": [
    {
     "data": {
      "text/plain": [
       "bathrooms\n",
       "2    4796\n",
       "3    1844\n",
       "1    1474\n",
       "4     429\n",
       "5      86\n",
       "6      23\n",
       "Name: count, dtype: int64"
      ]
     },
     "execution_count": 92,
     "metadata": {},
     "output_type": "execute_result"
    }
   ],
   "source": [
    "df['bathrooms'].value_counts()"
   ]
  },
  {
   "cell_type": "code",
   "execution_count": 93,
   "metadata": {},
   "outputs": [
    {
     "data": {
      "text/plain": [
       "0"
      ]
     },
     "execution_count": 93,
     "metadata": {},
     "output_type": "execute_result"
    }
   ],
   "source": [
    "df['bathrooms'].isna().sum()"
   ]
  },
  {
   "cell_type": "code",
   "execution_count": 94,
   "metadata": {},
   "outputs": [
    {
     "data": {
      "text/plain": [
       "balcony\n",
       "0.0    4308\n",
       "1.0    1222\n",
       "2.0     898\n",
       "3.0     691\n",
       "4.0     164\n",
       "5.0      34\n",
       "Name: count, dtype: int64"
      ]
     },
     "execution_count": 94,
     "metadata": {},
     "output_type": "execute_result"
    }
   ],
   "source": [
    "df['balcony'].value_counts()"
   ]
  },
  {
   "cell_type": "code",
   "execution_count": 95,
   "metadata": {},
   "outputs": [
    {
     "data": {
      "text/plain": [
       "1335"
      ]
     },
     "execution_count": 95,
     "metadata": {},
     "output_type": "execute_result"
    }
   ],
   "source": [
    "df['balcony'].isna().sum()"
   ]
  },
  {
   "cell_type": "code",
   "execution_count": 112,
   "metadata": {},
   "outputs": [
    {
     "data": {
      "text/html": [
       "<div>\n",
       "<style scoped>\n",
       "    .dataframe tbody tr th:only-of-type {\n",
       "        vertical-align: middle;\n",
       "    }\n",
       "\n",
       "    .dataframe tbody tr th {\n",
       "        vertical-align: top;\n",
       "    }\n",
       "\n",
       "    .dataframe thead th {\n",
       "        text-align: right;\n",
       "    }\n",
       "</style>\n",
       "<table border=\"1\" class=\"dataframe\">\n",
       "  <thead>\n",
       "    <tr style=\"text-align: right;\">\n",
       "      <th></th>\n",
       "      <th>flat_type</th>\n",
       "      <th>flat_price</th>\n",
       "      <th>location1</th>\n",
       "      <th>buildupArea_sqft</th>\n",
       "      <th>avg_price_thousands</th>\n",
       "      <th>new_age</th>\n",
       "      <th>age_of_propert</th>\n",
       "      <th>which_floor</th>\n",
       "      <th>floor_type</th>\n",
       "      <th>furnishing</th>\n",
       "      <th>bedrooms</th>\n",
       "      <th>bathrooms</th>\n",
       "      <th>balcony</th>\n",
       "      <th>parking</th>\n",
       "    </tr>\n",
       "  </thead>\n",
       "  <tbody>\n",
       "    <tr>\n",
       "      <th>0</th>\n",
       "      <td>3 BHK Flat</td>\n",
       "      <td>3.95</td>\n",
       "      <td>Kanjurmarg West</td>\n",
       "      <td>1550</td>\n",
       "      <td>25480.0</td>\n",
       "      <td>3</td>\n",
       "      <td>recent construction</td>\n",
       "      <td>Higherof 50 floors</td>\n",
       "      <td>Higher</td>\n",
       "      <td>Fully Furnished</td>\n",
       "      <td>3</td>\n",
       "      <td>2</td>\n",
       "      <td>1.0</td>\n",
       "      <td>yes</td>\n",
       "    </tr>\n",
       "    <tr>\n",
       "      <th>1</th>\n",
       "      <td>1 BHK Flat</td>\n",
       "      <td>0.19</td>\n",
       "      <td>Palghar</td>\n",
       "      <td>630</td>\n",
       "      <td>3020.0</td>\n",
       "      <td>3</td>\n",
       "      <td>recent construction</td>\n",
       "      <td>Middleof 4 floors</td>\n",
       "      <td>Middle</td>\n",
       "      <td>Unfurnished</td>\n",
       "      <td>1</td>\n",
       "      <td>1</td>\n",
       "      <td>2.0</td>\n",
       "      <td>yes</td>\n",
       "    </tr>\n",
       "    <tr>\n",
       "      <th>2</th>\n",
       "      <td>1 BHK Flat</td>\n",
       "      <td>0.73</td>\n",
       "      <td>Mira Road East</td>\n",
       "      <td>580</td>\n",
       "      <td>12590.0</td>\n",
       "      <td>1</td>\n",
       "      <td>new construction</td>\n",
       "      <td>Lowerof 25 floors</td>\n",
       "      <td>Lower</td>\n",
       "      <td>Semi Furnished</td>\n",
       "      <td>1</td>\n",
       "      <td>2</td>\n",
       "      <td>2.0</td>\n",
       "      <td>no</td>\n",
       "    </tr>\n",
       "    <tr>\n",
       "      <th>3</th>\n",
       "      <td>1 BHK Flat</td>\n",
       "      <td>1.10</td>\n",
       "      <td>Dahisar East</td>\n",
       "      <td>410</td>\n",
       "      <td>26830.0</td>\n",
       "      <td>1</td>\n",
       "      <td>new construction</td>\n",
       "      <td>Higherof 35 floors</td>\n",
       "      <td>Higher</td>\n",
       "      <td>Semi Furnished</td>\n",
       "      <td>1</td>\n",
       "      <td>2</td>\n",
       "      <td>1.0</td>\n",
       "      <td>yes</td>\n",
       "    </tr>\n",
       "    <tr>\n",
       "      <th>4</th>\n",
       "      <td>3 BHK Flat</td>\n",
       "      <td>2.25</td>\n",
       "      <td>others</td>\n",
       "      <td>1052</td>\n",
       "      <td>21390.0</td>\n",
       "      <td>1</td>\n",
       "      <td>new construction</td>\n",
       "      <td>Lowerof 26 floors</td>\n",
       "      <td>Lower</td>\n",
       "      <td>Semi Furnished</td>\n",
       "      <td>3</td>\n",
       "      <td>2</td>\n",
       "      <td>3.0</td>\n",
       "      <td>yes</td>\n",
       "    </tr>\n",
       "    <tr>\n",
       "      <th>...</th>\n",
       "      <td>...</td>\n",
       "      <td>...</td>\n",
       "      <td>...</td>\n",
       "      <td>...</td>\n",
       "      <td>...</td>\n",
       "      <td>...</td>\n",
       "      <td>...</td>\n",
       "      <td>...</td>\n",
       "      <td>...</td>\n",
       "      <td>...</td>\n",
       "      <td>...</td>\n",
       "      <td>...</td>\n",
       "      <td>...</td>\n",
       "      <td>...</td>\n",
       "    </tr>\n",
       "    <tr>\n",
       "      <th>9502</th>\n",
       "      <td>2 BHK Flat</td>\n",
       "      <td>2.25</td>\n",
       "      <td>Chembur</td>\n",
       "      <td>960</td>\n",
       "      <td>23440.0</td>\n",
       "      <td>5</td>\n",
       "      <td>recent construction</td>\n",
       "      <td>Higherof 7 floors</td>\n",
       "      <td>Higher</td>\n",
       "      <td>Semi Furnished</td>\n",
       "      <td>2</td>\n",
       "      <td>2</td>\n",
       "      <td>0.0</td>\n",
       "      <td>yes</td>\n",
       "    </tr>\n",
       "    <tr>\n",
       "      <th>9503</th>\n",
       "      <td>3 BHK Flat</td>\n",
       "      <td>2.85</td>\n",
       "      <td>Chembur</td>\n",
       "      <td>865</td>\n",
       "      <td>32950.0</td>\n",
       "      <td>5</td>\n",
       "      <td>recent construction</td>\n",
       "      <td>Higherof 16 floors</td>\n",
       "      <td>Higher</td>\n",
       "      <td>Semi Furnished</td>\n",
       "      <td>3</td>\n",
       "      <td>3</td>\n",
       "      <td>0.0</td>\n",
       "      <td>yes</td>\n",
       "    </tr>\n",
       "    <tr>\n",
       "      <th>9504</th>\n",
       "      <td>3 BHK Flat</td>\n",
       "      <td>2.60</td>\n",
       "      <td>Mulund West</td>\n",
       "      <td>886</td>\n",
       "      <td>29340.0</td>\n",
       "      <td>20</td>\n",
       "      <td>modern property</td>\n",
       "      <td>Higherof 28 floors</td>\n",
       "      <td>Higher</td>\n",
       "      <td>Fully Furnished</td>\n",
       "      <td>3</td>\n",
       "      <td>3</td>\n",
       "      <td>0.0</td>\n",
       "      <td>yes</td>\n",
       "    </tr>\n",
       "    <tr>\n",
       "      <th>9506</th>\n",
       "      <td>2 BHK Flat</td>\n",
       "      <td>0.65</td>\n",
       "      <td>Mira Road East</td>\n",
       "      <td>625</td>\n",
       "      <td>10400.0</td>\n",
       "      <td>20</td>\n",
       "      <td>modern property</td>\n",
       "      <td>Lowerof 4 floors</td>\n",
       "      <td>Lower</td>\n",
       "      <td>Semi Furnished</td>\n",
       "      <td>2</td>\n",
       "      <td>2</td>\n",
       "      <td>0.0</td>\n",
       "      <td>no</td>\n",
       "    </tr>\n",
       "    <tr>\n",
       "      <th>9507</th>\n",
       "      <td>1 BHK Flat</td>\n",
       "      <td>0.20</td>\n",
       "      <td>Naigaon East</td>\n",
       "      <td>280</td>\n",
       "      <td>7140.0</td>\n",
       "      <td>10</td>\n",
       "      <td>recent construction</td>\n",
       "      <td>Lowerof 7 floors</td>\n",
       "      <td>Lower</td>\n",
       "      <td>Semi Furnished</td>\n",
       "      <td>1</td>\n",
       "      <td>1</td>\n",
       "      <td>0.0</td>\n",
       "      <td>no</td>\n",
       "    </tr>\n",
       "  </tbody>\n",
       "</table>\n",
       "<p>8652 rows × 14 columns</p>\n",
       "</div>"
      ],
      "text/plain": [
       "       flat_type  flat_price        location1  buildupArea_sqft  \\\n",
       "0     3 BHK Flat        3.95  Kanjurmarg West              1550   \n",
       "1     1 BHK Flat        0.19          Palghar               630   \n",
       "2     1 BHK Flat        0.73   Mira Road East               580   \n",
       "3     1 BHK Flat        1.10     Dahisar East               410   \n",
       "4     3 BHK Flat        2.25           others              1052   \n",
       "...          ...         ...              ...               ...   \n",
       "9502  2 BHK Flat        2.25          Chembur               960   \n",
       "9503  3 BHK Flat        2.85          Chembur               865   \n",
       "9504  3 BHK Flat        2.60      Mulund West               886   \n",
       "9506  2 BHK Flat        0.65   Mira Road East               625   \n",
       "9507  1 BHK Flat        0.20     Naigaon East               280   \n",
       "\n",
       "      avg_price_thousands  new_age       age_of_propert         which_floor  \\\n",
       "0                 25480.0        3  recent construction  Higherof 50 floors   \n",
       "1                  3020.0        3  recent construction   Middleof 4 floors   \n",
       "2                 12590.0        1     new construction   Lowerof 25 floors   \n",
       "3                 26830.0        1     new construction  Higherof 35 floors   \n",
       "4                 21390.0        1     new construction   Lowerof 26 floors   \n",
       "...                   ...      ...                  ...                 ...   \n",
       "9502              23440.0        5  recent construction   Higherof 7 floors   \n",
       "9503              32950.0        5  recent construction  Higherof 16 floors   \n",
       "9504              29340.0       20      modern property  Higherof 28 floors   \n",
       "9506              10400.0       20      modern property    Lowerof 4 floors   \n",
       "9507               7140.0       10  recent construction    Lowerof 7 floors   \n",
       "\n",
       "     floor_type       furnishing  bedrooms  bathrooms  balcony parking  \n",
       "0        Higher  Fully Furnished         3          2      1.0     yes  \n",
       "1        Middle      Unfurnished         1          1      2.0     yes  \n",
       "2         Lower   Semi Furnished         1          2      2.0      no  \n",
       "3        Higher   Semi Furnished         1          2      1.0     yes  \n",
       "4         Lower   Semi Furnished         3          2      3.0     yes  \n",
       "...         ...              ...       ...        ...      ...     ...  \n",
       "9502     Higher   Semi Furnished         2          2      0.0     yes  \n",
       "9503     Higher   Semi Furnished         3          3      0.0     yes  \n",
       "9504     Higher  Fully Furnished         3          3      0.0     yes  \n",
       "9506      Lower   Semi Furnished         2          2      0.0      no  \n",
       "9507      Lower   Semi Furnished         1          1      0.0      no  \n",
       "\n",
       "[8652 rows x 14 columns]"
      ]
     },
     "execution_count": 112,
     "metadata": {},
     "output_type": "execute_result"
    }
   ],
   "source": [
    "df"
   ]
  },
  {
   "cell_type": "code",
   "execution_count": 115,
   "metadata": {},
   "outputs": [
    {
     "data": {
      "text/plain": [
       "bedrooms\n",
       "1    2474\n",
       "2     180\n",
       "Name: count, dtype: int64"
      ]
     },
     "execution_count": 115,
     "metadata": {},
     "output_type": "execute_result"
    }
   ],
   "source": [
    "df[df['flat_type']=='1 BHK Flat']['bedrooms'].value_counts()"
   ]
  },
  {
   "cell_type": "code",
   "execution_count": 128,
   "metadata": {},
   "outputs": [],
   "source": [
    "a = df[(df['flat_type']=='1 BHK Flat') & (df['bedrooms'] == 2)].index\n",
    "df.drop(index=a,inplace=True)"
   ]
  },
  {
   "cell_type": "code",
   "execution_count": 116,
   "metadata": {},
   "outputs": [
    {
     "data": {
      "text/plain": [
       "bedrooms\n",
       "2    3002\n",
       "1      28\n",
       "3       8\n",
       "4       1\n",
       "Name: count, dtype: int64"
      ]
     },
     "execution_count": 116,
     "metadata": {},
     "output_type": "execute_result"
    }
   ],
   "source": [
    "df[df['flat_type']=='2 BHK Flat']['bedrooms'].value_counts()"
   ]
  },
  {
   "cell_type": "code",
   "execution_count": 130,
   "metadata": {},
   "outputs": [],
   "source": [
    "a = df[(df['flat_type']=='2 BHK Flat') & (df['bedrooms'] >=3)].index\n",
    "df.drop(index=a,inplace=True)"
   ]
  },
  {
   "cell_type": "code",
   "execution_count": 117,
   "metadata": {},
   "outputs": [
    {
     "data": {
      "text/plain": [
       "bedrooms\n",
       "3    2187\n",
       "2      40\n",
       "4      29\n",
       "1       2\n",
       "5       2\n",
       "Name: count, dtype: int64"
      ]
     },
     "execution_count": 117,
     "metadata": {},
     "output_type": "execute_result"
    }
   ],
   "source": [
    "df[df['flat_type']=='3 BHK Flat']['bedrooms'].value_counts()"
   ]
  },
  {
   "cell_type": "code",
   "execution_count": 133,
   "metadata": {},
   "outputs": [],
   "source": [
    "a = df[(df['flat_type']=='3 BHK Flat') & (df['bedrooms'] >= 4)].index\n",
    "df.drop(index=a,inplace=True)"
   ]
  },
  {
   "cell_type": "code",
   "execution_count": 118,
   "metadata": {},
   "outputs": [
    {
     "data": {
      "text/plain": [
       "bedrooms\n",
       "4    555\n",
       "5     38\n",
       "3     18\n",
       "2      2\n",
       "6      2\n",
       "Name: count, dtype: int64"
      ]
     },
     "execution_count": 118,
     "metadata": {},
     "output_type": "execute_result"
    }
   ],
   "source": [
    "df[df['flat_type']=='4 BHK Flat']['bedrooms'].value_counts()"
   ]
  },
  {
   "cell_type": "code",
   "execution_count": 136,
   "metadata": {},
   "outputs": [],
   "source": [
    "a = df[(df['flat_type']=='4 BHK Flat') & (df['bedrooms'] >= 5)].index\n",
    "df.drop(index=a,inplace=True)"
   ]
  },
  {
   "cell_type": "code",
   "execution_count": 119,
   "metadata": {},
   "outputs": [
    {
     "data": {
      "text/plain": [
       "bedrooms\n",
       "5    52\n",
       "6     7\n",
       "2     1\n",
       "4     1\n",
       "Name: count, dtype: int64"
      ]
     },
     "execution_count": 119,
     "metadata": {},
     "output_type": "execute_result"
    }
   ],
   "source": [
    "df[df['flat_type']=='5 BHK Flat']['bedrooms'].value_counts()"
   ]
  },
  {
   "cell_type": "code",
   "execution_count": 138,
   "metadata": {},
   "outputs": [],
   "source": [
    "a = df[(df['flat_type']=='5 BHK Flat') & (df['bedrooms'] >= 6)].index\n",
    "df.drop(index=a,inplace=True)"
   ]
  },
  {
   "cell_type": "code",
   "execution_count": 120,
   "metadata": {},
   "outputs": [
    {
     "data": {
      "text/plain": [
       "bedrooms\n",
       "6    22\n",
       "5     1\n",
       "Name: count, dtype: int64"
      ]
     },
     "execution_count": 120,
     "metadata": {},
     "output_type": "execute_result"
    }
   ],
   "source": [
    "df[df['flat_type']=='6 BHK Flat']['bedrooms'].value_counts()"
   ]
  },
  {
   "cell_type": "code",
   "execution_count": 142,
   "metadata": {},
   "outputs": [
    {
     "data": {
      "text/plain": [
       "1068"
      ]
     },
     "execution_count": 142,
     "metadata": {},
     "output_type": "execute_result"
    }
   ],
   "source": [
    "df['balcony'].isna().sum()"
   ]
  },
  {
   "cell_type": "code",
   "execution_count": 148,
   "metadata": {},
   "outputs": [],
   "source": [
    "temp = df[~df['balcony'].isnull()][['bedrooms','bathrooms','balcony']]"
   ]
  },
  {
   "cell_type": "code",
   "execution_count": 170,
   "metadata": {},
   "outputs": [],
   "source": [
    "from sklearn.linear_model import LogisticRegression\n",
    "from sklearn.neighbors import KNeighborsClassifier"
   ]
  },
  {
   "cell_type": "code",
   "execution_count": 171,
   "metadata": {},
   "outputs": [
    {
     "data": {
      "text/html": [
       "<style>#sk-container-id-3 {color: black;}#sk-container-id-3 pre{padding: 0;}#sk-container-id-3 div.sk-toggleable {background-color: white;}#sk-container-id-3 label.sk-toggleable__label {cursor: pointer;display: block;width: 100%;margin-bottom: 0;padding: 0.3em;box-sizing: border-box;text-align: center;}#sk-container-id-3 label.sk-toggleable__label-arrow:before {content: \"▸\";float: left;margin-right: 0.25em;color: #696969;}#sk-container-id-3 label.sk-toggleable__label-arrow:hover:before {color: black;}#sk-container-id-3 div.sk-estimator:hover label.sk-toggleable__label-arrow:before {color: black;}#sk-container-id-3 div.sk-toggleable__content {max-height: 0;max-width: 0;overflow: hidden;text-align: left;background-color: #f0f8ff;}#sk-container-id-3 div.sk-toggleable__content pre {margin: 0.2em;color: black;border-radius: 0.25em;background-color: #f0f8ff;}#sk-container-id-3 input.sk-toggleable__control:checked~div.sk-toggleable__content {max-height: 200px;max-width: 100%;overflow: auto;}#sk-container-id-3 input.sk-toggleable__control:checked~label.sk-toggleable__label-arrow:before {content: \"▾\";}#sk-container-id-3 div.sk-estimator input.sk-toggleable__control:checked~label.sk-toggleable__label {background-color: #d4ebff;}#sk-container-id-3 div.sk-label input.sk-toggleable__control:checked~label.sk-toggleable__label {background-color: #d4ebff;}#sk-container-id-3 input.sk-hidden--visually {border: 0;clip: rect(1px 1px 1px 1px);clip: rect(1px, 1px, 1px, 1px);height: 1px;margin: -1px;overflow: hidden;padding: 0;position: absolute;width: 1px;}#sk-container-id-3 div.sk-estimator {font-family: monospace;background-color: #f0f8ff;border: 1px dotted black;border-radius: 0.25em;box-sizing: border-box;margin-bottom: 0.5em;}#sk-container-id-3 div.sk-estimator:hover {background-color: #d4ebff;}#sk-container-id-3 div.sk-parallel-item::after {content: \"\";width: 100%;border-bottom: 1px solid gray;flex-grow: 1;}#sk-container-id-3 div.sk-label:hover label.sk-toggleable__label {background-color: #d4ebff;}#sk-container-id-3 div.sk-serial::before {content: \"\";position: absolute;border-left: 1px solid gray;box-sizing: border-box;top: 0;bottom: 0;left: 50%;z-index: 0;}#sk-container-id-3 div.sk-serial {display: flex;flex-direction: column;align-items: center;background-color: white;padding-right: 0.2em;padding-left: 0.2em;position: relative;}#sk-container-id-3 div.sk-item {position: relative;z-index: 1;}#sk-container-id-3 div.sk-parallel {display: flex;align-items: stretch;justify-content: center;background-color: white;position: relative;}#sk-container-id-3 div.sk-item::before, #sk-container-id-3 div.sk-parallel-item::before {content: \"\";position: absolute;border-left: 1px solid gray;box-sizing: border-box;top: 0;bottom: 0;left: 50%;z-index: -1;}#sk-container-id-3 div.sk-parallel-item {display: flex;flex-direction: column;z-index: 1;position: relative;background-color: white;}#sk-container-id-3 div.sk-parallel-item:first-child::after {align-self: flex-end;width: 50%;}#sk-container-id-3 div.sk-parallel-item:last-child::after {align-self: flex-start;width: 50%;}#sk-container-id-3 div.sk-parallel-item:only-child::after {width: 0;}#sk-container-id-3 div.sk-dashed-wrapped {border: 1px dashed gray;margin: 0 0.4em 0.5em 0.4em;box-sizing: border-box;padding-bottom: 0.4em;background-color: white;}#sk-container-id-3 div.sk-label label {font-family: monospace;font-weight: bold;display: inline-block;line-height: 1.2em;}#sk-container-id-3 div.sk-label-container {text-align: center;}#sk-container-id-3 div.sk-container {/* jupyter's `normalize.less` sets `[hidden] { display: none; }` but bootstrap.min.css set `[hidden] { display: none !important; }` so we also need the `!important` here to be able to override the default hidden behavior on the sphinx rendered scikit-learn.org. See: https://github.com/scikit-learn/scikit-learn/issues/21755 */display: inline-block !important;position: relative;}#sk-container-id-3 div.sk-text-repr-fallback {display: none;}</style><div id=\"sk-container-id-3\" class=\"sk-top-container\"><div class=\"sk-text-repr-fallback\"><pre>KNeighborsClassifier(n_neighbors=3)</pre><b>In a Jupyter environment, please rerun this cell to show the HTML representation or trust the notebook. <br />On GitHub, the HTML representation is unable to render, please try loading this page with nbviewer.org.</b></div><div class=\"sk-container\" hidden><div class=\"sk-item\"><div class=\"sk-estimator sk-toggleable\"><input class=\"sk-toggleable__control sk-hidden--visually\" id=\"sk-estimator-id-3\" type=\"checkbox\" checked><label for=\"sk-estimator-id-3\" class=\"sk-toggleable__label sk-toggleable__label-arrow\">KNeighborsClassifier</label><div class=\"sk-toggleable__content\"><pre>KNeighborsClassifier(n_neighbors=3)</pre></div></div></div></div></div>"
      ],
      "text/plain": [
       "KNeighborsClassifier(n_neighbors=3)"
      ]
     },
     "execution_count": 171,
     "metadata": {},
     "output_type": "execute_result"
    }
   ],
   "source": [
    "lr = KNeighborsClassifier(n_neighbors=3)\n",
    "lr.fit(temp.iloc[:,0:2],temp.iloc[:,-1])"
   ]
  },
  {
   "cell_type": "code",
   "execution_count": 175,
   "metadata": {},
   "outputs": [],
   "source": [
    "a = df[df['balcony'].isnull()][['bedrooms','bathrooms']].values"
   ]
  },
  {
   "cell_type": "code",
   "execution_count": 177,
   "metadata": {},
   "outputs": [
    {
     "name": "stderr",
     "output_type": "stream",
     "text": [
      "c:\\Users\\sanjay\\AppData\\Local\\Programs\\Python\\Python312\\Lib\\site-packages\\sklearn\\base.py:465: UserWarning: X does not have valid feature names, but KNeighborsClassifier was fitted with feature names\n",
      "  warnings.warn(\n"
     ]
    }
   ],
   "source": [
    "pr = lr.predict(a)"
   ]
  },
  {
   "cell_type": "code",
   "execution_count": 179,
   "metadata": {},
   "outputs": [
    {
     "data": {
      "text/html": [
       "<div>\n",
       "<style scoped>\n",
       "    .dataframe tbody tr th:only-of-type {\n",
       "        vertical-align: middle;\n",
       "    }\n",
       "\n",
       "    .dataframe tbody tr th {\n",
       "        vertical-align: top;\n",
       "    }\n",
       "\n",
       "    .dataframe thead th {\n",
       "        text-align: right;\n",
       "    }\n",
       "</style>\n",
       "<table border=\"1\" class=\"dataframe\">\n",
       "  <thead>\n",
       "    <tr style=\"text-align: right;\">\n",
       "      <th></th>\n",
       "      <th>bedrooms</th>\n",
       "      <th>bathrooms</th>\n",
       "      <th>pred</th>\n",
       "    </tr>\n",
       "  </thead>\n",
       "  <tbody>\n",
       "    <tr>\n",
       "      <th>27</th>\n",
       "      <td>3</td>\n",
       "      <td>1</td>\n",
       "      <td>0.0</td>\n",
       "    </tr>\n",
       "    <tr>\n",
       "      <th>36</th>\n",
       "      <td>1</td>\n",
       "      <td>2</td>\n",
       "      <td>1.0</td>\n",
       "    </tr>\n",
       "    <tr>\n",
       "      <th>46</th>\n",
       "      <td>1</td>\n",
       "      <td>2</td>\n",
       "      <td>1.0</td>\n",
       "    </tr>\n",
       "    <tr>\n",
       "      <th>89</th>\n",
       "      <td>2</td>\n",
       "      <td>2</td>\n",
       "      <td>0.0</td>\n",
       "    </tr>\n",
       "    <tr>\n",
       "      <th>93</th>\n",
       "      <td>3</td>\n",
       "      <td>1</td>\n",
       "      <td>0.0</td>\n",
       "    </tr>\n",
       "    <tr>\n",
       "      <th>...</th>\n",
       "      <td>...</td>\n",
       "      <td>...</td>\n",
       "      <td>...</td>\n",
       "    </tr>\n",
       "    <tr>\n",
       "      <th>9461</th>\n",
       "      <td>1</td>\n",
       "      <td>2</td>\n",
       "      <td>1.0</td>\n",
       "    </tr>\n",
       "    <tr>\n",
       "      <th>9467</th>\n",
       "      <td>1</td>\n",
       "      <td>2</td>\n",
       "      <td>1.0</td>\n",
       "    </tr>\n",
       "    <tr>\n",
       "      <th>9474</th>\n",
       "      <td>2</td>\n",
       "      <td>1</td>\n",
       "      <td>0.0</td>\n",
       "    </tr>\n",
       "    <tr>\n",
       "      <th>9490</th>\n",
       "      <td>1</td>\n",
       "      <td>1</td>\n",
       "      <td>0.0</td>\n",
       "    </tr>\n",
       "    <tr>\n",
       "      <th>9499</th>\n",
       "      <td>3</td>\n",
       "      <td>3</td>\n",
       "      <td>1.0</td>\n",
       "    </tr>\n",
       "  </tbody>\n",
       "</table>\n",
       "<p>1068 rows × 3 columns</p>\n",
       "</div>"
      ],
      "text/plain": [
       "      bedrooms  bathrooms  pred\n",
       "27           3          1   0.0\n",
       "36           1          2   1.0\n",
       "46           1          2   1.0\n",
       "89           2          2   0.0\n",
       "93           3          1   0.0\n",
       "...        ...        ...   ...\n",
       "9461         1          2   1.0\n",
       "9467         1          2   1.0\n",
       "9474         2          1   0.0\n",
       "9490         1          1   0.0\n",
       "9499         3          3   1.0\n",
       "\n",
       "[1068 rows x 3 columns]"
      ]
     },
     "execution_count": 179,
     "metadata": {},
     "output_type": "execute_result"
    }
   ],
   "source": [
    "x = df[df['balcony'].isnull()][['bedrooms','bathrooms']]\n",
    "x['pred'] = pr\n",
    "x"
   ]
  },
  {
   "cell_type": "code",
   "execution_count": 189,
   "metadata": {},
   "outputs": [
    {
     "data": {
      "text/plain": [
       "'balcony'"
      ]
     },
     "execution_count": 189,
     "metadata": {},
     "output_type": "execute_result"
    }
   ],
   "source": [
    "df.columns[12]"
   ]
  },
  {
   "cell_type": "code",
   "execution_count": 193,
   "metadata": {},
   "outputs": [],
   "source": [
    "df.loc[x.index,df.columns[12]] = pr"
   ]
  },
  {
   "cell_type": "code",
   "execution_count": 195,
   "metadata": {},
   "outputs": [
    {
     "data": {
      "text/plain": [
       "balcony\n",
       "0.0    5190\n",
       "1.0    1406\n",
       "2.0     900\n",
       "3.0     691\n",
       "4.0     164\n",
       "5.0      34\n",
       "Name: count, dtype: int64"
      ]
     },
     "execution_count": 195,
     "metadata": {},
     "output_type": "execute_result"
    }
   ],
   "source": [
    "df['balcony'].value_counts()"
   ]
  },
  {
   "cell_type": "code",
   "execution_count": 196,
   "metadata": {},
   "outputs": [
    {
     "data": {
      "text/plain": [
       "0"
      ]
     },
     "execution_count": 196,
     "metadata": {},
     "output_type": "execute_result"
    }
   ],
   "source": [
    "df['balcony'].isna().sum()"
   ]
  },
  {
   "cell_type": "code",
   "execution_count": 198,
   "metadata": {},
   "outputs": [],
   "source": [
    "df['balcony'] = df['balcony'].astype(int)"
   ]
  },
  {
   "cell_type": "code",
   "execution_count": 201,
   "metadata": {},
   "outputs": [],
   "source": [
    "df.drop(columns=['new_age','which_floor'],inplace=True)"
   ]
  },
  {
   "cell_type": "code",
   "execution_count": 203,
   "metadata": {},
   "outputs": [
    {
     "data": {
      "text/plain": [
       "(8385, 12)"
      ]
     },
     "execution_count": 203,
     "metadata": {},
     "output_type": "execute_result"
    }
   ],
   "source": [
    "df.shape"
   ]
  },
  {
   "cell_type": "code",
   "execution_count": 204,
   "metadata": {},
   "outputs": [
    {
     "name": "stdout",
     "output_type": "stream",
     "text": [
      "<class 'pandas.core.frame.DataFrame'>\n",
      "Index: 8385 entries, 0 to 9507\n",
      "Data columns (total 12 columns):\n",
      " #   Column               Non-Null Count  Dtype  \n",
      "---  ------               --------------  -----  \n",
      " 0   flat_type            8385 non-null   object \n",
      " 1   flat_price           8385 non-null   float64\n",
      " 2   location1            8385 non-null   object \n",
      " 3   buildupArea_sqft     8385 non-null   int64  \n",
      " 4   avg_price_thousands  8385 non-null   float64\n",
      " 5   age_of_propert       8385 non-null   object \n",
      " 6   floor_type           8350 non-null   object \n",
      " 7   furnishing           8385 non-null   object \n",
      " 8   bedrooms             8385 non-null   int64  \n",
      " 9   bathrooms            8385 non-null   int64  \n",
      " 10  balcony              8385 non-null   int32  \n",
      " 11  parking              8385 non-null   object \n",
      "dtypes: float64(2), int32(1), int64(3), object(6)\n",
      "memory usage: 1.1+ MB\n"
     ]
    }
   ],
   "source": [
    "df.info()"
   ]
  },
  {
   "cell_type": "code",
   "execution_count": 205,
   "metadata": {},
   "outputs": [],
   "source": [
    "df.to_csv('mumbai_flats_cleaned_v4.csv',index=False)"
   ]
  },
  {
   "cell_type": "code",
   "execution_count": null,
   "metadata": {},
   "outputs": [],
   "source": []
  },
  {
   "cell_type": "code",
   "execution_count": null,
   "metadata": {},
   "outputs": [],
   "source": []
  }
 ],
 "metadata": {
  "kernelspec": {
   "display_name": "Python 3",
   "language": "python",
   "name": "python3"
  },
  "language_info": {
   "codemirror_mode": {
    "name": "ipython",
    "version": 3
   },
   "file_extension": ".py",
   "mimetype": "text/x-python",
   "name": "python",
   "nbconvert_exporter": "python",
   "pygments_lexer": "ipython3",
   "version": "3.12.1"
  }
 },
 "nbformat": 4,
 "nbformat_minor": 2
}
